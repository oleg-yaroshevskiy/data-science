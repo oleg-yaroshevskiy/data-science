{
 "cells": [
  {
   "cell_type": "markdown",
   "metadata": {},
   "source": [
    "# Тематическая модель [Постнауки](http://postnauka.ru)\n",
    "## Peer Review (optional)"
   ]
  },
  {
   "cell_type": "markdown",
   "metadata": {},
   "source": [
    "В этом задании мы применим аппарат тематического моделирования к коллекции текстовых записей видеолекций, скачанных с сайта Постнаука. Мы будем визуализировать модель и создавать прототип тематического навигатора по коллекции. В коллекции 1728 документов, размер словаря - 38467 слов. Слова лемматизированы, то есть приведены к начальной форме, с помощью программы [mystem](https://tech.yandex.ru/mystem/), коллекция сохранена в [формате vowpal wabbit](http://docs.bigartm.org/en/latest/formats.html). В каждой строке до первой черты записана информация о документе (ссылка на страницу с лекцией), после первой черты следует описание документа. Используются две модальности - текстовая (\"text\") и модальность авторов (\"author\"); у каждого документа один автор."
   ]
  },
  {
   "cell_type": "markdown",
   "metadata": {},
   "source": [
    "Для выполнения задания понадобится библиотека [BigARTM](http://docs.bigartm.org). В демонстрации показан пример использования библиотеки версии 0.7.4, на сайте предлагается скачивать версию 0.8.0. В новой версии изменены принципы работы со словарями: они вынесены в отдельный класс (пример в [Release Notes](http://docs.bigartm.org/en/stable/release_notes/python.html)). Строить модель и извлекать ее параметры нужно так же, как показано в демонстрации. Вы можете использовать [предыдущий релиз](http://bigartm.readthedocs.io/en/v0.7.6/download.html) или [новый релиз](http://docs.bigartm.org/en/latest/download.html) на ваше усмотрение.\n",
    "\n",
    "Спецификации всех функций вы можете смотреть на странице [Python API](http://bigartm.readthedocs.io/en/stable/python_interface.html)."
   ]
  },
  {
   "cell_type": "code",
   "execution_count": 1,
   "metadata": {
    "collapsed": false
   },
   "outputs": [],
   "source": [
    "import artm"
   ]
  },
  {
   "cell_type": "code",
   "execution_count": 2,
   "metadata": {
    "collapsed": true
   },
   "outputs": [],
   "source": [
    "from matplotlib import pyplot as plt\n",
    "import seaborn\n",
    "%matplotlib inline\n",
    "seaborn.set_style(\"whitegrid\", {'axes.grid' : False})"
   ]
  },
  {
   "cell_type": "code",
   "execution_count": 3,
   "metadata": {
    "collapsed": true
   },
   "outputs": [],
   "source": [
    "import numpy as np\n",
    "import pandas as pd"
   ]
  },
  {
   "cell_type": "markdown",
   "metadata": {},
   "source": [
    "##### Считывание данных"
   ]
  },
  {
   "cell_type": "markdown",
   "metadata": {},
   "source": [
    "Создайте объект класса artm.BatchVectorizer, который будет ссылаться на директорию с пакетами данных (батчами). Чтобы библиотека могла преобразовать текстовый файл в батчи, создайте пустую директорию и укажите ее название в параметре target_folder. Размер батча для небольших коллекций (как наша) не важен, вы можете указать любой."
   ]
  },
  {
   "cell_type": "code",
   "execution_count": 4,
   "metadata": {
    "collapsed": true
   },
   "outputs": [],
   "source": [
    "batch_vectorizer = artm.BatchVectorizer(data_path=\"lectures.txt\", data_format=\"vowpal_wabbit\", target_folder=\"postnauka_batches\", \n",
    "                                       batch_size=100)"
   ]
  },
  {
   "cell_type": "code",
   "execution_count": 5,
   "metadata": {
    "collapsed": true
   },
   "outputs": [],
   "source": [
    "batch_vectorizer = artm.BatchVectorizer(data_path=\"postnauka_batches\", data_format='batches')"
   ]
  },
  {
   "cell_type": "markdown",
   "metadata": {},
   "source": [
    "##### Инициализация модели"
   ]
  },
  {
   "cell_type": "markdown",
   "metadata": {},
   "source": [
    "Создайте объект класса artm.Model с 30 темами, именами тем, указанными ниже и единичными весами обеих модальностей. Количество тем выбрано не очень большим, чтобы вам было удобнее работать с темами. На этой коллекции можно строить и большее число тем, тогда они будут более узко специализированы."
   ]
  },
  {
   "cell_type": "code",
   "execution_count": 6,
   "metadata": {
    "collapsed": true
   },
   "outputs": [],
   "source": [
    "T = 30   # количество тем\n",
    "topic_names=[\"sbj\"+str(i) for i in range(T-1)]+[\"bcg\"]\n",
    "# Ваш код\n",
    "model_artm = artm.ARTM(dictionary=batch_vectorizer.dictionary, \n",
    "                       num_topics=T, \n",
    "                       topic_names=topic_names, \n",
    "                       class_ids={\"text\":1, \"author\":1},\n",
    "                       seed=-1,\n",
    "                       cache_theta=True,\n",
    "                       num_document_passes=5)"
   ]
  },
  {
   "cell_type": "markdown",
   "metadata": {},
   "source": [
    "Мы будем строить 29 предметных тем и одну фоновую. \n",
    "\n",
    "Соберите словарь с помощью метода gather_dictionary и инициализируйте модель, указав random_seed=1. Обязательно укажите свое название словаря, оно понадобится при добавлении регуляризаторов."
   ]
  },
  {
   "cell_type": "markdown",
   "metadata": {},
   "source": [
    "##### Добавление score"
   ]
  },
  {
   "cell_type": "markdown",
   "metadata": {},
   "source": [
    "Создайте два измерителя качества artm.TopTokensScore - по одному для каждой модальности; количество токенов 15. Названия для score придумайте самостоятельно."
   ]
  },
  {
   "cell_type": "code",
   "execution_count": 7,
   "metadata": {
    "collapsed": true
   },
   "outputs": [],
   "source": [
    "# Ваш код\n",
    "model_artm.scores.add(artm.TopTokensScore(name=\"top_words\", num_tokens=15, class_id=\"text\"))\n",
    "model_artm.scores.add(artm.TopTokensScore(name=\"top_authors\", num_tokens=15, class_id=\"author\"))"
   ]
  },
  {
   "cell_type": "markdown",
   "metadata": {},
   "source": [
    "##### Построение модели"
   ]
  },
  {
   "cell_type": "markdown",
   "metadata": {},
   "source": [
    "Мы будем строить модель в два этапа: сначала добавим сглаживающий регуляризатор фоновой темы и настроим параметры модели, затем - добавим разреживающий регуляризатор предметрых тем и выполним еще несколько итераций. Так мы сможем получить наиболее чистые от фоновых слов предметные темы. Сглаживающий и разреживающий регуляризаторы задаются одним и тем же классом artm.SmoothSparsePhiRegularizer: если коэффициент tau положительный, то регуляризатор будет сглаживающий, если отрицательный - разреживающий.\n",
    "\n",
    "Если вы хотите подробнее разобраться, как выполняется регуляризация тематической модели в BigARTM, вы можете прочитать [статью](https://s3-eu-west-1.amazonaws.com/artm/voron-potap14artm-rus.pdf), раздел 4."
   ]
  },
  {
   "cell_type": "markdown",
   "metadata": {},
   "source": [
    "Добавьте сглаживающий регуляризатор с коэффициентом tau = 1e5, указав название своего словаря в dictionary, модальность текста в class_ids и тему \"bcg\" в topic_names."
   ]
  },
  {
   "cell_type": "code",
   "execution_count": 8,
   "metadata": {
    "collapsed": true
   },
   "outputs": [],
   "source": [
    "# Ваш код\n",
    "model_artm.regularizers.add(artm.SmoothSparsePhiRegularizer(name='SparsePhi', \n",
    "                                                            tau=1e5,\n",
    "                                                            dictionary=batch_vectorizer.dictionary,\n",
    "                                                            class_ids='text',\n",
    "                                                            topic_names='bcg'))"
   ]
  },
  {
   "cell_type": "markdown",
   "metadata": {},
   "source": [
    "Выполните 30 итераций по коллекции (num_collection_passes), количество внутренних итераций установите равным 1. Используйте метод fit_offline модели."
   ]
  },
  {
   "cell_type": "code",
   "execution_count": 9,
   "metadata": {
    "collapsed": false,
    "scrolled": true
   },
   "outputs": [
    {
     "name": "stdout",
     "output_type": "stream",
     "text": [
      "\n"
     ]
    }
   ],
   "source": [
    "# Ваш код\n",
    "model_artm.fit_offline(batch_vectorizer=batch_vectorizer, num_collection_passes=30)"
   ]
  },
  {
   "cell_type": "markdown",
   "metadata": {},
   "source": [
    "Добавьте разреживающий регуляризатор с коэффициентом tau=-1e5, указав название своего словаря, модальность текста в class_ids и все темы \"sbjX\" в topic_names."
   ]
  },
  {
   "cell_type": "code",
   "execution_count": 10,
   "metadata": {
    "collapsed": false
   },
   "outputs": [
    {
     "name": "stdout",
     "output_type": "stream",
     "text": [
      "sbj0:  быть что это этот который как век свой власть они его тот весь один все\n",
      "sbj1:  быть что планета это земля этот который мочь очень они как звезда система такой атмосфера\n",
      "sbj2:  система этот который быть что это такой время для как один или другой они если\n",
      "sbj3:  как наука культура это рассказывать что какой понятие который этот кандидат или человек мир другой\n",
      "sbj4:  право что этот быть это который такой как вещь тот если или мочь свой для\n",
      "sbj5:  материал быть это этот что структура который как для такой мочь очень можно свойство свет\n",
      "sbj6:  что это быть который этот она как фильм они текст книга литература очень мочь тот\n",
      "sbj7:  быть что который этот человек они это как год его тот или свой смерть такой\n",
      "sbj8:  это который этот быть метод какой как что химический новый рассказывать соединение наука реакция при\n",
      "sbj9:  быть частица что это этот который квантовый теория взаимодействие физика как они весь поле кварк\n",
      "sbj10:  быть год это что который война россия этот русский они как первый германия советский робот\n",
      "sbj11:  что человек быть это ребенок они этот который мочь очень как жизнь свой женщина такой\n",
      "sbj12:  что мозг быть который это этот они как мочь животное нейрон вид растение год очень\n",
      "sbj13:  это который быть этот век что они как христианский культура государство восток история другой территория\n",
      "sbj14:  что быть звезда галактика это этот который такой черный вселенная объект очень дыра мочь год\n",
      "sbj15:  что быть информация или память мочь задача который этот это данные человек как какой-то наш\n",
      "sbj16:  быть они это что очень самый этот человек как который весь большой другой все такой\n",
      "sbj17:  это что быть который политический философия как этот человек философский философ говорить тот свой его\n",
      "sbj18:  что быть слово это который этот словарь такой как текст если значение или так мочь\n",
      "sbj19:  что быть это этот как революция который они человек она говорить французский какой-то свой тот\n",
      "sbj20:  город как который что это быть человек новый этот современный для сеть история тот очень\n",
      "sbj21:  это быть что этот который заболевание или пациент болезнь мочь лечение человек врач как боль\n",
      "sbj22:  что как этот это знание быть который теория социальный социология некоторый объект мир смысл тот\n",
      "sbj23:  это быть что который этот они как система очень функция мочь такой если для какой-то\n",
      "sbj24:  этот быть который что это как миф человек бог мир представление свой весь время такой\n",
      "sbj25:  быть который этот это что программа как очень система такой мочь для год они русский\n",
      "sbj26:  быть что этот который это экономический год решение как страна экономика человек для мочь тот\n",
      "sbj27:  клетка быть это что который этот днк ген они белок как организм мочь такой она\n",
      "sbj28:  быть это этот что который университет температура магнитный такой год как ученый при они мочь\n",
      "bcg:  язык это что быть который слово этот как русский говорить или такой они для например\n"
     ]
    }
   ],
   "source": [
    "# Ваш код\n",
    "for topic_name in model_artm.topic_names:\n",
    "    print topic_name + ': ',\n",
    "    for word in model_artm.score_tracker[\"top_words\"].last_tokens[topic_name]:\n",
    "        print word,\n",
    "    print"
   ]
  },
  {
   "cell_type": "code",
   "execution_count": 11,
   "metadata": {
    "collapsed": false
   },
   "outputs": [],
   "source": [
    "model_artm.regularizers.add(artm.SmoothSparsePhiRegularizer(name='SparsePhi2', \n",
    "                                                            tau=-1e5,\n",
    "                                                            dictionary=batch_vectorizer.dictionary,\n",
    "                                                            class_ids='text',\n",
    "                                                            topic_names=[\"sbj\"+str(i) for i in range(T-1)]))"
   ]
  },
  {
   "cell_type": "markdown",
   "metadata": {},
   "source": [
    "Выполните еще 15 проходов по коллекции."
   ]
  },
  {
   "cell_type": "code",
   "execution_count": 12,
   "metadata": {
    "collapsed": false
   },
   "outputs": [
    {
     "name": "stdout",
     "output_type": "stream",
     "text": [
      "\n"
     ]
    }
   ],
   "source": [
    "# Ваш код\n",
    "#model_artm.regularizers['SparsePhi2'].topic_names = \"sbj\"\n",
    "#model_artm.regularizers['SparsePhi'].tau = 1e5\n",
    "#model_artm.regularizers['SparsePhi2'].tau = -1e5\n",
    "model_artm.fit_offline(batch_vectorizer=batch_vectorizer, num_collection_passes=15)"
   ]
  },
  {
   "cell_type": "markdown",
   "metadata": {},
   "source": [
    "##### Интерпретация тем"
   ]
  },
  {
   "cell_type": "markdown",
   "metadata": {},
   "source": [
    "Используя созданные score, выведите топы слов и топы авторов в темах. Удобнее всего выводить топ слов каждой темы с новой строки, указывая название темы в начале строки, и аналогично с авторами."
   ]
  },
  {
   "cell_type": "code",
   "execution_count": 14,
   "metadata": {
    "collapsed": false
   },
   "outputs": [
    {
     "name": "stdout",
     "output_type": "stream",
     "text": [
      "sbj0:  быть что это этот который как свой век они власть его весь тот все один\n",
      "sbj1:  быть что планета это земля этот который мочь очень они как такой атмосфера система жизнь\n",
      "sbj2:  система этот который что это быть такой время для как один или другой они если\n",
      "sbj3:  как наука рассказывать какой это культура понятие что кандидат доктор каков чем существовать современный когда\n",
      "sbj4:  право что этот быть это который вещь такой как тот если или мочь римский свой\n",
      "sbj5:  материал быть это этот что структура который для как можно мочь такой свет очень свойство\n",
      "sbj6:  что это быть который этот она как фильм они литература текст книга очень тот мочь\n",
      "sbj7:  быть что который этот это человек они как год его тот или свой смерть такой\n",
      "sbj8:  это который этот быть что химический как новый соединение реакция метод вещество для при получать\n",
      "sbj9:  быть частица что это этот который теория квантовый взаимодействие физика как весь они кварк такой\n",
      "sbj10:  быть год это что который война россия этот русский они как первый германия советский тот\n",
      "sbj11:  человек что быть это ребенок они этот который мочь как очень женщина жизнь свой такой\n",
      "sbj12:  что мозг быть который это животное этот они как мочь нейрон вид растение очень человек\n",
      "sbj13:  это который быть этот век что они христианский как культура государство восток история другой территория\n",
      "sbj14:  что звезда быть галактика это этот который черный такой объект очень вселенная мочь дыра как\n",
      "sbj15:  что быть или память информация который мочь этот задача это как данные человек наш какой-то\n",
      "sbj16:  быть они это что очень этот человек самый как который весь большой другой жить все\n",
      "sbj17:  это что быть который политический философия как этот человек философский философ говорить свой тот его\n",
      "sbj18:  что быть слово это этот который словарь как такой текст если значение или так для\n",
      "sbj19:  что быть это революция как этот который они человек говорить она французский тот все свой\n",
      "sbj20:  город что как который это быть человек этот новый для сеть современный тот технология очень\n",
      "sbj21:  это быть что этот который заболевание или пациент болезнь мочь лечение врач метод как человек\n",
      "sbj22:  что как это этот знание который быть социальный теория социология мир некоторый объект тот смысл\n",
      "sbj23:  это быть что который этот они как система робот мочь такой функция очень если для\n",
      "sbj24:  этот быть который что это как миф человек бог мир свой представление весь время для\n",
      "sbj25:  быть который этот это что программа как система очень компьютер для год такой мочь они\n",
      "sbj26:  быть что этот который это экономический год решение страна как экономика для мочь тот политика\n",
      "sbj27:  клетка быть это что который этот они днк белок ген как организм мочь такой она\n",
      "sbj28:  быть это этот что который университет магнитный температура такой как год мочь они поле очень\n",
      "bcg:  язык что это быть который слово этот как русский говорить или такой они например для\n"
     ]
    }
   ],
   "source": [
    "# Ваш код\n",
    "for topic_name in model_artm.topic_names:\n",
    "    print topic_name + ': ',\n",
    "    for word in model_artm.score_tracker[\"top_words\"].last_tokens[topic_name]:\n",
    "        print word,\n",
    "    print"
   ]
  },
  {
   "cell_type": "markdown",
   "metadata": {},
   "source": [
    "В последней теме \"bcg\" должны находиться общеупотребительные слова.\n",
    "\n",
    "Важный шаг в работе с тематической моделью, когда речь идет о визуализации или создании тематического навигатора, это именование тем. Понять, о чем каждая тема, можно по списку ее топовых слов. Например, тему\n",
    "    \n",
    "    частица взаимодействие физика кварк симметрия элементарный нейтрино стандартный материя протон бозон заряд масса ускоритель слабый\n",
    "    \n",
    "можно назвать \"Физика элементарных частиц\". \n",
    "\n",
    "Дайте названия 29 предметным темам. Если вы не знаете, как назвать тему, назовите ее первым встретившимся в ней существительным, хотя при таком подходе навигатор будет менее информативным. Из названий тем составьте список из 29 строк и запишите го в переменную sbj_topic_labels. В переменной topic_labels будут храниться названия всех тем, включая фоновую."
   ]
  },
  {
   "cell_type": "code",
   "execution_count": null,
   "metadata": {
    "collapsed": true
   },
   "outputs": [],
   "source": [
    "sbj_topic_labels = []   # запишите названия тем в список\n",
    "topic_labels = sbj_topic_labels + [\"Фоновая тема\"]"
   ]
  },
  {
   "cell_type": "markdown",
   "metadata": {},
   "source": [
    "##### Анализ тем"
   ]
  },
  {
   "cell_type": "markdown",
   "metadata": {},
   "source": [
    "Далее мы будем работать с распределениями тем в документах (матрица $\\Theta$) и авторов в темах (одна из двух матриц $\\Phi$, соответствующая модальности авторов). \n",
    "Создайте переменные, содержащие две этих матрицы, с помощью методов get_phi и get_theta модели. Назовите переменные theta и phi_a. Выведите формы обеих матриц, чтобы понять, по каким осям стоят темы."
   ]
  },
  {
   "cell_type": "code",
   "execution_count": 15,
   "metadata": {
    "collapsed": false
   },
   "outputs": [],
   "source": [
    "model_artm.theta_columns_naming = \"title\" # включает именование столбцов Theta их названиями-ссылками, а не внутренними id \n",
    "# Ваш код\n",
    "Theta = model_artm.get_theta()\n",
    "phi = model_artm.get_phi()"
   ]
  },
  {
   "cell_type": "code",
   "execution_count": 17,
   "metadata": {
    "collapsed": false
   },
   "outputs": [
    {
     "data": {
      "text/html": [
       "<div>\n",
       "<table border=\"1\" class=\"dataframe\">\n",
       "  <thead>\n",
       "    <tr style=\"text-align: right;\">\n",
       "      <th></th>\n",
       "      <th>http://postnauka.ru/video/9561</th>\n",
       "      <th>http://postnauka.ru/video/9563</th>\n",
       "      <th>http://postnauka.ru/video/9690</th>\n",
       "      <th>http://postnauka.ru/video/9692</th>\n",
       "      <th>http://postnauka.ru/video/9727</th>\n",
       "      <th>http://postnauka.ru/video/9728</th>\n",
       "      <th>http://postnauka.ru/video/9729</th>\n",
       "      <th>http://postnauka.ru/video/9835</th>\n",
       "      <th>http://postnauka.ru/video/9854</th>\n",
       "      <th>http://postnauka.ru/video/9855</th>\n",
       "    </tr>\n",
       "  </thead>\n",
       "  <tbody>\n",
       "    <tr>\n",
       "      <th>sbj0</th>\n",
       "      <td>0.002322</td>\n",
       "      <td>0.013662</td>\n",
       "      <td>0.000089</td>\n",
       "      <td>0.000043</td>\n",
       "      <td>0.000014</td>\n",
       "      <td>0.000824</td>\n",
       "      <td>0.000488</td>\n",
       "      <td>0.000087</td>\n",
       "      <td>0.000094</td>\n",
       "      <td>0.000197</td>\n",
       "    </tr>\n",
       "    <tr>\n",
       "      <th>sbj1</th>\n",
       "      <td>0.000289</td>\n",
       "      <td>0.015190</td>\n",
       "      <td>0.468156</td>\n",
       "      <td>0.000118</td>\n",
       "      <td>0.000087</td>\n",
       "      <td>0.000066</td>\n",
       "      <td>0.000014</td>\n",
       "      <td>0.719221</td>\n",
       "      <td>0.000586</td>\n",
       "      <td>0.000065</td>\n",
       "    </tr>\n",
       "    <tr>\n",
       "      <th>sbj2</th>\n",
       "      <td>0.001191</td>\n",
       "      <td>0.015097</td>\n",
       "      <td>0.002401</td>\n",
       "      <td>0.019632</td>\n",
       "      <td>0.000187</td>\n",
       "      <td>0.001202</td>\n",
       "      <td>0.000630</td>\n",
       "      <td>0.001421</td>\n",
       "      <td>0.006858</td>\n",
       "      <td>0.001429</td>\n",
       "    </tr>\n",
       "    <tr>\n",
       "      <th>sbj3</th>\n",
       "      <td>0.199544</td>\n",
       "      <td>0.022918</td>\n",
       "      <td>0.335464</td>\n",
       "      <td>0.306338</td>\n",
       "      <td>0.304005</td>\n",
       "      <td>0.525542</td>\n",
       "      <td>0.329397</td>\n",
       "      <td>0.160587</td>\n",
       "      <td>0.292934</td>\n",
       "      <td>0.329306</td>\n",
       "    </tr>\n",
       "    <tr>\n",
       "      <th>sbj4</th>\n",
       "      <td>0.155398</td>\n",
       "      <td>0.005111</td>\n",
       "      <td>0.003972</td>\n",
       "      <td>0.008821</td>\n",
       "      <td>0.000070</td>\n",
       "      <td>0.001986</td>\n",
       "      <td>0.000205</td>\n",
       "      <td>0.001750</td>\n",
       "      <td>0.000779</td>\n",
       "      <td>0.094481</td>\n",
       "    </tr>\n",
       "    <tr>\n",
       "      <th>sbj5</th>\n",
       "      <td>0.000259</td>\n",
       "      <td>0.007019</td>\n",
       "      <td>0.004820</td>\n",
       "      <td>0.000605</td>\n",
       "      <td>0.001387</td>\n",
       "      <td>0.000413</td>\n",
       "      <td>0.000044</td>\n",
       "      <td>0.001696</td>\n",
       "      <td>0.000322</td>\n",
       "      <td>0.000209</td>\n",
       "    </tr>\n",
       "    <tr>\n",
       "      <th>sbj6</th>\n",
       "      <td>0.000035</td>\n",
       "      <td>0.001884</td>\n",
       "      <td>0.001121</td>\n",
       "      <td>0.000452</td>\n",
       "      <td>0.000168</td>\n",
       "      <td>0.004127</td>\n",
       "      <td>0.000183</td>\n",
       "      <td>0.000111</td>\n",
       "      <td>0.000019</td>\n",
       "      <td>0.292820</td>\n",
       "    </tr>\n",
       "    <tr>\n",
       "      <th>sbj7</th>\n",
       "      <td>0.032779</td>\n",
       "      <td>0.004893</td>\n",
       "      <td>0.013279</td>\n",
       "      <td>0.000004</td>\n",
       "      <td>0.000002</td>\n",
       "      <td>0.004403</td>\n",
       "      <td>0.002417</td>\n",
       "      <td>0.000510</td>\n",
       "      <td>0.000189</td>\n",
       "      <td>0.000533</td>\n",
       "    </tr>\n",
       "    <tr>\n",
       "      <th>sbj8</th>\n",
       "      <td>0.003806</td>\n",
       "      <td>0.239126</td>\n",
       "      <td>0.038390</td>\n",
       "      <td>0.011462</td>\n",
       "      <td>0.004278</td>\n",
       "      <td>0.000756</td>\n",
       "      <td>0.000088</td>\n",
       "      <td>0.051226</td>\n",
       "      <td>0.005504</td>\n",
       "      <td>0.000057</td>\n",
       "    </tr>\n",
       "    <tr>\n",
       "      <th>sbj9</th>\n",
       "      <td>0.000580</td>\n",
       "      <td>0.002675</td>\n",
       "      <td>0.006032</td>\n",
       "      <td>0.000988</td>\n",
       "      <td>0.000093</td>\n",
       "      <td>0.000792</td>\n",
       "      <td>0.006671</td>\n",
       "      <td>0.001663</td>\n",
       "      <td>0.000300</td>\n",
       "      <td>0.000002</td>\n",
       "    </tr>\n",
       "  </tbody>\n",
       "</table>\n",
       "</div>"
      ],
      "text/plain": [
       "      http://postnauka.ru/video/9561  http://postnauka.ru/video/9563  \\\n",
       "sbj0                        0.002322                        0.013662   \n",
       "sbj1                        0.000289                        0.015190   \n",
       "sbj2                        0.001191                        0.015097   \n",
       "sbj3                        0.199544                        0.022918   \n",
       "sbj4                        0.155398                        0.005111   \n",
       "sbj5                        0.000259                        0.007019   \n",
       "sbj6                        0.000035                        0.001884   \n",
       "sbj7                        0.032779                        0.004893   \n",
       "sbj8                        0.003806                        0.239126   \n",
       "sbj9                        0.000580                        0.002675   \n",
       "\n",
       "      http://postnauka.ru/video/9690  http://postnauka.ru/video/9692  \\\n",
       "sbj0                        0.000089                        0.000043   \n",
       "sbj1                        0.468156                        0.000118   \n",
       "sbj2                        0.002401                        0.019632   \n",
       "sbj3                        0.335464                        0.306338   \n",
       "sbj4                        0.003972                        0.008821   \n",
       "sbj5                        0.004820                        0.000605   \n",
       "sbj6                        0.001121                        0.000452   \n",
       "sbj7                        0.013279                        0.000004   \n",
       "sbj8                        0.038390                        0.011462   \n",
       "sbj9                        0.006032                        0.000988   \n",
       "\n",
       "      http://postnauka.ru/video/9727  http://postnauka.ru/video/9728  \\\n",
       "sbj0                        0.000014                        0.000824   \n",
       "sbj1                        0.000087                        0.000066   \n",
       "sbj2                        0.000187                        0.001202   \n",
       "sbj3                        0.304005                        0.525542   \n",
       "sbj4                        0.000070                        0.001986   \n",
       "sbj5                        0.001387                        0.000413   \n",
       "sbj6                        0.000168                        0.004127   \n",
       "sbj7                        0.000002                        0.004403   \n",
       "sbj8                        0.004278                        0.000756   \n",
       "sbj9                        0.000093                        0.000792   \n",
       "\n",
       "      http://postnauka.ru/video/9729  http://postnauka.ru/video/9835  \\\n",
       "sbj0                        0.000488                        0.000087   \n",
       "sbj1                        0.000014                        0.719221   \n",
       "sbj2                        0.000630                        0.001421   \n",
       "sbj3                        0.329397                        0.160587   \n",
       "sbj4                        0.000205                        0.001750   \n",
       "sbj5                        0.000044                        0.001696   \n",
       "sbj6                        0.000183                        0.000111   \n",
       "sbj7                        0.002417                        0.000510   \n",
       "sbj8                        0.000088                        0.051226   \n",
       "sbj9                        0.006671                        0.001663   \n",
       "\n",
       "      http://postnauka.ru/video/9854  http://postnauka.ru/video/9855  \n",
       "sbj0                        0.000094                        0.000197  \n",
       "sbj1                        0.000586                        0.000065  \n",
       "sbj2                        0.006858                        0.001429  \n",
       "sbj3                        0.292934                        0.329306  \n",
       "sbj4                        0.000779                        0.094481  \n",
       "sbj5                        0.000322                        0.000209  \n",
       "sbj6                        0.000019                        0.292820  \n",
       "sbj7                        0.000189                        0.000533  \n",
       "sbj8                        0.005504                        0.000057  \n",
       "sbj9                        0.000300                        0.000002  "
      ]
     },
     "execution_count": 17,
     "metadata": {},
     "output_type": "execute_result"
    }
   ],
   "source": [
    "Theta.ix[0:10, 0:10]"
   ]
  },
  {
   "cell_type": "markdown",
   "metadata": {},
   "source": [
    "Визуализируем фрагмент матрицы $\\Theta$ - первые 100 документов (это наиболее простой способ визуально оценить, как темы распределяются в документах). С помощью метода seaborn.heatmap выведите фрагмент theta как изображение. Рекомендация: создайте фигуру pyplot размера (20, 10)."
   ]
  },
  {
   "cell_type": "code",
   "execution_count": 18,
   "metadata": {
    "collapsed": false
   },
   "outputs": [
    {
     "name": "stderr",
     "output_type": "stream",
     "text": [
      "C:\\Program Files\\Anaconda2\\lib\\site-packages\\seaborn\\matrix.py:143: DeprecationWarning: elementwise == comparison failed; this will raise an error in the future.\n",
      "  if xticklabels == []:\n"
     ]
    },
    {
     "data": {
      "text/plain": [
       "<matplotlib.axes._subplots.AxesSubplot at 0x16584550>"
      ]
     },
     "execution_count": 18,
     "metadata": {},
     "output_type": "execute_result"
    },
    {
     "data": {
      "image/png": "[encoded data removed]",
      "text/plain": [
       "<matplotlib.figure.Figure at 0x16584a58>"
      ]
     },
     "metadata": {},
     "output_type": "display_data"
    }
   ],
   "source": [
    "# Ваш кодseabo\n",
    "plt.figure(figsize=(20,10))\n",
    "seaborn.heatmap(Theta.ix[0:100, 0:200])\n"
   ]
  },
  {
   "cell_type": "markdown",
   "metadata": {},
   "source": [
    "Вы должны увидеть, что фоновая тема имеет большую вероятность в почти каждом документе, и это логично. Кроме того, есть еще одна тема, которая чаще других встречается в документах. Судя по всему, это тема содержит много слов по науку в целом, а каждый документ (видео) в нашей коллекции связан с наукой. Можно (необязательно) дать этой теме название \"Наука\".\n",
    "\n",
    "Помимо этих двух тем, фоновой и общенаучной, каждый документ характеризуется малым числом других тем."
   ]
  },
  {
   "cell_type": "markdown",
   "metadata": {},
   "source": [
    "Оценим $p(t)$ - долю каждой темы во всей коллекции. По формуле полной вероятности вычислять эти величины нужно как\n",
    "$p(t) = \\sum_d p(t|d) p(d)$. Согласно вероятностной модели, $p(d)$ пропорционально длине документа d. Поступим проще: будем полагать, что все документы равновероятны. Тогда оценить $p(t)$ можно, просуммировав $p(t|d)$ по всем документам, а затем разделив полученный вектор на его сумму. \n",
    "\n",
    "Создайте переменную-датафрейм с T строками, индексированными названиями тем, и 1 столбцом, содержащим оценки $p(t)$. Выведите датафрейм на печать."
   ]
  },
  {
   "cell_type": "code",
   "execution_count": 19,
   "metadata": {
    "collapsed": false
   },
   "outputs": [
    {
     "data": {
      "text/plain": [
       "sbj0      2.923649\n",
       "sbj1      3.354679\n",
       "sbj2      2.457314\n",
       "sbj3     10.185843\n",
       "sbj4      2.419935\n",
       "sbj5      3.416418\n",
       "sbj6      2.512306\n",
       "sbj7      2.057241\n",
       "sbj8      3.787287\n",
       "sbj9      4.433802\n",
       "sbj10     3.054224\n",
       "sbj11     2.828658\n",
       "sbj12     3.560803\n",
       "sbj13     3.116085\n",
       "sbj14     4.191941\n",
       "sbj15     3.026918\n",
       "sbj16     2.445211\n",
       "sbj17     3.556694\n",
       "sbj18     2.191726\n",
       "sbj19     2.061401\n",
       "sbj20     3.432210\n",
       "sbj21     2.930163\n",
       "sbj22     3.267776\n",
       "sbj23     2.771694\n",
       "sbj24     2.986652\n",
       "sbj25     1.829054\n",
       "sbj26     3.683780\n",
       "sbj27     5.487661\n",
       "sbj28     2.559172\n",
       "bcg       3.469708\n",
       "dtype: float32"
      ]
     },
     "execution_count": 19,
     "metadata": {},
     "output_type": "execute_result"
    }
   ],
   "source": [
    "# Ваш код\n",
    "Theta.mean(axis=1) * 100"
   ]
  },
  {
   "cell_type": "markdown",
   "metadata": {},
   "source": [
    "Визуализируйте матрицу $\\Phi$ модальности авторов в виде изображения. Рекомендация: установите yticklabels=False в heatmap."
   ]
  },
  {
   "cell_type": "code",
   "execution_count": 20,
   "metadata": {
    "collapsed": false
   },
   "outputs": [],
   "source": [
    "# Ваш код\n",
    "phi_authors = model_artm.get_phi(class_ids=[\"author\"])"
   ]
  },
  {
   "cell_type": "code",
   "execution_count": 21,
   "metadata": {
    "collapsed": false
   },
   "outputs": [
    {
     "data": {
      "text/html": [
       "<div>\n",
       "<table border=\"1\" class=\"dataframe\">\n",
       "  <thead>\n",
       "    <tr style=\"text-align: right;\">\n",
       "      <th></th>\n",
       "      <th>sbj0</th>\n",
       "      <th>sbj1</th>\n",
       "      <th>sbj2</th>\n",
       "      <th>sbj3</th>\n",
       "      <th>sbj4</th>\n",
       "      <th>sbj5</th>\n",
       "      <th>sbj6</th>\n",
       "      <th>sbj7</th>\n",
       "      <th>sbj8</th>\n",
       "      <th>sbj9</th>\n",
       "      <th>...</th>\n",
       "      <th>sbj20</th>\n",
       "      <th>sbj21</th>\n",
       "      <th>sbj22</th>\n",
       "      <th>sbj23</th>\n",
       "      <th>sbj24</th>\n",
       "      <th>sbj25</th>\n",
       "      <th>sbj26</th>\n",
       "      <th>sbj27</th>\n",
       "      <th>sbj28</th>\n",
       "      <th>bcg</th>\n",
       "    </tr>\n",
       "  </thead>\n",
       "  <tbody>\n",
       "    <tr>\n",
       "      <th>Ярослав_Исполатов</th>\n",
       "      <td>0.0</td>\n",
       "      <td>0.0</td>\n",
       "      <td>3.497578e-15</td>\n",
       "      <td>0.0</td>\n",
       "      <td>0.0</td>\n",
       "      <td>0.0</td>\n",
       "      <td>0.0</td>\n",
       "      <td>0.0</td>\n",
       "      <td>0.000000e+00</td>\n",
       "      <td>0.000000</td>\n",
       "      <td>...</td>\n",
       "      <td>0.000000</td>\n",
       "      <td>1.427091e-16</td>\n",
       "      <td>0.0</td>\n",
       "      <td>0.0</td>\n",
       "      <td>0.0</td>\n",
       "      <td>0.0</td>\n",
       "      <td>0.0</td>\n",
       "      <td>0.000000</td>\n",
       "      <td>0.000000</td>\n",
       "      <td>0.0</td>\n",
       "    </tr>\n",
       "    <tr>\n",
       "      <th>Сергей_Демокритов</th>\n",
       "      <td>0.0</td>\n",
       "      <td>0.0</td>\n",
       "      <td>0.000000e+00</td>\n",
       "      <td>0.0</td>\n",
       "      <td>0.0</td>\n",
       "      <td>0.0</td>\n",
       "      <td>0.0</td>\n",
       "      <td>0.0</td>\n",
       "      <td>0.000000e+00</td>\n",
       "      <td>0.031354</td>\n",
       "      <td>...</td>\n",
       "      <td>0.000000</td>\n",
       "      <td>0.000000e+00</td>\n",
       "      <td>0.0</td>\n",
       "      <td>0.0</td>\n",
       "      <td>0.0</td>\n",
       "      <td>0.0</td>\n",
       "      <td>0.0</td>\n",
       "      <td>0.000000</td>\n",
       "      <td>0.006366</td>\n",
       "      <td>0.0</td>\n",
       "    </tr>\n",
       "    <tr>\n",
       "      <th>Руслан_Смелянский</th>\n",
       "      <td>0.0</td>\n",
       "      <td>0.0</td>\n",
       "      <td>0.000000e+00</td>\n",
       "      <td>0.0</td>\n",
       "      <td>0.0</td>\n",
       "      <td>0.0</td>\n",
       "      <td>0.0</td>\n",
       "      <td>0.0</td>\n",
       "      <td>2.628331e-11</td>\n",
       "      <td>0.000000</td>\n",
       "      <td>...</td>\n",
       "      <td>0.053045</td>\n",
       "      <td>0.000000e+00</td>\n",
       "      <td>0.0</td>\n",
       "      <td>0.0</td>\n",
       "      <td>0.0</td>\n",
       "      <td>0.0</td>\n",
       "      <td>0.0</td>\n",
       "      <td>0.000000</td>\n",
       "      <td>0.000000</td>\n",
       "      <td>0.0</td>\n",
       "    </tr>\n",
       "    <tr>\n",
       "      <th>Александр_Апт</th>\n",
       "      <td>0.0</td>\n",
       "      <td>0.0</td>\n",
       "      <td>0.000000e+00</td>\n",
       "      <td>0.0</td>\n",
       "      <td>0.0</td>\n",
       "      <td>0.0</td>\n",
       "      <td>0.0</td>\n",
       "      <td>0.0</td>\n",
       "      <td>4.197786e-02</td>\n",
       "      <td>0.000000</td>\n",
       "      <td>...</td>\n",
       "      <td>0.000000</td>\n",
       "      <td>0.000000e+00</td>\n",
       "      <td>0.0</td>\n",
       "      <td>0.0</td>\n",
       "      <td>0.0</td>\n",
       "      <td>0.0</td>\n",
       "      <td>0.0</td>\n",
       "      <td>0.000009</td>\n",
       "      <td>0.000000</td>\n",
       "      <td>0.0</td>\n",
       "    </tr>\n",
       "    <tr>\n",
       "      <th>Людмила_Новикова</th>\n",
       "      <td>0.0</td>\n",
       "      <td>0.0</td>\n",
       "      <td>0.000000e+00</td>\n",
       "      <td>0.0</td>\n",
       "      <td>0.0</td>\n",
       "      <td>0.0</td>\n",
       "      <td>0.0</td>\n",
       "      <td>0.0</td>\n",
       "      <td>0.000000e+00</td>\n",
       "      <td>0.000000</td>\n",
       "      <td>...</td>\n",
       "      <td>0.000000</td>\n",
       "      <td>0.000000e+00</td>\n",
       "      <td>0.0</td>\n",
       "      <td>0.0</td>\n",
       "      <td>0.0</td>\n",
       "      <td>0.0</td>\n",
       "      <td>0.0</td>\n",
       "      <td>0.000000</td>\n",
       "      <td>0.000000</td>\n",
       "      <td>0.0</td>\n",
       "    </tr>\n",
       "  </tbody>\n",
       "</table>\n",
       "<p>5 rows × 30 columns</p>\n",
       "</div>"
      ],
      "text/plain": [
       "                   sbj0  sbj1          sbj2  sbj3  sbj4  sbj5  sbj6  sbj7  \\\n",
       "Ярослав_Исполатов   0.0   0.0  3.497578e-15   0.0   0.0   0.0   0.0   0.0   \n",
       "Сергей_Демокритов   0.0   0.0  0.000000e+00   0.0   0.0   0.0   0.0   0.0   \n",
       "Руслан_Смелянский   0.0   0.0  0.000000e+00   0.0   0.0   0.0   0.0   0.0   \n",
       "Александр_Апт       0.0   0.0  0.000000e+00   0.0   0.0   0.0   0.0   0.0   \n",
       "Людмила_Новикова    0.0   0.0  0.000000e+00   0.0   0.0   0.0   0.0   0.0   \n",
       "\n",
       "                           sbj8      sbj9 ...      sbj20         sbj21  sbj22  \\\n",
       "Ярослав_Исполатов  0.000000e+00  0.000000 ...   0.000000  1.427091e-16    0.0   \n",
       "Сергей_Демокритов  0.000000e+00  0.031354 ...   0.000000  0.000000e+00    0.0   \n",
       "Руслан_Смелянский  2.628331e-11  0.000000 ...   0.053045  0.000000e+00    0.0   \n",
       "Александр_Апт      4.197786e-02  0.000000 ...   0.000000  0.000000e+00    0.0   \n",
       "Людмила_Новикова   0.000000e+00  0.000000 ...   0.000000  0.000000e+00    0.0   \n",
       "\n",
       "                   sbj23  sbj24  sbj25  sbj26     sbj27     sbj28  bcg  \n",
       "Ярослав_Исполатов    0.0    0.0    0.0    0.0  0.000000  0.000000  0.0  \n",
       "Сергей_Демокритов    0.0    0.0    0.0    0.0  0.000000  0.006366  0.0  \n",
       "Руслан_Смелянский    0.0    0.0    0.0    0.0  0.000000  0.000000  0.0  \n",
       "Александр_Апт        0.0    0.0    0.0    0.0  0.000009  0.000000  0.0  \n",
       "Людмила_Новикова     0.0    0.0    0.0    0.0  0.000000  0.000000  0.0  \n",
       "\n",
       "[5 rows x 30 columns]"
      ]
     },
     "execution_count": 21,
     "metadata": {},
     "output_type": "execute_result"
    }
   ],
   "source": [
    "phi_authors.head()"
   ]
  },
  {
   "cell_type": "code",
   "execution_count": 22,
   "metadata": {
    "collapsed": false
   },
   "outputs": [
    {
     "data": {
      "text/plain": [
       "<matplotlib.axes._subplots.AxesSubplot at 0x1b367a20>"
      ]
     },
     "execution_count": 22,
     "metadata": {},
     "output_type": "execute_result"
    },
    {
     "data": {
      "image/png": "[encoded data removed]",
      "text/plain": [
       "<matplotlib.figure.Figure at 0x1b35c518>"
      ]
     },
     "metadata": {},
     "output_type": "display_data"
    }
   ],
   "source": [
    "seaborn.heatmap(phi_authors[0:20], yticklabels=False)"
   ]
  },
  {
   "cell_type": "markdown",
   "metadata": {},
   "source": [
    "Каждой теме соответствует не очень большое число авторов - матрица достаточно разреженная. Кроме того, некоторые темы имеют доминирующего автора $a$, имеющего большую вероятность $p(a|t)$ - этот автор записал больше всего лекций по теме. "
   ]
  },
  {
   "cell_type": "markdown",
   "metadata": {},
   "source": [
    "Будем считать, что автор $a$ значим в теме, если $p(a|t) > 0.01$. Для каждого автора посчитайте, в скольких темах он значим. Найдите авторов-рекордсменов, которые значимы (а значит, читали лекции) в >= 3 темах."
   ]
  },
  {
   "cell_type": "code",
   "execution_count": 23,
   "metadata": {
    "collapsed": false
   },
   "outputs": [],
   "source": [
    "phi_authors['mean'] = [x for x in phi_authors.mean(axis=1)]"
   ]
  },
  {
   "cell_type": "markdown",
   "metadata": {},
   "source": [
    "Большинство авторов значимы в 1 теме, что логично."
   ]
  },
  {
   "cell_type": "code",
   "execution_count": 24,
   "metadata": {
    "collapsed": false
   },
   "outputs": [
    {
     "data": {
      "text/html": [
       "<div>\n",
       "<table border=\"1\" class=\"dataframe\">\n",
       "  <thead>\n",
       "    <tr style=\"text-align: right;\">\n",
       "      <th></th>\n",
       "      <th>sbj0</th>\n",
       "      <th>sbj1</th>\n",
       "      <th>sbj2</th>\n",
       "      <th>sbj3</th>\n",
       "      <th>sbj4</th>\n",
       "      <th>sbj5</th>\n",
       "      <th>sbj6</th>\n",
       "      <th>sbj7</th>\n",
       "      <th>sbj8</th>\n",
       "      <th>sbj9</th>\n",
       "      <th>...</th>\n",
       "      <th>sbj21</th>\n",
       "      <th>sbj22</th>\n",
       "      <th>sbj23</th>\n",
       "      <th>sbj24</th>\n",
       "      <th>sbj25</th>\n",
       "      <th>sbj26</th>\n",
       "      <th>sbj27</th>\n",
       "      <th>sbj28</th>\n",
       "      <th>bcg</th>\n",
       "      <th>mean</th>\n",
       "    </tr>\n",
       "  </thead>\n",
       "  <tbody>\n",
       "    <tr>\n",
       "      <th>Дмитрий_Дождев</th>\n",
       "      <td>0.0</td>\n",
       "      <td>0.000000</td>\n",
       "      <td>0.0</td>\n",
       "      <td>0.000000</td>\n",
       "      <td>0.320027</td>\n",
       "      <td>0.0</td>\n",
       "      <td>0.0</td>\n",
       "      <td>0.0</td>\n",
       "      <td>0.0</td>\n",
       "      <td>0.0</td>\n",
       "      <td>...</td>\n",
       "      <td>0.0</td>\n",
       "      <td>0.000000</td>\n",
       "      <td>0.0</td>\n",
       "      <td>0.000000</td>\n",
       "      <td>0.0</td>\n",
       "      <td>0.0</td>\n",
       "      <td>0.0</td>\n",
       "      <td>0.0</td>\n",
       "      <td>0.0</td>\n",
       "      <td>0.010668</td>\n",
       "    </tr>\n",
       "    <tr>\n",
       "      <th>Алексей_Муравьёв</th>\n",
       "      <td>0.0</td>\n",
       "      <td>0.000000</td>\n",
       "      <td>0.0</td>\n",
       "      <td>0.000000</td>\n",
       "      <td>0.000000</td>\n",
       "      <td>0.0</td>\n",
       "      <td>0.0</td>\n",
       "      <td>0.0</td>\n",
       "      <td>0.0</td>\n",
       "      <td>0.0</td>\n",
       "      <td>...</td>\n",
       "      <td>0.0</td>\n",
       "      <td>0.000000</td>\n",
       "      <td>0.0</td>\n",
       "      <td>0.000000</td>\n",
       "      <td>0.0</td>\n",
       "      <td>0.0</td>\n",
       "      <td>0.0</td>\n",
       "      <td>0.0</td>\n",
       "      <td>0.0</td>\n",
       "      <td>0.010178</td>\n",
       "    </tr>\n",
       "    <tr>\n",
       "      <th>Виктор_Вахштайн</th>\n",
       "      <td>0.0</td>\n",
       "      <td>0.000000</td>\n",
       "      <td>0.0</td>\n",
       "      <td>0.000000</td>\n",
       "      <td>0.000000</td>\n",
       "      <td>0.0</td>\n",
       "      <td>0.0</td>\n",
       "      <td>0.0</td>\n",
       "      <td>0.0</td>\n",
       "      <td>0.0</td>\n",
       "      <td>...</td>\n",
       "      <td>0.0</td>\n",
       "      <td>0.564464</td>\n",
       "      <td>0.0</td>\n",
       "      <td>0.000000</td>\n",
       "      <td>0.0</td>\n",
       "      <td>0.0</td>\n",
       "      <td>0.0</td>\n",
       "      <td>0.0</td>\n",
       "      <td>0.0</td>\n",
       "      <td>0.018815</td>\n",
       "    </tr>\n",
       "    <tr>\n",
       "      <th>Гасан_Гусейнов</th>\n",
       "      <td>0.0</td>\n",
       "      <td>0.000000</td>\n",
       "      <td>0.0</td>\n",
       "      <td>0.000000</td>\n",
       "      <td>0.000000</td>\n",
       "      <td>0.0</td>\n",
       "      <td>0.0</td>\n",
       "      <td>0.0</td>\n",
       "      <td>0.0</td>\n",
       "      <td>0.0</td>\n",
       "      <td>...</td>\n",
       "      <td>0.0</td>\n",
       "      <td>0.000000</td>\n",
       "      <td>0.0</td>\n",
       "      <td>0.329104</td>\n",
       "      <td>0.0</td>\n",
       "      <td>0.0</td>\n",
       "      <td>0.0</td>\n",
       "      <td>0.0</td>\n",
       "      <td>0.0</td>\n",
       "      <td>0.010970</td>\n",
       "    </tr>\n",
       "    <tr>\n",
       "      <th>Сергей_Попов</th>\n",
       "      <td>0.0</td>\n",
       "      <td>0.193506</td>\n",
       "      <td>0.0</td>\n",
       "      <td>0.000000</td>\n",
       "      <td>0.000000</td>\n",
       "      <td>0.0</td>\n",
       "      <td>0.0</td>\n",
       "      <td>0.0</td>\n",
       "      <td>0.0</td>\n",
       "      <td>0.0</td>\n",
       "      <td>...</td>\n",
       "      <td>0.0</td>\n",
       "      <td>0.000000</td>\n",
       "      <td>0.0</td>\n",
       "      <td>0.000000</td>\n",
       "      <td>0.0</td>\n",
       "      <td>0.0</td>\n",
       "      <td>0.0</td>\n",
       "      <td>0.0</td>\n",
       "      <td>0.0</td>\n",
       "      <td>0.011861</td>\n",
       "    </tr>\n",
       "    <tr>\n",
       "      <th>Станислав_Дробышевский</th>\n",
       "      <td>0.0</td>\n",
       "      <td>0.000000</td>\n",
       "      <td>0.0</td>\n",
       "      <td>0.000000</td>\n",
       "      <td>0.000000</td>\n",
       "      <td>0.0</td>\n",
       "      <td>0.0</td>\n",
       "      <td>0.0</td>\n",
       "      <td>0.0</td>\n",
       "      <td>0.0</td>\n",
       "      <td>...</td>\n",
       "      <td>0.0</td>\n",
       "      <td>0.000000</td>\n",
       "      <td>0.0</td>\n",
       "      <td>0.000000</td>\n",
       "      <td>0.0</td>\n",
       "      <td>0.0</td>\n",
       "      <td>0.0</td>\n",
       "      <td>0.0</td>\n",
       "      <td>0.0</td>\n",
       "      <td>0.021278</td>\n",
       "    </tr>\n",
       "    <tr>\n",
       "      <th>Мария_Фаликман</th>\n",
       "      <td>0.0</td>\n",
       "      <td>0.000000</td>\n",
       "      <td>0.0</td>\n",
       "      <td>0.000033</td>\n",
       "      <td>0.000000</td>\n",
       "      <td>0.0</td>\n",
       "      <td>0.0</td>\n",
       "      <td>0.0</td>\n",
       "      <td>0.0</td>\n",
       "      <td>0.0</td>\n",
       "      <td>...</td>\n",
       "      <td>0.0</td>\n",
       "      <td>0.000000</td>\n",
       "      <td>0.0</td>\n",
       "      <td>0.000000</td>\n",
       "      <td>0.0</td>\n",
       "      <td>0.0</td>\n",
       "      <td>0.0</td>\n",
       "      <td>0.0</td>\n",
       "      <td>0.0</td>\n",
       "      <td>0.010118</td>\n",
       "    </tr>\n",
       "  </tbody>\n",
       "</table>\n",
       "<p>7 rows × 31 columns</p>\n",
       "</div>"
      ],
      "text/plain": [
       "                        sbj0      sbj1  sbj2      sbj3      sbj4  sbj5  sbj6  \\\n",
       "Дмитрий_Дождев           0.0  0.000000   0.0  0.000000  0.320027   0.0   0.0   \n",
       "Алексей_Муравьёв         0.0  0.000000   0.0  0.000000  0.000000   0.0   0.0   \n",
       "Виктор_Вахштайн          0.0  0.000000   0.0  0.000000  0.000000   0.0   0.0   \n",
       "Гасан_Гусейнов           0.0  0.000000   0.0  0.000000  0.000000   0.0   0.0   \n",
       "Сергей_Попов             0.0  0.193506   0.0  0.000000  0.000000   0.0   0.0   \n",
       "Станислав_Дробышевский   0.0  0.000000   0.0  0.000000  0.000000   0.0   0.0   \n",
       "Мария_Фаликман           0.0  0.000000   0.0  0.000033  0.000000   0.0   0.0   \n",
       "\n",
       "                        sbj7  sbj8  sbj9    ...     sbj21     sbj22  sbj23  \\\n",
       "Дмитрий_Дождев           0.0   0.0   0.0    ...       0.0  0.000000    0.0   \n",
       "Алексей_Муравьёв         0.0   0.0   0.0    ...       0.0  0.000000    0.0   \n",
       "Виктор_Вахштайн          0.0   0.0   0.0    ...       0.0  0.564464    0.0   \n",
       "Гасан_Гусейнов           0.0   0.0   0.0    ...       0.0  0.000000    0.0   \n",
       "Сергей_Попов             0.0   0.0   0.0    ...       0.0  0.000000    0.0   \n",
       "Станислав_Дробышевский   0.0   0.0   0.0    ...       0.0  0.000000    0.0   \n",
       "Мария_Фаликман           0.0   0.0   0.0    ...       0.0  0.000000    0.0   \n",
       "\n",
       "                           sbj24  sbj25  sbj26  sbj27  sbj28  bcg      mean  \n",
       "Дмитрий_Дождев          0.000000    0.0    0.0    0.0    0.0  0.0  0.010668  \n",
       "Алексей_Муравьёв        0.000000    0.0    0.0    0.0    0.0  0.0  0.010178  \n",
       "Виктор_Вахштайн         0.000000    0.0    0.0    0.0    0.0  0.0  0.018815  \n",
       "Гасан_Гусейнов          0.329104    0.0    0.0    0.0    0.0  0.0  0.010970  \n",
       "Сергей_Попов            0.000000    0.0    0.0    0.0    0.0  0.0  0.011861  \n",
       "Станислав_Дробышевский  0.000000    0.0    0.0    0.0    0.0  0.0  0.021278  \n",
       "Мария_Фаликман          0.000000    0.0    0.0    0.0    0.0  0.0  0.010118  \n",
       "\n",
       "[7 rows x 31 columns]"
      ]
     },
     "execution_count": 24,
     "metadata": {},
     "output_type": "execute_result"
    }
   ],
   "source": [
    "phi_authors[phi_authors['mean'] > 0.01]"
   ]
  },
  {
   "cell_type": "markdown",
   "metadata": {},
   "source": [
    "##### Построение тематической карты авторов"
   ]
  },
  {
   "cell_type": "markdown",
   "metadata": {},
   "source": [
    "По сути, в матрице $\\Phi$, соответствующей модальности авторов, записаны тематические кластеры авторов. Для любого автора мы можем составить его тематический круг - авторов, разбирающихся в той же теме, что и данный. Интересующиеся слушатели могут попробовать выполнить эту процедуру для ученых, читающих лекции на Постнауке, которых они знают (например, на Постнауке есть лекции с К. В. Воронцовым - лектором текущего модуля :)\n",
    "\n",
    "Составим карту близости авторов по тематике их исследований. Для этого применим метод понижения размерности MDS к тематическим профилям авторов.\n",
    "\n",
    "Чтобы получить тематический профиль автора, распределение $p(t|a)$, нужно воспользоваться формулой Байеса: \n",
    "$p(t|a) = \\frac {p(a|t) p(t)} {\\sum_t' p(a|t') p(t')}$. Все необходимые для этого величины у вас есть и записаны в переменных phi и pt. \n",
    "\n",
    "Передайте матрицу тематических профилей авторов, записанных по строкам, в метод MDS с n_components=2. Используйте косинусную метрику (она хорошо подходит для поиска расстояний между векторами, имеющими фиксированную сумму компонент)."
   ]
  },
  {
   "cell_type": "code",
   "execution_count": 25,
   "metadata": {
    "collapsed": true
   },
   "outputs": [],
   "source": [
    "from sklearn.manifold import MDS\n",
    "from sklearn.metrics import pairwise_distances"
   ]
  },
  {
   "cell_type": "code",
   "execution_count": 26,
   "metadata": {
    "collapsed": false
   },
   "outputs": [],
   "source": [
    "phi_authors = phi_authors.drop('mean', axis=1)"
   ]
  },
  {
   "cell_type": "code",
   "execution_count": 30,
   "metadata": {
    "collapsed": false
   },
   "outputs": [],
   "source": [
    "# Ваш код\n",
    "dists = pairwise_distances(phi_authors, metric=\"cosine\")\n",
    "mds_model_cos = MDS(random_state=321, n_components=2, dissimilarity=\"precomputed\")\n",
    "MDS_transformed_cos = mds_model_cos.fit_transform(dists.astype(np.float64))"
   ]
  },
  {
   "cell_type": "markdown",
   "metadata": {},
   "source": [
    "Визуализируйте найденные двумерные представления с помощью функции scatter. "
   ]
  },
  {
   "cell_type": "code",
   "execution_count": 31,
   "metadata": {
    "collapsed": false
   },
   "outputs": [
    {
     "data": {
      "text/plain": [
       "<matplotlib.collections.PathCollection at 0xcd5a198>"
      ]
     },
     "execution_count": 31,
     "metadata": {},
     "output_type": "execute_result"
    },
    {
     "data": {
      "image/png": "[encoded data removed]",
      "text/plain": [
       "<matplotlib.figure.Figure at 0xc855c18>"
      ]
     },
     "metadata": {},
     "output_type": "display_data"
    }
   ],
   "source": [
    "# Ваш код\n",
    "plt.scatter(MDS_transformed_cos[:,0], MDS_transformed_cos[:,1])"
   ]
  },
  {
   "cell_type": "markdown",
   "metadata": {},
   "source": [
    "Должно получиться, что некоторые грппы авторов формируют сгустки, которые можно считать тематическими группами авторов.\n",
    "\n",
    "Раскрасим точки следующим образом: для каждого автора выберем наиболее вероятную для него тему ($\\max_t p(t|a)$), и каждой теме сопоставим цвет. Кроме того, добавим на карту имена и фамилии авторов, это можно сделать в цикле по всем точкам с помощью функции plt.annotate, указывая метку точки первым аргументом и ее координаты в аргументе xy. Рекомендуется сделать размер изображения большим, тогда маркеры точек тоже придется увеличить (s=100 в plt.scatter). Изобразите карту авторов и сохраните в pdf-файл с помощью функции plt.savefig. \n",
    "\n",
    "Метки авторов будут пересекаться. Будет очень хорошо, если вы найдете способ, как этого можно избежать."
   ]
  },
  {
   "cell_type": "code",
   "execution_count": 32,
   "metadata": {
    "collapsed": false
   },
   "outputs": [
    {
     "data": {
      "image/png": "[encoded data removed]",
      "text/plain": [
       "<matplotlib.figure.Figure at 0x15a28e48>"
      ]
     },
     "metadata": {},
     "output_type": "display_data"
    }
   ],
   "source": [
    "import matplotlib.cm as cm\n",
    "colors = cm.rainbow(np.linspace(0, 1, T)) # цвета для тем\n",
    "max_indexes = phi_authors.idxmax(axis=1)\n",
    "\n",
    "# Ваш код\n",
    "for i in range(len(MDS_transformed_cos)):\n",
    "    #print max_indexes[i]\n",
    "    plt.scatter(MDS_transformed_cos[i,0], \n",
    "                MDS_transformed_cos[i,1], \n",
    "                c = colors[int(max_indexes[i].replace('sbj', '').replace('bcg', '29'))])"
   ]
  },
  {
   "cell_type": "markdown",
   "metadata": {},
   "source": [
    "##### Создание простого тематического навигатора по Постнауке"
   ]
  },
  {
   "cell_type": "markdown",
   "metadata": {},
   "source": [
    "Наш тематический навигатор будет для каждой темы показывать ее список слов, а также список релевантных теме документов. \n",
    "\n",
    "Нам понадобятся распределения $p(d|t)$. По формуле Байеса $p(d|t) = \\frac{p(t|d)p(d)}{\\sum_{d'}p(t|d')p(d')}$, но поскольку мы считаем документы равновероятными, достаточно разделить каждую строку $\\Theta$ на ее сумму, чтобы оценить распределение. \n",
    "\n",
    "Отсортируйте матрицу $p(d|t)$ по убыванию $p(d|t)$ в каждой теме (то есть построчно). Нам понадобятся индексы наиболее вероятных документов в каждой теме, поэтому используйте функцию argmax."
   ]
  },
  {
   "cell_type": "code",
   "execution_count": 43,
   "metadata": {
    "collapsed": false
   },
   "outputs": [],
   "source": [
    "# Ваш код\n",
    "pdt = Theta\n",
    "\n",
    "for i in range(0, Theta.shape[0]):\n",
    "    for j in range(0, Theta.shape[1]):\n",
    "        pdt.ix[i, j] = Theta.ix[i, j] / Theta.ix[i].sum()"
   ]
  },
  {
   "cell_type": "markdown",
   "metadata": {},
   "source": [
    "Создавать навигатор мы будем прямо в jupiter notebook: это возможно благодаря тому факту, что при печати ссылки она автоматически превращается в гиперссылку."
   ]
  },
  {
   "cell_type": "code",
   "execution_count": 44,
   "metadata": {
    "collapsed": false
   },
   "outputs": [
    {
     "name": "stdout",
     "output_type": "stream",
     "text": [
      "http://yandex.ru\n"
     ]
    }
   ],
   "source": [
    "print \"http://yandex.ru\"   # получится кликабельная ссылка"
   ]
  },
  {
   "cell_type": "markdown",
   "metadata": {},
   "source": [
    "Кроме того, подключив модуль [ipython.core.display](https://ipython.org/ipython-doc/2/api/generated/IPython.core.display.html), можно использовать html-разметку в выводе. Например:"
   ]
  },
  {
   "cell_type": "code",
   "execution_count": 45,
   "metadata": {
    "collapsed": false
   },
   "outputs": [
    {
     "data": {
      "text/html": [
       "<h1>Заголовок</h1>"
      ],
      "text/plain": [
       "<IPython.core.display.HTML object>"
      ]
     },
     "metadata": {},
     "output_type": "display_data"
    },
    {
     "data": {
      "text/html": [
       "<ul><li>Пункт 1</li><li>Пункт 2</li></ul>"
      ],
      "text/plain": [
       "<IPython.core.display.HTML object>"
      ]
     },
     "metadata": {},
     "output_type": "display_data"
    },
    {
     "data": {
      "text/html": [
       "<font color=\"green\">Зеленый!</font>"
      ],
      "text/plain": [
       "<IPython.core.display.HTML object>"
      ]
     },
     "metadata": {},
     "output_type": "display_data"
    },
    {
     "data": {
      "text/html": [
       "<a href=\"http://yandex.ru\">Еще один вариант вывода ссылки</a>"
      ],
      "text/plain": [
       "<IPython.core.display.HTML object>"
      ]
     },
     "metadata": {},
     "output_type": "display_data"
    }
   ],
   "source": [
    "from IPython.core.display import display, HTML\n",
    "display(HTML(u\"<h1>Заголовок</h1>\"))   # также <h2>, <h3>\n",
    "display(HTML(u\"<ul><li>Пункт 1</li><li>Пункт 2</li></ul>\"))\n",
    "display(HTML(u'<font color=\"green\">Зеленый!</font>'))\n",
    "display(HTML(u'<a href=\"http://yandex.ru\">Еще один вариант вывода ссылки</a>'))"
   ]
  },
  {
   "cell_type": "markdown",
   "metadata": {},
   "source": [
    "В цикле для каждой темы выведите ее заголовок, в следующей строке - топ-10 слов темы, затем в виде списка ссылки на 10 наиболее релевантных (по $p(d|t)$) теме документов. Используйте html-разметку. Творчество приветствуется :)"
   ]
  },
  {
   "cell_type": "code",
   "execution_count": 58,
   "metadata": {
    "collapsed": false
   },
   "outputs": [
    {
     "name": "stdout",
     "output_type": "stream",
     "text": [
      "http://postnauka.ru/video/3406\n",
      "http://postnauka.ru/video/32889\n",
      "http://postnauka.ru/video/43679\n",
      "http://postnauka.ru/video/3405\n",
      "http://postnauka.ru/video/31688\n",
      "http://postnauka.ru/video/31682\n",
      "http://postnauka.ru/video/42807\n",
      "http://postnauka.ru/video/32882\n",
      "http://postnauka.ru/video/3389\n",
      "http://postnauka.ru/video/33765\n",
      "http://postnauka.ru/video/32637\n",
      "http://postnauka.ru/video/31220\n",
      "http://postnauka.ru/video/33771\n",
      "http://postnauka.ru/video/3387\n",
      "http://postnauka.ru/video/33755\n",
      "http://postnauka.ru/video/33779\n",
      "http://postnauka.ru/video/32898\n",
      "http://postnauka.ru/video/32906\n",
      "http://postnauka.ru/video/43684\n",
      "http://postnauka.ru/video/43843\n",
      "http://postnauka.ru/video/32900\n",
      "http://postnauka.ru/video/32886\n",
      "http://postnauka.ru/video/32901\n",
      "http://postnauka.ru/video/3388\n",
      "http://postnauka.ru/video/31580\n",
      "http://postnauka.ru/video/40001\n",
      "http://postnauka.ru/video/33941\n",
      "http://postnauka.ru/video/3390\n",
      "http://postnauka.ru/video/42800\n",
      "http://postnauka.ru/video/3403\n"
     ]
    }
   ],
   "source": [
    "# Ваш код\n",
    "for i in range(0, 30):\n",
    "    print Theta2.ix[i].argmax()"
   ]
  },
  {
   "cell_type": "markdown",
   "metadata": {},
   "source": [
    "##### Заключение"
   ]
  },
  {
   "cell_type": "markdown",
   "metadata": {},
   "source": [
    "В этом Peer Review мы познакомились с базовыми возможностями библиотеки BigARTM и с методами визуализации тематических моделей. Визуализация тематических моделей - это широкая и активно развивающаяся область научных исследований. Мы рассмотрели только самые простые приемы. Желающие могут попробовать применить [Serendip](http://vep.cs.wisc.edu/serendip/#serendipHero), разработанный в  University of Wisconsin-Madison, к построенной модели. Эта библиотека позволяет максимально полно охарактеризовать темы и написана для языка python. \n",
    "\n",
    "Сделав задание, вы можете выбрать в навигаторе наиболее интересную для вас тему и посмотреть видеолекции :) На Постнауке очень много интересных материалов. "
   ]
  }
 ],
 "metadata": {
  "anaconda-cloud": {},
  "celltoolbar": "Raw Cell Format",
  "kernelspec": {
   "display_name": "Python [default]",
   "language": "python",
   "name": "python2"
  },
  "language_info": {
   "codemirror_mode": {
    "name": "ipython",
    "version": 2
   },
   "file_extension": ".py",
   "mimetype": "text/x-python",
   "name": "python",
   "nbconvert_exporter": "python",
   "pygments_lexer": "ipython2",
   "version": "2.7.12"
  },
  "widgets": {
   "state": {
    "0196a981effd46f3a560014b39098469": {
     "views": [
      {
       "cell_index": 22
      }
     ]
    },
    "0f84ab9a273946bc89130595ad6cc881": {
     "views": [
      {
       "cell_index": 22
      }
     ]
    },
    "15b443b85d954d1f900afb5562a5a3f0": {
     "views": [
      {
       "cell_index": 27
      }
     ]
    },
    "21af4dba1211445f9e83096bcf67fbc2": {
     "views": [
      {
       "cell_index": 22
      }
     ]
    },
    "2416d36ef64e40b9812484d1da74608b": {
     "views": [
      {
       "cell_index": 22
      }
     ]
    },
    "27630072ca314e8e91741ec824ee7382": {
     "views": [
      {
       "cell_index": 22
      }
     ]
    },
    "2aa6394d5b06473c9b449d8c3a6dc5b0": {
     "views": [
      {
       "cell_index": 27
      }
     ]
    },
    "2ba4e618d48b467086ba03b908aeecf1": {
     "views": [
      {
       "cell_index": 22
      }
     ]
    },
    "2e59c239fe5b4abc96ddf5da51fb9993": {
     "views": [
      {
       "cell_index": 22
      }
     ]
    },
    "32d3c51ed90043ed9d3f686f6203ca08": {
     "views": [
      {
       "cell_index": 22
      }
     ]
    },
    "35dc0155e665447db741a24523021ada": {
     "views": [
      {
       "cell_index": 27
      }
     ]
    },
    "38611423f8094a01aca7f91b2c5d9b4d": {
     "views": [
      {
       "cell_index": 22
      }
     ]
    },
    "3a5115e4ef604577b0975c62d70c48ab": {
     "views": [
      {
       "cell_index": 27
      }
     ]
    },
    "3bf6a55f98054cff955b08eeee07c859": {
     "views": [
      {
       "cell_index": 22
      }
     ]
    },
    "3c2e4d48298646e286aff89bbd1846cd": {
     "views": [
      {
       "cell_index": 22
      }
     ]
    },
    "5114347cf201487bb4276264dd6c4411": {
     "views": [
      {
       "cell_index": 22
      }
     ]
    },
    "562b364ca78c4211a718490fee3a3629": {
     "views": [
      {
       "cell_index": 22
      }
     ]
    },
    "5e56ff136c7f4f58a32fdf66406b3577": {
     "views": [
      {
       "cell_index": 27
      }
     ]
    },
    "5e6eceb8d25d4c1fb1da657cbf24b00b": {
     "views": [
      {
       "cell_index": 27
      }
     ]
    },
    "60f83d421e84490fbe250723aead7a6b": {
     "views": [
      {
       "cell_index": 22
      }
     ]
    },
    "65b6d0e0451c49c3968aaf4d17f32674": {
     "views": [
      {
       "cell_index": 22
      }
     ]
    },
    "76b533d8db4a42ee9285b9f49a43a69e": {
     "views": [
      {
       "cell_index": 27
      }
     ]
    },
    "78e132737f7749a693278310c74eee3f": {
     "views": [
      {
       "cell_index": 22
      }
     ]
    },
    "7a90523b054640e58b5a6daed02da572": {
     "views": [
      {
       "cell_index": 27
      }
     ]
    },
    "824f307ff441443da8c35f175f29504b": {
     "views": [
      {
       "cell_index": 22
      }
     ]
    },
    "853b232a90274f04926f0096e482bf77": {
     "views": [
      {
       "cell_index": 22
      }
     ]
    },
    "8b290d6bdf54412f9cac503d8813c530": {
     "views": [
      {
       "cell_index": 27
      }
     ]
    },
    "8fc5080777b84d5cb588fcd2fd915e30": {
     "views": [
      {
       "cell_index": 22
      }
     ]
    },
    "8fe4ad4026164a39bba9813a09c4cad6": {
     "views": [
      {
       "cell_index": 27
      }
     ]
    },
    "954b1ff13d9947a9aa06a3a908eb28ea": {
     "views": [
      {
       "cell_index": 22
      }
     ]
    },
    "982838e2c6234551828f1adb24e09484": {
     "views": [
      {
       "cell_index": 22
      }
     ]
    },
    "9f887700667e489394fa7a9f6f9d0f40": {
     "views": [
      {
       "cell_index": 22
      }
     ]
    },
    "a11da5b1768e451285e991e858c3a1a3": {
     "views": [
      {
       "cell_index": 22
      }
     ]
    },
    "b288b7055c8f47b488a69561deafd353": {
     "views": [
      {
       "cell_index": 27
      }
     ]
    },
    "b2abe939d507450fbd1b401327fc511e": {
     "views": [
      {
       "cell_index": 22
      }
     ]
    },
    "c59f3e121a0240b2bc1bdcef13c44f51": {
     "views": [
      {
       "cell_index": 27
      }
     ]
    },
    "d0018b23ba5d417ab3586d96934d4be9": {
     "views": [
      {
       "cell_index": 27
      }
     ]
    },
    "d81eea4c13994af98eeef7c1dbc46bd5": {
     "views": [
      {
       "cell_index": 27
      }
     ]
    },
    "da9f20d604cd4ab4a3f7ee2b42dc5313": {
     "views": [
      {
       "cell_index": 22
      }
     ]
    },
    "dc1b79a8a4f44af698bd2f95cc079725": {
     "views": [
      {
       "cell_index": 22
      }
     ]
    },
    "e1dc530ded8b4c3fa4239e880a06b144": {
     "views": [
      {
       "cell_index": 22
      }
     ]
    },
    "e309a2f9c22b4a31ad2166e0400ee2f0": {
     "views": [
      {
       "cell_index": 22
      }
     ]
    },
    "e3424acedb7c4d5aa612d278019af768": {
     "views": [
      {
       "cell_index": 22
      }
     ]
    },
    "e3e050f852a442b2bdd9bf7b328e908e": {
     "views": [
      {
       "cell_index": 22
      }
     ]
    },
    "e4e4c1c4768e4f199174b5dd3d70ca5c": {
     "views": [
      {
       "cell_index": 22
      }
     ]
    },
    "ef8ebaba8b7244daa7e67aa84b1de9f4": {
     "views": [
      {
       "cell_index": 27
      }
     ]
    },
    "fe0adc8191914d41893bff5e327c3fdd": {
     "views": [
      {
       "cell_index": 27
      }
     ]
    }
   },
   "version": "1.2.0"
  }
 },
 "nbformat": 4,
 "nbformat_minor": 0
}
