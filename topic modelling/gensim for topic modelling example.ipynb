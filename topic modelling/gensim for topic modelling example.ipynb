{
 "cells": [
  {
   "cell_type": "markdown",
   "metadata": {},
   "source": [
    "# Using gensim for topic modelling example"
   ]
  },
  {
   "cell_type": "markdown",
   "metadata": {},
   "source": [
    "(Based on Coursera MIPT & Yandex Machine Learning course)\n",
    "\n",
    "![comic1](http://imgs.xkcd.com/comics/seashell.png)"
   ]
  },
  {
   "cell_type": "code",
   "execution_count": 9,
   "metadata": {
    "collapsed": false
   },
   "outputs": [],
   "source": [
    "from gensim import corpora, models"
   ]
  },
  {
   "cell_type": "code",
   "execution_count": 10,
   "metadata": {
    "collapsed": false
   },
   "outputs": [],
   "source": [
    "# Import data as UCI Bag of words\n",
    "data = corpora.UciCorpus(\"docword.xkcd.txt\", \"vocab.xkcd.txt\")\n",
    "dictionary = data.create_dictionary()"
   ]
  },
  {
   "cell_type": "code",
   "execution_count": 13,
   "metadata": {
    "collapsed": false
   },
   "outputs": [
    {
     "name": "stdout",
     "output_type": "stream",
     "text": [
      "Wall time: 4min 35s\n"
     ]
    }
   ],
   "source": [
    "# fit the model\n",
    "%time ldamodel = models.ldamodel.LdaModel(data, id2word=dictionary, num_topics=5, passes=20, alpha=1.25, eta=1.25)"
   ]
  },
  {
   "cell_type": "code",
   "execution_count": 14,
   "metadata": {
    "collapsed": false
   },
   "outputs": [],
   "source": [
    "# save the model\n",
    "ldamodel.save(\"ldamodel_xkcd\")"
   ]
  },
  {
   "cell_type": "code",
   "execution_count": 15,
   "metadata": {
    "collapsed": false
   },
   "outputs": [],
   "source": [
    "# and load!\n",
    "ldamodel = models.ldamodel.LdaModel.load(\"ldamodel_xkcd\")"
   ]
  },
  {
   "cell_type": "code",
   "execution_count": 16,
   "metadata": {
    "collapsed": false
   },
   "outputs": [
    {
     "name": "stdout",
     "output_type": "stream",
     "text": [
      "Topic 0 : 0.002*\"wait\" + 0.002*\"peter\" + 0.001*\"map\" + 0.001*\"sagal\" + 0.001*\"wave\" + 0.001*\"boy\" + 0.001*\"dont\" + 0.001*\"reference\" + 0.001*\"text\" + 0.001*\"red\"\n",
      "Topic 1 : 0.002*\"exhibit\" + 0.001*\"paul\" + 0.001*\"ron\" + 0.001*\"label\" + 0.001*\"han\" + 0.001*\"planet\" + 0.001*\"dot\" + 0.001*\"text\" + 0.001*\"graph\" + 0.001*\"labeled\"\n",
      "Topic 2 : 0.023*\"man\" + 0.012*\"text\" + 0.011*\"person\" + 0.010*\"title\" + 0.009*\"woman\" + 0.008*\"guy\" + 0.007*\"one\" + 0.006*\"girl\" + 0.005*\"just\" + 0.005*\"two\"\n",
      "Topic 3 : 0.002*\"scientist\" + 0.001*\"beef\" + 0.001*\"base\" + 0.001*\"shark\" + 0.001*\"reporter\" + 0.001*\"space\" + 0.001*\"flu\" + 0.001*\"pizza\" + 0.001*\"cast\" + 0.001*\"tank\"\n",
      "Topic 4 : 0.002*\"goggles\" + 0.001*\"link\" + 0.001*\"degree\" + 0.001*\"jelly\" + 0.001*\"found\" + 0.001*\"bean\" + 0.001*\"acne\" + 0.001*\"egg\" + 0.001*\"005\" + 0.001*\"wikipedia\"\n"
     ]
    }
   ],
   "source": [
    "# print top words\n",
    "for t, top_words in ldamodel.print_topics(num_topics=10, num_words=10):\n",
    "    print \"Topic\", t, \":\", top_words"
   ]
  },
  {
   "cell_type": "code",
   "execution_count": 17,
   "metadata": {
    "collapsed": false
   },
   "outputs": [
    {
     "name": "stdout",
     "output_type": "stream",
     "text": [
      "350.369996937\n"
     ]
    }
   ],
   "source": [
    "# Measure perplexity log and transform to the generally accepted view\n",
    "perplexity = ldamodel.log_perplexity(list(data))\n",
    "print 2**(-perplexity)"
   ]
  },
  {
   "cell_type": "code",
   "execution_count": 18,
   "metadata": {
    "collapsed": false
   },
   "outputs": [
    {
     "data": {
      "text/plain": [
       "350.36999666623427"
      ]
     },
     "execution_count": 18,
     "metadata": {},
     "output_type": "execute_result"
    }
   ],
   "source": [
    "perp = ldamodel.bound(data)\n",
    "2**(-perp/float(87409))"
   ]
  },
  {
   "cell_type": "code",
   "execution_count": null,
   "metadata": {
    "collapsed": false,
    "scrolled": true
   },
   "outputs": [],
   "source": [
    "# Adding new documents to the current models\n",
    "ldamodel.update(data2, passes=10)"
   ]
  },
  {
   "cell_type": "code",
   "execution_count": null,
   "metadata": {
    "collapsed": false
   },
   "outputs": [],
   "source": [
    "# Getting distributions for specific document\n",
    "doc = list(data)[0]\n",
    "ldamodel.get_document_topics(doc)"
   ]
  },
  {
   "cell_type": "markdown",
   "metadata": {},
   "source": [
    "Эти люди не знают про тематические модели:\n",
    "\n",
    "![comic2](http://imgs.xkcd.com/comics/the_problem_with_wikipedia.png) | ![comic3](http://imgs.xkcd.com/comics/mystery_news.png)"
   ]
  }
 ],
 "metadata": {
  "anaconda-cloud": {},
  "kernelspec": {
   "display_name": "Python [default]",
   "language": "python",
   "name": "python2"
  },
  "language_info": {
   "codemirror_mode": {
    "name": "ipython",
    "version": 2
   },
   "file_extension": ".py",
   "mimetype": "text/x-python",
   "name": "python",
   "nbconvert_exporter": "python",
   "pygments_lexer": "ipython2",
   "version": "2.7.12"
  }
 },
 "nbformat": 4,
 "nbformat_minor": 0
}
