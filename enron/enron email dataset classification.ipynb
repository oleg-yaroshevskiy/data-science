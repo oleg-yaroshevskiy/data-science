{
 "cells": [
  {
   "cell_type": "code",
   "execution_count": 55,
   "metadata": {
    "collapsed": false
   },
   "outputs": [],
   "source": [
    "import numpy as np\n",
    "import pandas as pd\n",
    "import re\n",
    "import random\n",
    "import email\n",
    "from nltk.corpus import stopwords\n",
    "from sklearn.feature_extraction.text import TfidfVectorizer, CountVectorizer\n",
    "from sklearn.linear_model import LogisticRegression, SGDClassifier\n",
    "from sklearn import metrics \n",
    "from sklearn.feature_selection import SelectFromModel\n",
    "from sklearn.svm import LinearSVC\n",
    "from sklearn.ensemble import RandomForestClassifier, GradientBoostingClassifier\n",
    "from sklearn.cross_validation import cross_val_score\n",
    "from sklearn.grid_search import GridSearchCV\n",
    "from sklearn.metrics import classification_report\n",
    "from sklearn.metrics import confusion_matrix\n",
    "\n",
    "from sklearn.cross_validation import train_test_split\n",
    "from sklearn.decomposition import TruncatedSVD\n",
    "\n",
    "from scipy.sparse import coo_matrix, hstack"
   ]
  },
  {
   "cell_type": "code",
   "execution_count": 2,
   "metadata": {
    "collapsed": false
   },
   "outputs": [],
   "source": [
    "enron_data = pd.read_csv(\"enron-email-dataset/emails.csv\", header=0, quoting=2)"
   ]
  },
  {
   "cell_type": "code",
   "execution_count": 3,
   "metadata": {
    "collapsed": false
   },
   "outputs": [
    {
     "data": {
      "text/html": [
       "<div>\n",
       "<table border=\"1\" class=\"dataframe\">\n",
       "  <thead>\n",
       "    <tr style=\"text-align: right;\">\n",
       "      <th></th>\n",
       "      <th>file</th>\n",
       "      <th>message</th>\n",
       "    </tr>\n",
       "  </thead>\n",
       "  <tbody>\n",
       "    <tr>\n",
       "      <th>0</th>\n",
       "      <td>allen-p/_sent_mail/1.</td>\n",
       "      <td>Message-ID: &lt;18782981.1075855378110.JavaMail.e...</td>\n",
       "    </tr>\n",
       "    <tr>\n",
       "      <th>1</th>\n",
       "      <td>allen-p/_sent_mail/10.</td>\n",
       "      <td>Message-ID: &lt;15464986.1075855378456.JavaMail.e...</td>\n",
       "    </tr>\n",
       "    <tr>\n",
       "      <th>2</th>\n",
       "      <td>allen-p/_sent_mail/100.</td>\n",
       "      <td>Message-ID: &lt;24216240.1075855687451.JavaMail.e...</td>\n",
       "    </tr>\n",
       "    <tr>\n",
       "      <th>3</th>\n",
       "      <td>allen-p/_sent_mail/1000.</td>\n",
       "      <td>Message-ID: &lt;13505866.1075863688222.JavaMail.e...</td>\n",
       "    </tr>\n",
       "    <tr>\n",
       "      <th>4</th>\n",
       "      <td>allen-p/_sent_mail/1001.</td>\n",
       "      <td>Message-ID: &lt;30922949.1075863688243.JavaMail.e...</td>\n",
       "    </tr>\n",
       "  </tbody>\n",
       "</table>\n",
       "</div>"
      ],
      "text/plain": [
       "                       file                                            message\n",
       "0     allen-p/_sent_mail/1.  Message-ID: <18782981.1075855378110.JavaMail.e...\n",
       "1    allen-p/_sent_mail/10.  Message-ID: <15464986.1075855378456.JavaMail.e...\n",
       "2   allen-p/_sent_mail/100.  Message-ID: <24216240.1075855687451.JavaMail.e...\n",
       "3  allen-p/_sent_mail/1000.  Message-ID: <13505866.1075863688222.JavaMail.e...\n",
       "4  allen-p/_sent_mail/1001.  Message-ID: <30922949.1075863688243.JavaMail.e..."
      ]
     },
     "execution_count": 3,
     "metadata": {},
     "output_type": "execute_result"
    }
   ],
   "source": [
    "enron_data.head()"
   ]
  },
  {
   "cell_type": "code",
   "execution_count": 4,
   "metadata": {
    "collapsed": false
   },
   "outputs": [],
   "source": [
    "# filtering only those that contain 'sent' in file name (f.e _sent_mail, sent_mail, sent etc) \n",
    "\n",
    "enron_sent = enron_data[enron_data[\"file\"].str.contains('sent').tolist()]"
   ]
  },
  {
   "cell_type": "code",
   "execution_count": 5,
   "metadata": {
    "collapsed": false,
    "scrolled": true
   },
   "outputs": [
    {
     "data": {
      "text/plain": [
       "mann-k          8926\n",
       "kaminski-v      8644\n",
       "dasovich-j      5366\n",
       "germany-c       5128\n",
       "shackleton-s    4407\n",
       "jones-t         4123\n",
       "bass-e          3030\n",
       "lenhart-m       2759\n",
       "beck-s          2674\n",
       "symes-k         2649\n",
       "Name: sender, dtype: int64"
      ]
     },
     "execution_count": 5,
     "metadata": {},
     "output_type": "execute_result"
    }
   ],
   "source": [
    "# extracting senders (there might me cases like \"orgname/sender\" but so far as we need only top 10 senders we are ok)\n",
    "\n",
    "enron_sent = enron_sent.assign(sender=enron_sent[\"file\"].map(lambda x: re.search(\"(.*)/.*sent\", x).group(1)).values)\n",
    "enron_sent.drop(\"file\", axis=1, inplace=True)\n",
    "enron_sent[\"sender\"].value_counts().head(10)"
   ]
  },
  {
   "cell_type": "code",
   "execution_count": 6,
   "metadata": {
    "collapsed": false,
    "scrolled": false
   },
   "outputs": [
    {
     "name": "stdout",
     "output_type": "stream",
     "text": [
      "{'beck-s': 8, 'mann-k': 0, 'dasovich-j': 2, 'bass-e': 6, 'jones-t': 5, 'germany-c': 3, 'lenhart-m': 7, 'kaminski-v': 1, 'symes-k': 9, 'shackleton-s': 4}\n"
     ]
    }
   ],
   "source": [
    "# mapping top senders' names to use later as label series\n",
    "# we work only with top 10 senders\n",
    "\n",
    "top_senders = enron_sent[\"sender\"].value_counts().head(10).index.values\n",
    "mapping = dict(zip(top_senders, range(10)))\n",
    "print mapping"
   ]
  },
  {
   "cell_type": "code",
   "execution_count": 7,
   "metadata": {
    "collapsed": false
   },
   "outputs": [
    {
     "name": "stdout",
     "output_type": "stream",
     "text": [
      "(126846, 2)\n",
      "(47706, 2)\n"
     ]
    }
   ],
   "source": [
    "# info\n",
    "\n",
    "print enron_sent.shape\n",
    "print enron_sent[enron_sent.sender.isin(top_senders)].shape\n",
    "\n",
    "enron_sent = enron_sent[enron_sent.sender.isin(top_senders)]"
   ]
  },
  {
   "cell_type": "code",
   "execution_count": 8,
   "metadata": {
    "collapsed": false
   },
   "outputs": [
    {
     "name": "stdout",
     "output_type": "stream",
     "text": [
      "Message-ID: <28368401.1075846068730.JavaMail.evans@thyme>\n",
      "Date: Mon, 12 Feb 2001 08:01:00 -0800 (PST)\n",
      "From: kay.mann@enron.com\n",
      "To: suzanne.adams@enron.com\n",
      "Subject: \n",
      "Mime-Version: 1.0\n",
      "Content-Type: text/plain; charset=us-ascii\n",
      "Content-Transfer-Encoding: 7bit\n",
      "X-From: Kay Mann\n",
      "X-To: Suzanne Adams\n",
      "X-cc: \n",
      "X-bcc: \n",
      "X-Folder: \\Kay_Mann_June2001_4\\Notes Folders\\'sent mail\n",
      "X-Origin: MANN-K\n",
      "X-FileName: kmann.nsf\n",
      "\n",
      "Please print.  Thanks,  Kay\n",
      "---------------------- Forwarded by Kay Mann/Corp/Enron on 02/12/2001 04:00 \n",
      "PM ---------------------------\n",
      "From: Stuart Zisman@ECT on 02/12/2001 03:56 PM\n",
      "To: Kay Mann/Corp/Enron@Enron\n",
      "cc:  \n",
      "\n",
      "Subject: \n",
      "\n",
      "Per your request, attached are the AES/Calvert docs\n",
      "\n",
      "Stuart\n",
      "\n",
      "\n",
      "\n"
     ]
    }
   ],
   "source": [
    "# now let's take a look at random email\n",
    "\n",
    "print enron_sent.iloc[random.randint(0, enron_sent.shape[0]), 0]"
   ]
  },
  {
   "cell_type": "code",
   "execution_count": 9,
   "metadata": {
    "collapsed": true
   },
   "outputs": [],
   "source": [
    "# I use default email library just for simplicity. For real product I would use more complicated parsing tools or write my own\n",
    "# We extract email artificials and content from raw text\n",
    "\n",
    "def email_from_string(raw_email):\n",
    "    msg = email.message_from_string(raw_email)\n",
    "    \n",
    "    content = []\n",
    "    for part in msg.walk():\n",
    "        if part.get_content_type() == 'text/plain':\n",
    "            content.append(part.get_payload())\n",
    "            \n",
    "    result = {}\n",
    "    for key in msg.keys(): \n",
    "        result[key] = msg[key]\n",
    "    result[\"content\"] = ''.join(content)\n",
    "    \n",
    "    return result"
   ]
  },
  {
   "cell_type": "code",
   "execution_count": 10,
   "metadata": {
    "collapsed": false,
    "scrolled": true
   },
   "outputs": [],
   "source": [
    "enron_parsed = pd.DataFrame(list(map(email_from_string, enron_sent.message)))"
   ]
  },
  {
   "cell_type": "code",
   "execution_count": 11,
   "metadata": {
    "collapsed": false
   },
   "outputs": [
    {
     "data": {
      "text/html": [
       "<div>\n",
       "<table border=\"1\" class=\"dataframe\">\n",
       "  <thead>\n",
       "    <tr style=\"text-align: right;\">\n",
       "      <th></th>\n",
       "      <th>Bcc</th>\n",
       "      <th>Cc</th>\n",
       "      <th>Content-Transfer-Encoding</th>\n",
       "      <th>Content-Type</th>\n",
       "      <th>Date</th>\n",
       "      <th>From</th>\n",
       "      <th>Message-ID</th>\n",
       "      <th>Mime-Version</th>\n",
       "      <th>Subject</th>\n",
       "      <th>To</th>\n",
       "      <th>X-FileName</th>\n",
       "      <th>X-Folder</th>\n",
       "      <th>X-From</th>\n",
       "      <th>X-Origin</th>\n",
       "      <th>X-To</th>\n",
       "      <th>X-bcc</th>\n",
       "      <th>X-cc</th>\n",
       "      <th>content</th>\n",
       "    </tr>\n",
       "  </thead>\n",
       "  <tbody>\n",
       "    <tr>\n",
       "      <th>0</th>\n",
       "      <td>NaN</td>\n",
       "      <td>NaN</td>\n",
       "      <td>7bit</td>\n",
       "      <td>text/plain; charset=us-ascii</td>\n",
       "      <td>Fri, 9 Mar 2001 11:24:00 -0800 (PST)</td>\n",
       "      <td>eric.bass@enron.com</td>\n",
       "      <td>&lt;17027752.1075840325838.JavaMail.evans@thyme&gt;</td>\n",
       "      <td>1.0</td>\n",
       "      <td>Rebook - QU0663 Mirant</td>\n",
       "      <td>chance.rabon@enron.com</td>\n",
       "      <td>eric bass 6-25-02.PST</td>\n",
       "      <td>\\ExMerge - Bass, Eric\\'Sent Mail</td>\n",
       "      <td>Eric Bass</td>\n",
       "      <td>BASS-E</td>\n",
       "      <td>Chance Rabon &lt;Chance Rabon/ENRON@enronXgate&gt;</td>\n",
       "      <td></td>\n",
       "      <td></td>\n",
       "      <td>\\n---------------------- Forwarded by Eric Bas...</td>\n",
       "    </tr>\n",
       "  </tbody>\n",
       "</table>\n",
       "</div>"
      ],
      "text/plain": [
       "   Bcc   Cc Content-Transfer-Encoding                  Content-Type  \\\n",
       "0  NaN  NaN                      7bit  text/plain; charset=us-ascii   \n",
       "\n",
       "                                   Date                 From  \\\n",
       "0  Fri, 9 Mar 2001 11:24:00 -0800 (PST)  eric.bass@enron.com   \n",
       "\n",
       "                                      Message-ID Mime-Version  \\\n",
       "0  <17027752.1075840325838.JavaMail.evans@thyme>          1.0   \n",
       "\n",
       "                  Subject                      To             X-FileName  \\\n",
       "0  Rebook - QU0663 Mirant  chance.rabon@enron.com  eric bass 6-25-02.PST   \n",
       "\n",
       "                           X-Folder     X-From X-Origin  \\\n",
       "0  \\ExMerge - Bass, Eric\\'Sent Mail  Eric Bass   BASS-E   \n",
       "\n",
       "                                           X-To X-bcc X-cc  \\\n",
       "0  Chance Rabon <Chance Rabon/ENRON@enronXgate>              \n",
       "\n",
       "                                             content  \n",
       "0  \\n---------------------- Forwarded by Eric Bas...  "
      ]
     },
     "execution_count": 11,
     "metadata": {},
     "output_type": "execute_result"
    }
   ],
   "source": [
    "enron_parsed.head(1)"
   ]
  },
  {
   "cell_type": "code",
   "execution_count": 12,
   "metadata": {
    "collapsed": false,
    "scrolled": false
   },
   "outputs": [
    {
     "name": "stdout",
     "output_type": "stream",
     "text": [
      "<class 'pandas.core.frame.DataFrame'>\n",
      "RangeIndex: 47706 entries, 0 to 47705\n",
      "Data columns (total 18 columns):\n",
      "Bcc                          9259 non-null object\n",
      "Cc                           9259 non-null object\n",
      "Content-Transfer-Encoding    47706 non-null object\n",
      "Content-Type                 47706 non-null object\n",
      "Date                         47706 non-null object\n",
      "From                         47706 non-null object\n",
      "Message-ID                   47706 non-null object\n",
      "Mime-Version                 47706 non-null object\n",
      "Subject                      47706 non-null object\n",
      "To                           47640 non-null object\n",
      "X-FileName                   47706 non-null object\n",
      "X-Folder                     47706 non-null object\n",
      "X-From                       47706 non-null object\n",
      "X-Origin                     47706 non-null object\n",
      "X-To                         47706 non-null object\n",
      "X-bcc                        47706 non-null object\n",
      "X-cc                         47706 non-null object\n",
      "content                      47706 non-null object\n",
      "dtypes: object(18)\n",
      "memory usage: 6.6+ MB\n"
     ]
    }
   ],
   "source": [
    "# cc and bcc stand for carbon copy and blind carbon copy and that may be useful for classification\n",
    "# Also we might use \"To\" or any other metadata but I believe the idea of this work is to use simply \"content\" + \"subject\" \n",
    "\n",
    "enron_parsed.info()"
   ]
  },
  {
   "cell_type": "code",
   "execution_count": 13,
   "metadata": {
    "collapsed": true
   },
   "outputs": [],
   "source": [
    "#here we do simply two things: 1 remove numbers and 2 remove stowords using nltk stopwords corpus\n",
    "\n",
    "def content_to_wordlist( content, remove_stopwords=False ):\n",
    "    content = re.sub(\"[^a-zA-Z]\",\" \", content)\n",
    "    words = content.lower().split()\n",
    "    \n",
    "    if remove_stopwords:\n",
    "        stops = set(stopwords.words(\"english\"))\n",
    "        words = [w for w in words if not w in stops]\n",
    "\n",
    "    return ' '.join(words)"
   ]
  },
  {
   "cell_type": "code",
   "execution_count": 14,
   "metadata": {
    "collapsed": false
   },
   "outputs": [],
   "source": [
    "# enron_parsed['To'] = enron_parsed['To'].astype(str) # in case we want to use 'To' as information\n",
    "data = pd.DataFrame(map(content_to_wordlist, \n",
    "                              enron_parsed[['Subject', 'content']].apply(lambda x: ' '.join(x), axis=1)), \n",
    "                          columns = [\"content\"])"
   ]
  },
  {
   "cell_type": "code",
   "execution_count": 15,
   "metadata": {
    "collapsed": false
   },
   "outputs": [
    {
     "data": {
      "text/html": [
       "<div>\n",
       "<table border=\"1\" class=\"dataframe\">\n",
       "  <thead>\n",
       "    <tr style=\"text-align: right;\">\n",
       "      <th></th>\n",
       "      <th>content</th>\n",
       "      <th>sender</th>\n",
       "    </tr>\n",
       "  </thead>\n",
       "  <tbody>\n",
       "    <tr>\n",
       "      <th>0</th>\n",
       "      <td>rebook qu mirant forwarded by eric bass hou ec...</td>\n",
       "      <td>6</td>\n",
       "    </tr>\n",
       "    <tr>\n",
       "      <th>1</th>\n",
       "      <td>for your viewing pleasure forwarded by eric ba...</td>\n",
       "      <td>6</td>\n",
       "    </tr>\n",
       "    <tr>\n",
       "      <th>2</th>\n",
       "      <td>re fw christmas i think we are going to stay i...</td>\n",
       "      <td>6</td>\n",
       "    </tr>\n",
       "    <tr>\n",
       "      <th>3</th>\n",
       "      <td>re i didn t go either today is legs and lower ...</td>\n",
       "      <td>6</td>\n",
       "    </tr>\n",
       "    <tr>\n",
       "      <th>4</th>\n",
       "      <td>fwd the perils of limbo forwarded by eric bass...</td>\n",
       "      <td>6</td>\n",
       "    </tr>\n",
       "  </tbody>\n",
       "</table>\n",
       "</div>"
      ],
      "text/plain": [
       "                                             content  sender\n",
       "0  rebook qu mirant forwarded by eric bass hou ec...       6\n",
       "1  for your viewing pleasure forwarded by eric ba...       6\n",
       "2  re fw christmas i think we are going to stay i...       6\n",
       "3  re i didn t go either today is legs and lower ...       6\n",
       "4  fwd the perils of limbo forwarded by eric bass...       6"
      ]
     },
     "execution_count": 15,
     "metadata": {},
     "output_type": "execute_result"
    }
   ],
   "source": [
    "data = data.assign(sender=enron_sent[\"sender\"].values)\n",
    "data = data.replace({'sender': mapping})\n",
    "data.head()"
   ]
  },
  {
   "cell_type": "code",
   "execution_count": 16,
   "metadata": {
    "collapsed": true
   },
   "outputs": [],
   "source": [
    "# now we split data for training and test sets\n",
    "\n",
    "data_train, data_test, y_train, y_test = train_test_split(data.content.values, data.sender.values, test_size=0.25)"
   ]
  },
  {
   "cell_type": "code",
   "execution_count": 17,
   "metadata": {
    "collapsed": false
   },
   "outputs": [],
   "source": [
    "# lets vectorize our content using default params\n",
    "\n",
    "vect = TfidfVectorizer(sublinear_tf=True, use_idf=True)\n",
    "X_train = vect.fit_transform(data_train)\n",
    "X_test = vect.transform(data_test)"
   ]
  },
  {
   "cell_type": "code",
   "execution_count": 18,
   "metadata": {
    "collapsed": false
   },
   "outputs": [
    {
     "data": {
      "text/plain": [
       "(35779, 72977)"
      ]
     },
     "execution_count": 18,
     "metadata": {},
     "output_type": "execute_result"
    }
   ],
   "source": [
    "# 72k features!\n",
    "X_train.shape"
   ]
  },
  {
   "cell_type": "code",
   "execution_count": 32,
   "metadata": {
    "collapsed": false
   },
   "outputs": [
    {
     "name": "stdout",
     "output_type": "stream",
     "text": [
      "(35779, 1200)\n"
     ]
    }
   ],
   "source": [
    "# let's try to use simple feature selection using l1 regularization and default threshold\n",
    "\n",
    "clf = LogisticRegression(penalty='l1')\n",
    "clf.fit(X_train, y_train)\n",
    "\n",
    "model = SelectFromModel(clf, prefit=True)\n",
    "X_train_new = model.transform(X_train)\n",
    "\n",
    "print X_train_new.shape"
   ]
  },
  {
   "cell_type": "code",
   "execution_count": 31,
   "metadata": {
    "collapsed": false
   },
   "outputs": [
    {
     "name": "stdout",
     "output_type": "stream",
     "text": [
      "0.960703418097\n",
      "0.944241299955\n",
      "0.950781458876\n",
      "0.930713990862\n"
     ]
    }
   ],
   "source": [
    "# non linear methods? I skip GradientBoostingClassifier for now because of my laptop low productivity :(\n",
    "# we will use cross validation with 3 folds for estimation\n",
    "\n",
    "for classifier in [LinearSVC, LogisticRegression, SGDClassifier, RandomForestClassifier]:\n",
    "    print cross_val_score(classifier(), X_train_new, y_train, cv=3).mean()"
   ]
  },
  {
   "cell_type": "code",
   "execution_count": 20,
   "metadata": {
    "collapsed": false,
    "scrolled": true
   },
   "outputs": [
    {
     "name": "stdout",
     "output_type": "stream",
     "text": [
      "275\n",
      "0.943486258801\n",
      "0.933396612655\n",
      "0.933537312386\n",
      "0.899605635764\n"
     ]
    }
   ],
   "source": [
    "# let's try with the same vectorized data but using truncatedSVD as dimensionality redction method\n",
    "# I set C=0.15 to reduce number of features ~100-200 \n",
    "\n",
    "clf = LogisticRegression(C=0.15, penalty='l1')\n",
    "clf.fit(X_train, y_train)\n",
    "\n",
    "n_comp = np.sum(np.abs(clf.coef_) > 1e-4)\n",
    "print n_comp\n",
    "\n",
    "tsvd = TruncatedSVD(n_components = n_comp)\n",
    "X_train_pca = tsvd.fit_transform(X_train)\n",
    "\n",
    "for classifier in [LinearSVC, LogisticRegression, SGDClassifier, RandomForestClassifier]:\n",
    "    print cross_val_score(classifier(), X_train_pca, y_train, cv=3).mean()"
   ]
  },
  {
   "cell_type": "code",
   "execution_count": 50,
   "metadata": {
    "collapsed": false
   },
   "outputs": [
    {
     "name": "stdout",
     "output_type": "stream",
     "text": [
      "(35779, 15280)\n"
     ]
    }
   ],
   "source": [
    "# lets try to set params for tf-idf vectorizer\n",
    "\n",
    "vect = TfidfVectorizer(max_df=300, min_df=10)\n",
    "\n",
    "X_train = vect.fit_transform(data_train)\n",
    "\n",
    "print X_train.shape"
   ]
  },
  {
   "cell_type": "code",
   "execution_count": 51,
   "metadata": {
    "collapsed": false
   },
   "outputs": [
    {
     "name": "stdout",
     "output_type": "stream",
     "text": [
      "946\n",
      "0.809088622453\n",
      "0.782594114195\n",
      "0.77890500545\n",
      "0.817389117129\n"
     ]
    }
   ],
   "source": [
    "clf = LogisticRegression(C=0.15, penalty='l1')\n",
    "clf.fit(X_train, y_train)\n",
    "\n",
    "n_comp = np.sum(np.abs(clf.coef_) > 1e-4)\n",
    "print n_comp\n",
    "\n",
    "tsvd = TruncatedSVD(n_components = n_comp)\n",
    "X_train_pca = tsvd.fit_transform(X_train)\n",
    "\n",
    "for classifier in [LinearSVC, LogisticRegression, SGDClassifier, RandomForestClassifier]:\n",
    "    print cross_val_score(classifier(), X_train_pca, y_train, cv=3).mean()"
   ]
  },
  {
   "cell_type": "code",
   "execution_count": 53,
   "metadata": {
    "collapsed": false
   },
   "outputs": [],
   "source": [
    "# we see it's hard to filter frequency of words manually\n",
    "# let's fit min number of components for previous model \n",
    "\n",
    "vect = TfidfVectorizer(sublinear_tf=True, use_idf=True)\n",
    "X_train = vect.fit_transform(data_train)"
   ]
  },
  {
   "cell_type": "code",
   "execution_count": 59,
   "metadata": {
    "collapsed": false
   },
   "outputs": [
    {
     "name": "stdout",
     "output_type": "stream",
     "text": [
      "0.845979709902\n",
      "0.908275341662\n",
      "0.920516475224\n",
      "0.924960174394\n",
      "0.930409994131\n",
      "0.93326066907\n",
      "0.934350633018\n",
      "0.936279030771\n",
      "0.938123585143\n",
      "0.937955898382\n",
      "0.940051982896\n"
     ]
    }
   ],
   "source": [
    "scores = []\n",
    "for n_components in range(10, 200, 10):\n",
    "    tsvd = TruncatedSVD(n_components = n_components)\n",
    "    X_train_pca = tsvd.fit_transform(X_train)\n",
    "\n",
    "    score = cross_val_score(LinearSVC(), X_train_pca, y_train, cv=3).mean()\n",
    "    scores.append(score)\n",
    "    print score"
   ]
  },
  {
   "cell_type": "code",
   "execution_count": 63,
   "metadata": {
    "collapsed": false
   },
   "outputs": [
    {
     "data": {
      "image/png": "[encoded data removed]",
      "text/plain": [
       "<matplotlib.figure.Figure at 0xc6bf5a20>"
      ]
     },
     "metadata": {},
     "output_type": "display_data"
    }
   ],
   "source": [
    "import matplotlib.pyplot as plt\n",
    "plt.plot(range(10, 200, 10), scores)\n",
    "plt.show()"
   ]
  },
  {
   "cell_type": "code",
   "execution_count": 33,
   "metadata": {
    "collapsed": false
   },
   "outputs": [
    {
     "data": {
      "text/plain": [
       "GridSearchCV(cv=None, error_score='raise',\n",
       "       estimator=LinearSVC(C=1.0, class_weight=None, dual=True, fit_intercept=True,\n",
       "     intercept_scaling=1, loss='squared_hinge', max_iter=1000,\n",
       "     multi_class='ovr', penalty='l2', random_state=None, tol=0.0001,\n",
       "     verbose=0),\n",
       "       fit_params={}, iid=True, n_jobs=1,\n",
       "       param_grid={'C': [0.1, 0.3, 0.5, 1, 3, 5, 10, 30]},\n",
       "       pre_dispatch='2*n_jobs', refit=True, scoring=None, verbose=0)"
      ]
     },
     "execution_count": 33,
     "metadata": {},
     "output_type": "execute_result"
    }
   ],
   "source": [
    "#let's fit parameters for linear svm\n",
    "\n",
    "tsvd = TruncatedSVD(n_components = 120)\n",
    "X_train_pca = tsvd.fit_transform(X_train)\n",
    "\n",
    "parameters = {'C':[0.1, 0.3, 0.5, 1, 3, 5, 10, 30]}\n",
    "clf = GridSearchCV(LinearSVC(), parameters)\n",
    "clf.fit(X_train_pca, y_train)"
   ]
  },
  {
   "cell_type": "code",
   "execution_count": 34,
   "metadata": {
    "collapsed": false
   },
   "outputs": [
    {
     "data": {
      "text/plain": [
       "[mean: 0.92918, std: 0.00164, params: {'C': 0.1},\n",
       " mean: 0.93415, std: 0.00186, params: {'C': 0.3},\n",
       " mean: 0.93619, std: 0.00155, params: {'C': 0.5},\n",
       " mean: 0.93832, std: 0.00100, params: {'C': 1},\n",
       " mean: 0.94038, std: 0.00145, params: {'C': 3},\n",
       " mean: 0.94103, std: 0.00165, params: {'C': 5},\n",
       " mean: 0.94108, std: 0.00173, params: {'C': 10},\n",
       " mean: 0.94131, std: 0.00156, params: {'C': 30}]"
      ]
     },
     "execution_count": 34,
     "metadata": {},
     "output_type": "execute_result"
    }
   ],
   "source": [
    "clf.grid_scores_"
   ]
  },
  {
   "cell_type": "code",
   "execution_count": 39,
   "metadata": {
    "collapsed": false,
    "scrolled": true
   },
   "outputs": [
    {
     "name": "stdout",
     "output_type": "stream",
     "text": [
      "0.938878175568\n"
     ]
    }
   ],
   "source": [
    "# finally let's train the model on the test data and do some model evaluation\n",
    "\n",
    "tsvd = TruncatedSVD(n_components = 120)\n",
    "X_train_pca = tsvd.fit_transform(X_train)\n",
    "X_test_pca = tsvd.transform(X_test)\n",
    "\n",
    "clf = LinearSVC()\n",
    "clf.fit(X_train_pca, y_train)\n",
    "\n",
    "print metrics.accuracy_score(y_test, clf.predict(X_test_pca))"
   ]
  },
  {
   "cell_type": "code",
   "execution_count": 44,
   "metadata": {
    "collapsed": false,
    "scrolled": true
   },
   "outputs": [
    {
     "data": {
      "text/plain": [
       "array([[2166,   11,    9,   25,    2,    4,    6,   37,    7,    1],\n",
       "       [   4, 2196,    6,   15,    2,    3,    8,    1,    2,    0],\n",
       "       [   8,   18, 1240,   15,    0,    3,    1,   52,    2,    1],\n",
       "       [  14,   11,   11, 1154,    2,    6,    8,   38,    5,    3],\n",
       "       [   9,    8,    0,    9, 1005,   27,    2,    3,    3,    0],\n",
       "       [   8,    6,    9,   11,   22,  940,    3,   33,    0,    0],\n",
       "       [   6,   14,   10,   28,    1,    2,  624,   28,    3,    1],\n",
       "       [   5,    4,   14,   23,    0,    9,   24,  623,    0,    4],\n",
       "       [   0,    1,    4,    7,    0,    2,    0,    4,  648,    0],\n",
       "       [   5,    4,    4,   10,    0,    2,    1,   13,    2,  602]])"
      ]
     },
     "execution_count": 44,
     "metadata": {},
     "output_type": "execute_result"
    }
   ],
   "source": [
    "confusion_matrix(y_test, clf.predict(X_test_pca))"
   ]
  },
  {
   "cell_type": "code",
   "execution_count": 45,
   "metadata": {
    "collapsed": false,
    "scrolled": false
   },
   "outputs": [
    {
     "name": "stdout",
     "output_type": "stream",
     "text": [
      "              precision    recall  f1-score   support\n",
      "\n",
      "      mann-k       0.97      0.96      0.96      2268\n",
      "  kaminski-v       0.97      0.98      0.97      2237\n",
      "  dasovich-j       0.95      0.93      0.94      1340\n",
      "   germany-c       0.89      0.92      0.91      1252\n",
      "shackleton-s       0.97      0.94      0.96      1066\n",
      "     jones-t       0.94      0.91      0.93      1032\n",
      "      bass-e       0.92      0.87      0.90       717\n",
      "   lenhart-m       0.75      0.88      0.81       706\n",
      "      beck-s       0.96      0.97      0.97       666\n",
      "     symes-k       0.98      0.94      0.96       643\n",
      "\n",
      " avg / total       0.94      0.94      0.94     11927\n",
      "\n"
     ]
    }
   ],
   "source": [
    "print(classification_report(y_test, clf.predict(X_test_pca), target_names=top_senders))"
   ]
  },
  {
   "cell_type": "markdown",
   "metadata": {},
   "source": [
    "I believe we get these high scores with that small amount of features because of names/email addresses encoded in email raw content. But there were no bans fot this:) Let's try to add some email metadata:"
   ]
  },
  {
   "cell_type": "code",
   "execution_count": 14,
   "metadata": {
    "collapsed": true
   },
   "outputs": [],
   "source": [
    "# we add To and Bcc/cc features from mail metadata to see if it will increase our accuracy:\n",
    "\n",
    "enron_parsed['To'] = enron_parsed['To'].astype(str) \n",
    "data = pd.DataFrame(map(content_to_wordlist, enron_parsed[['Subject', 'content', 'To']].apply(lambda x: ' '.join(x), axis=1)), \n",
    "                          columns = [\"content\"])"
   ]
  },
  {
   "cell_type": "code",
   "execution_count": 22,
   "metadata": {
    "collapsed": false
   },
   "outputs": [
    {
     "data": {
      "text/html": [
       "<div>\n",
       "<table border=\"1\" class=\"dataframe\">\n",
       "  <thead>\n",
       "    <tr style=\"text-align: right;\">\n",
       "      <th></th>\n",
       "      <th>content</th>\n",
       "      <th>bcc</th>\n",
       "      <th>sender</th>\n",
       "    </tr>\n",
       "  </thead>\n",
       "  <tbody>\n",
       "    <tr>\n",
       "      <th>0</th>\n",
       "      <td>rebook qu mirant forwarded by eric bass hou ec...</td>\n",
       "      <td>1</td>\n",
       "      <td>6</td>\n",
       "    </tr>\n",
       "    <tr>\n",
       "      <th>1</th>\n",
       "      <td>for your viewing pleasure forwarded by eric ba...</td>\n",
       "      <td>1</td>\n",
       "      <td>6</td>\n",
       "    </tr>\n",
       "    <tr>\n",
       "      <th>2</th>\n",
       "      <td>re fw christmas i think we are going to stay i...</td>\n",
       "      <td>1</td>\n",
       "      <td>6</td>\n",
       "    </tr>\n",
       "    <tr>\n",
       "      <th>3</th>\n",
       "      <td>re i didn t go either today is legs and lower ...</td>\n",
       "      <td>1</td>\n",
       "      <td>6</td>\n",
       "    </tr>\n",
       "    <tr>\n",
       "      <th>4</th>\n",
       "      <td>fwd the perils of limbo forwarded by eric bass...</td>\n",
       "      <td>1</td>\n",
       "      <td>6</td>\n",
       "    </tr>\n",
       "  </tbody>\n",
       "</table>\n",
       "</div>"
      ],
      "text/plain": [
       "                                             content  bcc  sender\n",
       "0  rebook qu mirant forwarded by eric bass hou ec...    1       6\n",
       "1  for your viewing pleasure forwarded by eric ba...    1       6\n",
       "2  re fw christmas i think we are going to stay i...    1       6\n",
       "3  re i didn t go either today is legs and lower ...    1       6\n",
       "4  fwd the perils of limbo forwarded by eric bass...    1       6"
      ]
     },
     "execution_count": 22,
     "metadata": {},
     "output_type": "execute_result"
    }
   ],
   "source": [
    "data['bcc'] = enron_parsed['Bcc'].isnull().astype(int)\n",
    "\n",
    "data = data.assign(sender=enron_sent[\"sender\"].values)\n",
    "data = data.replace({'sender': mapping})\n",
    "data.head()"
   ]
  },
  {
   "cell_type": "code",
   "execution_count": 61,
   "metadata": {
    "collapsed": false
   },
   "outputs": [],
   "source": [
    "data_train, data_test, y_train, y_test = train_test_split(data[['content', 'bcc']], data['sender'], test_size=0.25)\n",
    "\n",
    "vect = TfidfVectorizer(sublinear_tf=True, use_idf=True)\n",
    "X_train = vect.fit_transform(data_train.content)\n",
    "X_test = vect.transform(data_test.content)\n",
    "\n",
    "X_train = hstack([coo_matrix(X_train), coo_matrix(data_train.bcc).transpose()])\n",
    "X_test = hstack([coo_matrix(X_test), coo_matrix(data_test.bcc).transpose()])"
   ]
  },
  {
   "cell_type": "code",
   "execution_count": 62,
   "metadata": {
    "collapsed": false
   },
   "outputs": [
    {
     "name": "stdout",
     "output_type": "stream",
     "text": [
      "(35779, 73329)\n",
      "(11927, 73329)\n"
     ]
    }
   ],
   "source": [
    "print X_train.shape\n",
    "print X_test.shape"
   ]
  },
  {
   "cell_type": "code",
   "execution_count": 71,
   "metadata": {
    "collapsed": false
   },
   "outputs": [
    {
     "name": "stdout",
     "output_type": "stream",
     "text": [
      "0.958749056762\n",
      "0.958700649629\n"
     ]
    }
   ],
   "source": [
    "tsvd = TruncatedSVD(n_components = 120)\n",
    "X_train_pca = tsvd.fit_transform(X_train)\n",
    "X_test_pca = tsvd.transform(X_test)\n",
    "\n",
    "clf = LinearSVC()\n",
    "clf.fit(X_train_pca, y_train)\n",
    "\n",
    "print metrics.accuracy_score(y_test, clf.predict(X_test_pca))\n",
    "print metrics.f1_score(y_test, clf.predict(X_test_pca), average=\"weighted\")"
   ]
  },
  {
   "cell_type": "code",
   "execution_count": 64,
   "metadata": {
    "collapsed": false
   },
   "outputs": [
    {
     "data": {
      "text/plain": [
       "array([[2241,    3,    4,    6,    6,    8,    1,    8,    5,    0],\n",
       "       [   0, 2147,   11,    3,    0,    1,    2,    2,    2,    0],\n",
       "       [   2,    0, 1303,    8,    1,    6,    1,   11,    1,    2],\n",
       "       [   5,   11,    6, 1215,    3,    0,    1,   11,    2,    2],\n",
       "       [   4,    5,    4,    8, 1049,   54,    0,    2,    2,    1],\n",
       "       [   9,    3,    8,   10,   57,  874,    2,   16,    3,    3],\n",
       "       [   3,    2,    1,   11,    0,    2,  690,   36,    3,    0],\n",
       "       [   1,    1,    8,    9,    2,    3,   33,  631,    1,    5],\n",
       "       [   0,    5,    2,    3,    1,    4,    0,    4,  655,    1],\n",
       "       [   6,    3,    6,    8,    0,    5,    2,    3,    1,  621]])"
      ]
     },
     "execution_count": 64,
     "metadata": {},
     "output_type": "execute_result"
    }
   ],
   "source": [
    "confusion_matrix(y_test, clf.predict(X_test_pca))"
   ]
  },
  {
   "cell_type": "code",
   "execution_count": 65,
   "metadata": {
    "collapsed": false
   },
   "outputs": [
    {
     "name": "stdout",
     "output_type": "stream",
     "text": [
      "              precision    recall  f1-score   support\n",
      "\n",
      "      mann-k       0.99      0.98      0.98      2282\n",
      "  kaminski-v       0.98      0.99      0.99      2168\n",
      "  dasovich-j       0.96      0.98      0.97      1335\n",
      "   germany-c       0.95      0.97      0.96      1256\n",
      "shackleton-s       0.94      0.93      0.93      1129\n",
      "     jones-t       0.91      0.89      0.90       985\n",
      "      bass-e       0.94      0.92      0.93       748\n",
      "   lenhart-m       0.87      0.91      0.89       694\n",
      "      beck-s       0.97      0.97      0.97       675\n",
      "     symes-k       0.98      0.95      0.96       655\n",
      "\n",
      " avg / total       0.96      0.96      0.96     11927\n",
      "\n"
     ]
    }
   ],
   "source": [
    "print(classification_report(y_test, clf.predict(X_test_pca), target_names=top_senders))"
   ]
  },
  {
   "cell_type": "markdown",
   "metadata": {},
   "source": [
    "So adding 'To' and 'Bcc' leads to slightly better result in classification. Of course to increase accuracy we need to do better preprocessing of raw emails f.e. to extract information from content of the mail (email addresses, references, forwards, names etc) but still we score a good one here. Unfortunately I was on able to run GradientBoostingClassifier, XGBoost models on this machine"
   ]
  },
  {
   "cell_type": "code",
   "execution_count": null,
   "metadata": {
    "collapsed": true
   },
   "outputs": [],
   "source": []
  }
 ],
 "metadata": {
  "anaconda-cloud": {},
  "kernelspec": {
   "display_name": "Python [default]",
   "language": "python",
   "name": "python2"
  },
  "language_info": {
   "codemirror_mode": {
    "name": "ipython",
    "version": 2
   },
   "file_extension": ".py",
   "mimetype": "text/x-python",
   "name": "python",
   "nbconvert_exporter": "python",
   "pygments_lexer": "ipython2",
   "version": "2.7.12"
  }
 },
 "nbformat": 4,
 "nbformat_minor": 1
}
