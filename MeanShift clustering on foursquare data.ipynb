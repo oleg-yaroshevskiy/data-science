{
 "cells": [
  {
   "cell_type": "code",
   "execution_count": 26,
   "metadata": {
    "collapsed": false
   },
   "outputs": [],
   "source": [
    "import pandas as pd\n",
    "import numpy as np\n",
    "\n",
    "data = pd.read_csv('checkins.dat', delimiter=\"|\", header=0)"
   ]
  },
  {
   "cell_type": "code",
   "execution_count": 28,
   "metadata": {
    "collapsed": false
   },
   "outputs": [
    {
     "data": {
      "text/plain": [
       "Index([u'id', u'user_id', u'venue_id', u'latitude', u'longitude',\n",
       "       u'created_at'],\n",
       "      dtype='object')"
      ]
     },
     "execution_count": 28,
     "metadata": {},
     "output_type": "execute_result"
    }
   ],
   "source": [
    "data.columns = data.columns.str.strip()\n",
    "data.columns"
   ]
  },
  {
   "cell_type": "code",
   "execution_count": 35,
   "metadata": {
    "collapsed": false
   },
   "outputs": [],
   "source": [
    "data[\"latitude\"] = data[\"latitude\"].str.strip()\n",
    "data[\"latitude\"].replace('', np.nan, inplace=True)\n",
    "data.dropna(inplace=True)"
   ]
  },
  {
   "cell_type": "code",
   "execution_count": 32,
   "metadata": {
    "collapsed": true
   },
   "outputs": [],
   "source": [
    "data.dropna(inplace=True)"
   ]
  },
  {
   "cell_type": "code",
   "execution_count": 36,
   "metadata": {
    "collapsed": false
   },
   "outputs": [
    {
     "name": "stdout",
     "output_type": "stream",
     "text": [
      "<class 'pandas.core.frame.DataFrame'>\n",
      "Int64Index: 396634 entries, 1 to 1021964\n",
      "Data columns (total 6 columns):\n",
      "id            396634 non-null int64\n",
      "user_id       396634 non-null int64\n",
      "venue_id      396634 non-null int64\n",
      "latitude      396634 non-null object\n",
      "longitude     396634 non-null object\n",
      "created_at    396634 non-null object\n",
      "dtypes: int64(3), object(3)\n",
      "memory usage: 21.2+ MB\n"
     ]
    }
   ],
   "source": [
    "data.info()"
   ]
  },
  {
   "cell_type": "code",
   "execution_count": 39,
   "metadata": {
    "collapsed": false
   },
   "outputs": [
    {
     "data": {
      "text/html": [
       "<div>\n",
       "<table border=\"1\" class=\"dataframe\">\n",
       "  <thead>\n",
       "    <tr style=\"text-align: right;\">\n",
       "      <th></th>\n",
       "      <th>id</th>\n",
       "      <th>user_id</th>\n",
       "      <th>venue_id</th>\n",
       "      <th>latitude</th>\n",
       "      <th>longitude</th>\n",
       "      <th>created_at</th>\n",
       "    </tr>\n",
       "  </thead>\n",
       "  <tbody>\n",
       "    <tr>\n",
       "      <th>1</th>\n",
       "      <td>984222</td>\n",
       "      <td>15824</td>\n",
       "      <td>5222</td>\n",
       "      <td>38.8951118</td>\n",
       "      <td>-77.0363658</td>\n",
       "      <td>2012-04-21 17:43:47</td>\n",
       "    </tr>\n",
       "    <tr>\n",
       "      <th>3</th>\n",
       "      <td>984234</td>\n",
       "      <td>44652</td>\n",
       "      <td>5222</td>\n",
       "      <td>33.800745</td>\n",
       "      <td>-84.41052</td>\n",
       "      <td>2012-04-21 17:43:43</td>\n",
       "    </tr>\n",
       "    <tr>\n",
       "      <th>7</th>\n",
       "      <td>984291</td>\n",
       "      <td>105054</td>\n",
       "      <td>5222</td>\n",
       "      <td>45.5234515</td>\n",
       "      <td>-122.6762071</td>\n",
       "      <td>2012-04-21 17:39:22</td>\n",
       "    </tr>\n",
       "    <tr>\n",
       "      <th>9</th>\n",
       "      <td>984318</td>\n",
       "      <td>2146539</td>\n",
       "      <td>5222</td>\n",
       "      <td>40.764462</td>\n",
       "      <td>-111.904565</td>\n",
       "      <td>2012-04-21 17:35:46</td>\n",
       "    </tr>\n",
       "    <tr>\n",
       "      <th>10</th>\n",
       "      <td>984232</td>\n",
       "      <td>93870</td>\n",
       "      <td>380645</td>\n",
       "      <td>33.4483771</td>\n",
       "      <td>-112.0740373</td>\n",
       "      <td>2012-04-21 17:38:18</td>\n",
       "    </tr>\n",
       "  </tbody>\n",
       "</table>\n",
       "</div>"
      ],
      "text/plain": [
       "        id  user_id  venue_id    latitude            longitude  \\\n",
       "1   984222    15824      5222  38.8951118         -77.0363658    \n",
       "3   984234    44652      5222   33.800745           -84.41052    \n",
       "7   984291   105054      5222  45.5234515        -122.6762071    \n",
       "9   984318  2146539      5222   40.764462         -111.904565    \n",
       "10  984232    93870    380645  33.4483771        -112.0740373    \n",
       "\n",
       "              created_at  \n",
       "1    2012-04-21 17:43:47  \n",
       "3    2012-04-21 17:43:43  \n",
       "7    2012-04-21 17:39:22  \n",
       "9    2012-04-21 17:35:46  \n",
       "10   2012-04-21 17:38:18  "
      ]
     },
     "execution_count": 39,
     "metadata": {},
     "output_type": "execute_result"
    }
   ],
   "source": [
    "data.head()"
   ]
  },
  {
   "cell_type": "code",
   "execution_count": 40,
   "metadata": {
    "collapsed": true
   },
   "outputs": [],
   "source": [
    "from sklearn.cluster import MeanShift, estimate_bandwidth"
   ]
  },
  {
   "cell_type": "code",
   "execution_count": 48,
   "metadata": {
    "collapsed": false
   },
   "outputs": [],
   "source": [
    "data_t = data.head(100000)"
   ]
  },
  {
   "cell_type": "code",
   "execution_count": 52,
   "metadata": {
    "collapsed": false
   },
   "outputs": [],
   "source": [
    "coords = data_t[[\"latitude\", \"longitude\"]]"
   ]
  },
  {
   "cell_type": "code",
   "execution_count": 54,
   "metadata": {
    "collapsed": false
   },
   "outputs": [
    {
     "data": {
      "text/html": [
       "<div>\n",
       "<table border=\"1\" class=\"dataframe\">\n",
       "  <thead>\n",
       "    <tr style=\"text-align: right;\">\n",
       "      <th></th>\n",
       "      <th>latitude</th>\n",
       "      <th>longitude</th>\n",
       "    </tr>\n",
       "  </thead>\n",
       "  <tbody>\n",
       "    <tr>\n",
       "      <th>1</th>\n",
       "      <td>38.8951118</td>\n",
       "      <td>-77.0363658</td>\n",
       "    </tr>\n",
       "    <tr>\n",
       "      <th>3</th>\n",
       "      <td>33.800745</td>\n",
       "      <td>-84.41052</td>\n",
       "    </tr>\n",
       "    <tr>\n",
       "      <th>7</th>\n",
       "      <td>45.5234515</td>\n",
       "      <td>-122.6762071</td>\n",
       "    </tr>\n",
       "    <tr>\n",
       "      <th>9</th>\n",
       "      <td>40.764462</td>\n",
       "      <td>-111.904565</td>\n",
       "    </tr>\n",
       "    <tr>\n",
       "      <th>10</th>\n",
       "      <td>33.4483771</td>\n",
       "      <td>-112.0740373</td>\n",
       "    </tr>\n",
       "  </tbody>\n",
       "</table>\n",
       "</div>"
      ],
      "text/plain": [
       "      latitude            longitude\n",
       "1   38.8951118         -77.0363658 \n",
       "3    33.800745           -84.41052 \n",
       "7   45.5234515        -122.6762071 \n",
       "9    40.764462         -111.904565 \n",
       "10  33.4483771        -112.0740373 "
      ]
     },
     "execution_count": 54,
     "metadata": {},
     "output_type": "execute_result"
    }
   ],
   "source": [
    "coords.head()"
   ]
  },
  {
   "cell_type": "code",
   "execution_count": 55,
   "metadata": {
    "collapsed": false
   },
   "outputs": [
    {
     "data": {
      "text/plain": [
       "MeanShift(bandwidth=0.1, bin_seeding=False, cluster_all=True, min_bin_freq=1,\n",
       "     n_jobs=1, seeds=None)"
      ]
     },
     "execution_count": 55,
     "metadata": {},
     "output_type": "execute_result"
    }
   ],
   "source": [
    "ms = MeanShift(bandwidth=0.1)\n",
    "ms.fit(coords)"
   ]
  },
  {
   "cell_type": "code",
   "execution_count": 73,
   "metadata": {
    "collapsed": false
   },
   "outputs": [
    {
     "data": {
      "text/plain": [
       "3229"
      ]
     },
     "execution_count": 73,
     "metadata": {},
     "output_type": "execute_result"
    }
   ],
   "source": [
    "len(ms.cluster_centers_)"
   ]
  },
  {
   "cell_type": "code",
   "execution_count": 75,
   "metadata": {
    "collapsed": false
   },
   "outputs": [],
   "source": [
    "coords = [ms.cluster_centers_[i] for i in range(0, len(ms.cluster_centers_)) if np.bincount(ms.labels_)[i] > 15]"
   ]
  },
  {
   "cell_type": "code",
   "execution_count": 79,
   "metadata": {
    "collapsed": false
   },
   "outputs": [
    {
     "data": {
      "text/plain": [
       "[array([ 40.7177164 , -73.99183542]),\n",
       " array([  33.44943805, -112.00213969]),\n",
       " array([  33.44638027, -111.90188756]),\n",
       " array([ 41.87824378, -87.62984336]),\n",
       " array([  37.68868157, -122.40933037])]"
      ]
     },
     "execution_count": 79,
     "metadata": {},
     "output_type": "execute_result"
    }
   ],
   "source": [
    "coords[0:5]"
   ]
  },
  {
   "cell_type": "code",
   "execution_count": 65,
   "metadata": {
    "collapsed": false
   },
   "outputs": [
    {
     "data": {
      "text/plain": [
       "100000"
      ]
     },
     "execution_count": 65,
     "metadata": {},
     "output_type": "execute_result"
    }
   ],
   "source": [
    "len(ms.labels_)"
   ]
  },
  {
   "cell_type": "code",
   "execution_count": 77,
   "metadata": {
    "collapsed": true
   },
   "outputs": [],
   "source": [
    "offices = [[33.751277, -118.188740],\n",
    "            [25.867736, -80.324116],\n",
    "            [51.503016, -0.075479],\n",
    "            [52.378894, 4.885084],\n",
    "            [39.366487, 117.036146],\n",
    "            [-33.868457, 151.205134]]"
   ]
  },
  {
   "cell_type": "code",
   "execution_count": 78,
   "metadata": {
    "collapsed": false
   },
   "outputs": [
    {
     "data": {
      "text/plain": [
       "[[33.751277, -118.18874],\n",
       " [25.867736, -80.324116],\n",
       " [51.503016, -0.075479],\n",
       " [52.378894, 4.885084],\n",
       " [39.366487, 117.036146],\n",
       " [-33.868457, 151.205134]]"
      ]
     },
     "execution_count": 78,
     "metadata": {},
     "output_type": "execute_result"
    }
   ],
   "source": [
    "offices"
   ]
  },
  {
   "cell_type": "code",
   "execution_count": 81,
   "metadata": {
    "collapsed": false
   },
   "outputs": [
    {
     "data": {
      "text/plain": [
       "38.676607521343655"
      ]
     },
     "execution_count": 81,
     "metadata": {},
     "output_type": "execute_result"
    }
   ],
   "source": [
    "import scipy as sc\n",
    "sc.spatial.distance.euclidean(offices[0], offices[1])"
   ]
  },
  {
   "cell_type": "code",
   "execution_count": 93,
   "metadata": {
    "collapsed": false
   },
   "outputs": [],
   "source": [
    "allmin = []\n",
    "for coord in coords:\n",
    "    min_dist = 1000.0\n",
    "    for office in offices:\n",
    "        dist = sc.spatial.distance.euclidean(office, coord)\n",
    "        if dist < min_dist: min_dist = dist\n",
    "    allmin.append({\"lt\": coord[0], \"lg\": coord[1], \"dist\": min_dist})"
   ]
  },
  {
   "cell_type": "code",
   "execution_count": 102,
   "metadata": {
    "collapsed": false
   },
   "outputs": [
    {
     "data": {
      "text/html": [
       "<div>\n",
       "<table border=\"1\" class=\"dataframe\">\n",
       "  <thead>\n",
       "    <tr style=\"text-align: right;\">\n",
       "      <th></th>\n",
       "      <th>dist</th>\n",
       "      <th>lg</th>\n",
       "      <th>lt</th>\n",
       "    </tr>\n",
       "  </thead>\n",
       "  <tbody>\n",
       "    <tr>\n",
       "      <th>410</th>\n",
       "      <td>0.007835</td>\n",
       "      <td>151.204776</td>\n",
       "      <td>-33.860630</td>\n",
       "    </tr>\n",
       "    <tr>\n",
       "      <th>374</th>\n",
       "      <td>0.009353</td>\n",
       "      <td>4.892317</td>\n",
       "      <td>52.372964</td>\n",
       "    </tr>\n",
       "    <tr>\n",
       "      <th>402</th>\n",
       "      <td>0.022674</td>\n",
       "      <td>-80.318891</td>\n",
       "      <td>25.845672</td>\n",
       "    </tr>\n",
       "    <tr>\n",
       "      <th>58</th>\n",
       "      <td>0.050058</td>\n",
       "      <td>-0.125537</td>\n",
       "      <td>51.502991</td>\n",
       "    </tr>\n",
       "    <tr>\n",
       "      <th>51</th>\n",
       "      <td>0.070848</td>\n",
       "      <td>-118.148924</td>\n",
       "      <td>33.809878</td>\n",
       "    </tr>\n",
       "    <tr>\n",
       "      <th>29</th>\n",
       "      <td>0.134109</td>\n",
       "      <td>-80.217938</td>\n",
       "      <td>25.785812</td>\n",
       "    </tr>\n",
       "    <tr>\n",
       "      <th>166</th>\n",
       "      <td>0.167406</td>\n",
       "      <td>-80.283429</td>\n",
       "      <td>25.705350</td>\n",
       "    </tr>\n",
       "    <tr>\n",
       "      <th>92</th>\n",
       "      <td>0.188876</td>\n",
       "      <td>-80.199991</td>\n",
       "      <td>26.010098</td>\n",
       "    </tr>\n",
       "    <tr>\n",
       "      <th>87</th>\n",
       "      <td>0.195779</td>\n",
       "      <td>-118.048928</td>\n",
       "      <td>33.888325</td>\n",
       "    </tr>\n",
       "    <tr>\n",
       "      <th>42</th>\n",
       "      <td>0.211811</td>\n",
       "      <td>-118.362091</td>\n",
       "      <td>33.872986</td>\n",
       "    </tr>\n",
       "    <tr>\n",
       "      <th>285</th>\n",
       "      <td>0.222233</td>\n",
       "      <td>-118.168371</td>\n",
       "      <td>33.972575</td>\n",
       "    </tr>\n",
       "    <tr>\n",
       "      <th>315</th>\n",
       "      <td>0.271301</td>\n",
       "      <td>-80.334347</td>\n",
       "      <td>26.138844</td>\n",
       "    </tr>\n",
       "    <tr>\n",
       "      <th>119</th>\n",
       "      <td>0.294979</td>\n",
       "      <td>-118.007405</td>\n",
       "      <td>33.983936</td>\n",
       "    </tr>\n",
       "    <tr>\n",
       "      <th>55</th>\n",
       "      <td>0.302270</td>\n",
       "      <td>-80.158907</td>\n",
       "      <td>26.120863</td>\n",
       "    </tr>\n",
       "    <tr>\n",
       "      <th>27</th>\n",
       "      <td>0.304731</td>\n",
       "      <td>-117.891249</td>\n",
       "      <td>33.817306</td>\n",
       "    </tr>\n",
       "    <tr>\n",
       "      <th>11</th>\n",
       "      <td>0.314884</td>\n",
       "      <td>-118.248709</td>\n",
       "      <td>34.060398</td>\n",
       "    </tr>\n",
       "    <tr>\n",
       "      <th>32</th>\n",
       "      <td>0.338810</td>\n",
       "      <td>-117.858789</td>\n",
       "      <td>33.674303</td>\n",
       "    </tr>\n",
       "    <tr>\n",
       "      <th>158</th>\n",
       "      <td>0.340846</td>\n",
       "      <td>-80.250716</td>\n",
       "      <td>26.200585</td>\n",
       "    </tr>\n",
       "    <tr>\n",
       "      <th>17</th>\n",
       "      <td>0.378688</td>\n",
       "      <td>-118.438998</td>\n",
       "      <td>34.035487</td>\n",
       "    </tr>\n",
       "    <tr>\n",
       "      <th>47</th>\n",
       "      <td>0.386706</td>\n",
       "      <td>-118.118012</td>\n",
       "      <td>34.131460</td>\n",
       "    </tr>\n",
       "    <tr>\n",
       "      <th>64</th>\n",
       "      <td>0.398778</td>\n",
       "      <td>-117.980389</td>\n",
       "      <td>34.091298</td>\n",
       "    </tr>\n",
       "    <tr>\n",
       "      <th>24</th>\n",
       "      <td>0.409983</td>\n",
       "      <td>-118.351884</td>\n",
       "      <td>34.127402</td>\n",
       "    </tr>\n",
       "    <tr>\n",
       "      <th>35</th>\n",
       "      <td>0.410418</td>\n",
       "      <td>-118.223617</td>\n",
       "      <td>34.160210</td>\n",
       "    </tr>\n",
       "    <tr>\n",
       "      <th>50</th>\n",
       "      <td>0.448055</td>\n",
       "      <td>-117.752074</td>\n",
       "      <td>33.650896</td>\n",
       "    </tr>\n",
       "    <tr>\n",
       "      <th>100</th>\n",
       "      <td>0.493387</td>\n",
       "      <td>-117.816472</td>\n",
       "      <td>34.075079</td>\n",
       "    </tr>\n",
       "    <tr>\n",
       "      <th>144</th>\n",
       "      <td>0.540471</td>\n",
       "      <td>-80.085279</td>\n",
       "      <td>26.352571</td>\n",
       "    </tr>\n",
       "    <tr>\n",
       "      <th>90</th>\n",
       "      <td>0.574205</td>\n",
       "      <td>-118.549277</td>\n",
       "      <td>34.198182</td>\n",
       "    </tr>\n",
       "    <tr>\n",
       "      <th>75</th>\n",
       "      <td>0.603093</td>\n",
       "      <td>-117.671785</td>\n",
       "      <td>34.061886</td>\n",
       "    </tr>\n",
       "    <tr>\n",
       "      <th>223</th>\n",
       "      <td>0.619070</td>\n",
       "      <td>-117.647024</td>\n",
       "      <td>33.451624</td>\n",
       "    </tr>\n",
       "    <tr>\n",
       "      <th>284</th>\n",
       "      <td>0.638534</td>\n",
       "      <td>-117.563958</td>\n",
       "      <td>33.883084</td>\n",
       "    </tr>\n",
       "    <tr>\n",
       "      <th>...</th>\n",
       "      <td>...</td>\n",
       "      <td>...</td>\n",
       "      <td>...</td>\n",
       "    </tr>\n",
       "    <tr>\n",
       "      <th>379</th>\n",
       "      <td>25.089676</td>\n",
       "      <td>121.015826</td>\n",
       "      <td>14.594446</td>\n",
       "    </tr>\n",
       "    <tr>\n",
       "      <th>421</th>\n",
       "      <td>25.105811</td>\n",
       "      <td>-96.787294</td>\n",
       "      <td>46.876820</td>\n",
       "    </tr>\n",
       "    <tr>\n",
       "      <th>409</th>\n",
       "      <td>25.327381</td>\n",
       "      <td>-94.685900</td>\n",
       "      <td>46.729553</td>\n",
       "    </tr>\n",
       "    <tr>\n",
       "      <th>474</th>\n",
       "      <td>26.641656</td>\n",
       "      <td>28.976960</td>\n",
       "      <td>41.005270</td>\n",
       "    </tr>\n",
       "    <tr>\n",
       "      <th>260</th>\n",
       "      <td>30.396671</td>\n",
       "      <td>100.615515</td>\n",
       "      <td>13.786798</td>\n",
       "    </tr>\n",
       "    <tr>\n",
       "      <th>208</th>\n",
       "      <td>30.498853</td>\n",
       "      <td>100.513362</td>\n",
       "      <td>13.731011</td>\n",
       "    </tr>\n",
       "    <tr>\n",
       "      <th>279</th>\n",
       "      <td>32.911701</td>\n",
       "      <td>37.623850</td>\n",
       "      <td>55.748350</td>\n",
       "    </tr>\n",
       "    <tr>\n",
       "      <th>468</th>\n",
       "      <td>36.153857</td>\n",
       "      <td>34.788657</td>\n",
       "      <td>32.059502</td>\n",
       "    </tr>\n",
       "    <tr>\n",
       "      <th>287</th>\n",
       "      <td>39.353789</td>\n",
       "      <td>101.675560</td>\n",
       "      <td>3.134276</td>\n",
       "    </tr>\n",
       "    <tr>\n",
       "      <th>367</th>\n",
       "      <td>40.216526</td>\n",
       "      <td>98.677329</td>\n",
       "      <td>3.584888</td>\n",
       "    </tr>\n",
       "    <tr>\n",
       "      <th>157</th>\n",
       "      <td>40.247365</td>\n",
       "      <td>103.820220</td>\n",
       "      <td>1.350837</td>\n",
       "    </tr>\n",
       "    <tr>\n",
       "      <th>327</th>\n",
       "      <td>40.276387</td>\n",
       "      <td>113.921327</td>\n",
       "      <td>-0.789275</td>\n",
       "    </tr>\n",
       "    <tr>\n",
       "      <th>171</th>\n",
       "      <td>41.574655</td>\n",
       "      <td>-157.856817</td>\n",
       "      <td>21.305571</td>\n",
       "    </tr>\n",
       "    <tr>\n",
       "      <th>395</th>\n",
       "      <td>41.692704</td>\n",
       "      <td>-158.003045</td>\n",
       "      <td>21.377810</td>\n",
       "    </tr>\n",
       "    <tr>\n",
       "      <th>418</th>\n",
       "      <td>41.952897</td>\n",
       "      <td>-149.900278</td>\n",
       "      <td>61.218056</td>\n",
       "    </tr>\n",
       "    <tr>\n",
       "      <th>358</th>\n",
       "      <td>43.940864</td>\n",
       "      <td>115.211340</td>\n",
       "      <td>-8.664363</td>\n",
       "    </tr>\n",
       "    <tr>\n",
       "      <th>536</th>\n",
       "      <td>46.673305</td>\n",
       "      <td>107.148452</td>\n",
       "      <td>-6.247447</td>\n",
       "    </tr>\n",
       "    <tr>\n",
       "      <th>33</th>\n",
       "      <td>46.704762</td>\n",
       "      <td>106.844660</td>\n",
       "      <td>-6.212767</td>\n",
       "    </tr>\n",
       "    <tr>\n",
       "      <th>502</th>\n",
       "      <td>46.725232</td>\n",
       "      <td>106.624447</td>\n",
       "      <td>-6.183966</td>\n",
       "    </tr>\n",
       "    <tr>\n",
       "      <th>251</th>\n",
       "      <td>46.765770</td>\n",
       "      <td>112.741673</td>\n",
       "      <td>-7.267715</td>\n",
       "    </tr>\n",
       "    <tr>\n",
       "      <th>210</th>\n",
       "      <td>46.811113</td>\n",
       "      <td>106.813152</td>\n",
       "      <td>-6.314698</td>\n",
       "    </tr>\n",
       "    <tr>\n",
       "      <th>155</th>\n",
       "      <td>47.230236</td>\n",
       "      <td>107.607743</td>\n",
       "      <td>-6.913102</td>\n",
       "    </tr>\n",
       "    <tr>\n",
       "      <th>433</th>\n",
       "      <td>47.625975</td>\n",
       "      <td>110.366640</td>\n",
       "      <td>-7.790179</td>\n",
       "    </tr>\n",
       "    <tr>\n",
       "      <th>355</th>\n",
       "      <td>57.254114</td>\n",
       "      <td>55.311667</td>\n",
       "      <td>25.264444</td>\n",
       "    </tr>\n",
       "    <tr>\n",
       "      <th>561</th>\n",
       "      <td>59.558186</td>\n",
       "      <td>-71.616452</td>\n",
       "      <td>-33.050462</td>\n",
       "    </tr>\n",
       "    <tr>\n",
       "      <th>105</th>\n",
       "      <td>59.806393</td>\n",
       "      <td>-46.638219</td>\n",
       "      <td>-23.549518</td>\n",
       "    </tr>\n",
       "    <tr>\n",
       "      <th>428</th>\n",
       "      <td>60.090305</td>\n",
       "      <td>-70.570740</td>\n",
       "      <td>-33.425741</td>\n",
       "    </tr>\n",
       "    <tr>\n",
       "      <th>261</th>\n",
       "      <td>61.287238</td>\n",
       "      <td>-43.209587</td>\n",
       "      <td>-22.903539</td>\n",
       "    </tr>\n",
       "    <tr>\n",
       "      <th>103</th>\n",
       "      <td>61.450391</td>\n",
       "      <td>36.522964</td>\n",
       "      <td>-0.301226</td>\n",
       "    </tr>\n",
       "    <tr>\n",
       "      <th>435</th>\n",
       "      <td>64.340495</td>\n",
       "      <td>-58.371865</td>\n",
       "      <td>-34.611996</td>\n",
       "    </tr>\n",
       "  </tbody>\n",
       "</table>\n",
       "<p>592 rows × 3 columns</p>\n",
       "</div>"
      ],
      "text/plain": [
       "          dist          lg         lt\n",
       "410   0.007835  151.204776 -33.860630\n",
       "374   0.009353    4.892317  52.372964\n",
       "402   0.022674  -80.318891  25.845672\n",
       "58    0.050058   -0.125537  51.502991\n",
       "51    0.070848 -118.148924  33.809878\n",
       "29    0.134109  -80.217938  25.785812\n",
       "166   0.167406  -80.283429  25.705350\n",
       "92    0.188876  -80.199991  26.010098\n",
       "87    0.195779 -118.048928  33.888325\n",
       "42    0.211811 -118.362091  33.872986\n",
       "285   0.222233 -118.168371  33.972575\n",
       "315   0.271301  -80.334347  26.138844\n",
       "119   0.294979 -118.007405  33.983936\n",
       "55    0.302270  -80.158907  26.120863\n",
       "27    0.304731 -117.891249  33.817306\n",
       "11    0.314884 -118.248709  34.060398\n",
       "32    0.338810 -117.858789  33.674303\n",
       "158   0.340846  -80.250716  26.200585\n",
       "17    0.378688 -118.438998  34.035487\n",
       "47    0.386706 -118.118012  34.131460\n",
       "64    0.398778 -117.980389  34.091298\n",
       "24    0.409983 -118.351884  34.127402\n",
       "35    0.410418 -118.223617  34.160210\n",
       "50    0.448055 -117.752074  33.650896\n",
       "100   0.493387 -117.816472  34.075079\n",
       "144   0.540471  -80.085279  26.352571\n",
       "90    0.574205 -118.549277  34.198182\n",
       "75    0.603093 -117.671785  34.061886\n",
       "223   0.619070 -117.647024  33.451624\n",
       "284   0.638534 -117.563958  33.883084\n",
       "..         ...         ...        ...\n",
       "379  25.089676  121.015826  14.594446\n",
       "421  25.105811  -96.787294  46.876820\n",
       "409  25.327381  -94.685900  46.729553\n",
       "474  26.641656   28.976960  41.005270\n",
       "260  30.396671  100.615515  13.786798\n",
       "208  30.498853  100.513362  13.731011\n",
       "279  32.911701   37.623850  55.748350\n",
       "468  36.153857   34.788657  32.059502\n",
       "287  39.353789  101.675560   3.134276\n",
       "367  40.216526   98.677329   3.584888\n",
       "157  40.247365  103.820220   1.350837\n",
       "327  40.276387  113.921327  -0.789275\n",
       "171  41.574655 -157.856817  21.305571\n",
       "395  41.692704 -158.003045  21.377810\n",
       "418  41.952897 -149.900278  61.218056\n",
       "358  43.940864  115.211340  -8.664363\n",
       "536  46.673305  107.148452  -6.247447\n",
       "33   46.704762  106.844660  -6.212767\n",
       "502  46.725232  106.624447  -6.183966\n",
       "251  46.765770  112.741673  -7.267715\n",
       "210  46.811113  106.813152  -6.314698\n",
       "155  47.230236  107.607743  -6.913102\n",
       "433  47.625975  110.366640  -7.790179\n",
       "355  57.254114   55.311667  25.264444\n",
       "561  59.558186  -71.616452 -33.050462\n",
       "105  59.806393  -46.638219 -23.549518\n",
       "428  60.090305  -70.570740 -33.425741\n",
       "261  61.287238  -43.209587 -22.903539\n",
       "103  61.450391   36.522964  -0.301226\n",
       "435  64.340495  -58.371865 -34.611996\n",
       "\n",
       "[592 rows x 3 columns]"
      ]
     },
     "execution_count": 102,
     "metadata": {},
     "output_type": "execute_result"
    }
   ],
   "source": [
    "pd.DataFrame(allmin).sort_values(['dist'], ascending=[1])"
   ]
  },
  {
   "cell_type": "code",
   "execution_count": null,
   "metadata": {
    "collapsed": true
   },
   "outputs": [],
   "source": []
  }
 ],
 "metadata": {
  "anaconda-cloud": {},
  "kernelspec": {
   "display_name": "Python [default]",
   "language": "python",
   "name": "python2"
  },
  "language_info": {
   "codemirror_mode": {
    "name": "ipython",
    "version": 2
   },
   "file_extension": ".py",
   "mimetype": "text/x-python",
   "name": "python",
   "nbconvert_exporter": "python",
   "pygments_lexer": "ipython2",
   "version": "2.7.12"
  }
 },
 "nbformat": 4,
 "nbformat_minor": 1
}
