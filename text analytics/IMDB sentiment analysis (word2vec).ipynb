{
 "cells": [
  {
   "cell_type": "markdown",
   "metadata": {},
   "source": [
    "# IMDB sentiment analysis"
   ]
  },
  {
   "cell_type": "markdown",
   "metadata": {},
   "source": [
    "Based on Kaggle tutorial on \"Bag of Words Meets Bags of Popcorn\" submission"
   ]
  },
  {
   "cell_type": "markdown",
   "metadata": {},
   "source": [
    "We read all data as word2vec can learn from unlabeled dataset"
   ]
  },
  {
   "cell_type": "code",
   "execution_count": 1,
   "metadata": {
    "collapsed": false
   },
   "outputs": [
    {
     "name": "stdout",
     "output_type": "stream",
     "text": [
      "Read 25000 labeled train reviews, 25000 labeled test reviews, and 50000 unlabeled reviews\n",
      "\n"
     ]
    }
   ],
   "source": [
    "import pandas as pd\n",
    "\n",
    "# Read data from files \n",
    "train = pd.read_csv(\"labeledTrainData.tsv\", header=0, delimiter=\"\\t\", quoting=3)\n",
    "test = pd.read_csv( \"testData.tsv\", header=0, delimiter=\"\\t\", quoting=3 )\n",
    "unlabeled_train = pd.read_csv( \"unlabeledTrainData.tsv\", header=0, delimiter=\"\\t\", quoting=3 )\n",
    "\n",
    "# Verify the number of reviews that were read (100,000 in total)\n",
    "print \"Read %d labeled train reviews, %d labeled test reviews, \" \\\n",
    "    \"and %d unlabeled reviews\\n\" % (train[\"review\"].size,  \n",
    "    test[\"review\"].size, unlabeled_train[\"review\"].size )"
   ]
  },
  {
   "cell_type": "markdown",
   "metadata": {},
   "source": [
    "For removing html tags we use Beautiful Soup library and for removing stop words - english corpus from NLTK (Natural language toolkit) (you may need to download it first)"
   ]
  },
  {
   "cell_type": "code",
   "execution_count": 9,
   "metadata": {
    "collapsed": true
   },
   "outputs": [],
   "source": [
    "# Import various modules for string cleaning\n",
    "from bs4 import BeautifulSoup\n",
    "import re\n",
    "from nltk.corpus import stopwords\n",
    "\n",
    "def review_to_wordlist( review, remove_stopwords=False ):\n",
    "    # Function to convert a document to a sequence of words,\n",
    "    # optionally removing stop words.  Returns a list of words.\n",
    "\n",
    "    # 1. Remove HTML\n",
    "    review_text = BeautifulSoup(review, \"lxml\").get_text()\n",
    "\n",
    "    # 2. Remove non-letters\n",
    "    review_text = re.sub(\"[^a-zA-Z]\",\" \", review_text)\n",
    "\n",
    "    # 3. Convert words to lower case and split them\n",
    "    words = review_text.lower().split()\n",
    "\n",
    "    # 4. Optionally remove stop words (false by default)\n",
    "    if remove_stopwords:\n",
    "        stops = set(stopwords.words(\"english\"))\n",
    "        words = [w for w in words if not w in stops]\n",
    "\n",
    "    return(words)"
   ]
  },
  {
   "cell_type": "code",
   "execution_count": 15,
   "metadata": {
    "collapsed": false
   },
   "outputs": [
    {
     "data": {
      "text/plain": [
       "[u'stuff', u'going', u'moment', u'mj', u'started']"
      ]
     },
     "execution_count": 15,
     "metadata": {},
     "output_type": "execute_result"
    }
   ],
   "source": [
    "review_to_wordlist(train.review[0], True)[0:5]"
   ]
  },
  {
   "cell_type": "markdown",
   "metadata": {},
   "source": [
    "Great!"
   ]
  },
  {
   "cell_type": "markdown",
   "metadata": {},
   "source": [
    "What else we need is to split a paragraph into sentences. For this reason, we'll use NLTK's punkt tokenizer for sentence splitting. "
   ]
  },
  {
   "cell_type": "code",
   "execution_count": 19,
   "metadata": {
    "collapsed": false
   },
   "outputs": [],
   "source": [
    "# Download the punkt tokenizer for sentence splitting\n",
    "import nltk.data\n",
    "#nltk.download()   \n",
    "\n",
    "# Load the punkt tokenizer\n",
    "tokenizer = nltk.data.load('tokenizers/punkt/english.pickle')\n",
    "\n",
    "# Define a function to split a review into parsed sentences\n",
    "def review_to_sentences( review, tokenizer, remove_stopwords=False ):\n",
    "    # Function to split a review into parsed sentences. Returns a \n",
    "    # list of sentences, where each sentence is a list of words\n",
    "\n",
    "    # 1. Use the NLTK tokenizer to split the paragraph into sentences\n",
    "    raw_sentences = tokenizer.tokenize(review.decode('utf-8').strip())\n",
    "\n",
    "    # 2. Loop over each sentence\n",
    "    sentences = []\n",
    "    for raw_sentence in raw_sentences:\n",
    "        # If a sentence is empty, skip it\n",
    "        if len(raw_sentence) > 0:\n",
    "            # Otherwise, call review_to_wordlist to get a list of words\n",
    "            sentences.append( review_to_wordlist( raw_sentence, remove_stopwords ))\n",
    "\n",
    "    return sentences"
   ]
  },
  {
   "cell_type": "code",
   "execution_count": 20,
   "metadata": {
    "collapsed": false
   },
   "outputs": [
    {
     "name": "stdout",
     "output_type": "stream",
     "text": [
      "Parsing sentences from training set\n"
     ]
    },
    {
     "name": "stderr",
     "output_type": "stream",
     "text": [
      "C:\\Program Files\\Anaconda2\\lib\\site-packages\\bs4\\__init__.py:219: UserWarning: \".\" looks like a filename, not markup. You shouldprobably open this file and pass the filehandle intoBeautiful Soup.\n",
      "  'Beautiful Soup.' % markup)\n",
      "C:\\Program Files\\Anaconda2\\lib\\site-packages\\bs4\\__init__.py:219: UserWarning: \"...\" looks like a filename, not markup. You shouldprobably open this file and pass the filehandle intoBeautiful Soup.\n",
      "  'Beautiful Soup.' % markup)\n",
      "C:\\Program Files\\Anaconda2\\lib\\site-packages\\bs4\\__init__.py:282: UserWarning: \"http://www.happierabroad.com\"\" looks like a URL. Beautiful Soup is not an HTTP client. You should probably use an HTTP client like requests to get the document behind the URL, and feed that document to Beautiful Soup.\n",
      "  ' that document to Beautiful Soup.' % decoded_markup\n"
     ]
    },
    {
     "name": "stdout",
     "output_type": "stream",
     "text": [
      "Parsing sentences from unlabeled set\n"
     ]
    },
    {
     "name": "stderr",
     "output_type": "stream",
     "text": [
      "C:\\Program Files\\Anaconda2\\lib\\site-packages\\bs4\\__init__.py:282: UserWarning: \"http://www.archive.org/details/LovefromaStranger\"\" looks like a URL. Beautiful Soup is not an HTTP client. You should probably use an HTTP client like requests to get the document behind the URL, and feed that document to Beautiful Soup.\n",
      "  ' that document to Beautiful Soup.' % decoded_markup\n",
      "C:\\Program Files\\Anaconda2\\lib\\site-packages\\bs4\\__init__.py:282: UserWarning: \"http://www.loosechangeguide.com/LooseChangeGuide.html\"\" looks like a URL. Beautiful Soup is not an HTTP client. You should probably use an HTTP client like requests to get the document behind the URL, and feed that document to Beautiful Soup.\n",
      "  ' that document to Beautiful Soup.' % decoded_markup\n",
      "C:\\Program Files\\Anaconda2\\lib\\site-packages\\bs4\\__init__.py:219: UserWarning: \"... ...\" looks like a filename, not markup. You shouldprobably open this file and pass the filehandle intoBeautiful Soup.\n",
      "  'Beautiful Soup.' % markup)\n",
      "C:\\Program Files\\Anaconda2\\lib\\site-packages\\bs4\\__init__.py:219: UserWarning: \"....\" looks like a filename, not markup. You shouldprobably open this file and pass the filehandle intoBeautiful Soup.\n",
      "  'Beautiful Soup.' % markup)\n",
      "C:\\Program Files\\Anaconda2\\lib\\site-packages\\bs4\\__init__.py:282: UserWarning: \"http://www.msnbc.msn.com/id/4972055/site/newsweek/\"\" looks like a URL. Beautiful Soup is not an HTTP client. You should probably use an HTTP client like requests to get the document behind the URL, and feed that document to Beautiful Soup.\n",
      "  ' that document to Beautiful Soup.' % decoded_markup\n",
      "C:\\Program Files\\Anaconda2\\lib\\site-packages\\bs4\\__init__.py:219: UserWarning: \"..\" looks like a filename, not markup. You shouldprobably open this file and pass the filehandle intoBeautiful Soup.\n",
      "  'Beautiful Soup.' % markup)\n",
      "C:\\Program Files\\Anaconda2\\lib\\site-packages\\bs4\\__init__.py:282: UserWarning: \"http://www.youtube.com/watch?v=a0KSqelmgN8\"\" looks like a URL. Beautiful Soup is not an HTTP client. You should probably use an HTTP client like requests to get the document behind the URL, and feed that document to Beautiful Soup.\n",
      "  ' that document to Beautiful Soup.' % decoded_markup\n",
      "C:\\Program Files\\Anaconda2\\lib\\site-packages\\bs4\\__init__.py:219: UserWarning: \".. .\" looks like a filename, not markup. You shouldprobably open this file and pass the filehandle intoBeautiful Soup.\n",
      "  'Beautiful Soup.' % markup)\n",
      "C:\\Program Files\\Anaconda2\\lib\\site-packages\\bs4\\__init__.py:282: UserWarning: \"http://jake-weird.blogspot.com/2007/08/beneath.html\"\" looks like a URL. Beautiful Soup is not an HTTP client. You should probably use an HTTP client like requests to get the document behind the URL, and feed that document to Beautiful Soup.\n",
      "  ' that document to Beautiful Soup.' % decoded_markup\n"
     ]
    }
   ],
   "source": [
    "sentences = []\n",
    "\n",
    "print \"Parsing sentences from training set\"\n",
    "for review in train[\"review\"]:\n",
    "    sentences += review_to_sentences(review, tokenizer)\n",
    "\n",
    "print \"Parsing sentences from unlabeled set\"\n",
    "for review in unlabeled_train[\"review\"]:\n",
    "    sentences += review_to_sentences(review, tokenizer)"
   ]
  },
  {
   "cell_type": "code",
   "execution_count": 21,
   "metadata": {
    "collapsed": false
   },
   "outputs": [
    {
     "name": "stdout",
     "output_type": "stream",
     "text": [
      "795538\n",
      "[u'with', u'all', u'this', u'stuff', u'going', u'down', u'at', u'the', u'moment', u'with', u'mj', u'i', u've', u'started', u'listening', u'to', u'his', u'music', u'watching', u'the', u'odd', u'documentary', u'here', u'and', u'there', u'watched', u'the', u'wiz', u'and', u'watched', u'moonwalker', u'again']\n"
     ]
    }
   ],
   "source": [
    "print len(sentences)\n",
    "print sentences[0]"
   ]
  },
  {
   "cell_type": "markdown",
   "metadata": {},
   "source": [
    "We are ready to train our word2vec model and for later use save them"
   ]
  },
  {
   "cell_type": "code",
   "execution_count": 22,
   "metadata": {
    "collapsed": false
   },
   "outputs": [
    {
     "name": "stderr",
     "output_type": "stream",
     "text": [
      "C:\\Program Files\\Anaconda2\\lib\\site-packages\\gensim\\utils.py:855: UserWarning: detected Windows; aliasing chunkize to chunkize_serial\n",
      "  warnings.warn(\"detected Windows; aliasing chunkize to chunkize_serial\")\n",
      "2017-02-20 17:35:18,190 : INFO : 'pattern' package not found; tag filters are not available for English\n",
      "2017-02-20 17:35:18,273 : INFO : collecting all words and their counts\n",
      "2017-02-20 17:35:18,275 : INFO : PROGRESS: at sentence #0, processed 0 words, keeping 0 word types\n",
      "2017-02-20 17:35:18,342 : INFO : PROGRESS: at sentence #10000, processed 225803 words, keeping 17776 word types\n",
      "2017-02-20 17:35:18,407 : INFO : PROGRESS: at sentence #20000, processed 451892 words, keeping 24948 word types\n",
      "2017-02-20 17:35:18,467 : INFO : PROGRESS: at sentence #30000, processed 671315 words, keeping 30034 word types\n"
     ]
    },
    {
     "name": "stdout",
     "output_type": "stream",
     "text": [
      "Training model...\n"
     ]
    },
    {
     "name": "stderr",
     "output_type": "stream",
     "text": [
      "2017-02-20 17:35:18,538 : INFO : PROGRESS: at sentence #40000, processed 897815 words, keeping 34348 word types\n",
      "2017-02-20 17:35:18,598 : INFO : PROGRESS: at sentence #50000, processed 1116963 words, keeping 37761 word types\n",
      "2017-02-20 17:35:18,661 : INFO : PROGRESS: at sentence #60000, processed 1338404 words, keeping 40723 word types\n",
      "2017-02-20 17:35:18,720 : INFO : PROGRESS: at sentence #70000, processed 1561580 words, keeping 43333 word types\n",
      "2017-02-20 17:35:18,780 : INFO : PROGRESS: at sentence #80000, processed 1780887 words, keeping 45714 word types\n",
      "2017-02-20 17:35:18,842 : INFO : PROGRESS: at sentence #90000, processed 2004996 words, keeping 48135 word types\n",
      "2017-02-20 17:35:18,904 : INFO : PROGRESS: at sentence #100000, processed 2226966 words, keeping 50207 word types\n",
      "2017-02-20 17:35:18,971 : INFO : PROGRESS: at sentence #110000, processed 2446580 words, keeping 52081 word types\n",
      "2017-02-20 17:35:19,073 : INFO : PROGRESS: at sentence #120000, processed 2668775 words, keeping 54119 word types\n",
      "2017-02-20 17:35:19,160 : INFO : PROGRESS: at sentence #130000, processed 2894303 words, keeping 55847 word types\n",
      "2017-02-20 17:35:19,220 : INFO : PROGRESS: at sentence #140000, processed 3107005 words, keeping 57346 word types\n",
      "2017-02-20 17:35:19,282 : INFO : PROGRESS: at sentence #150000, processed 3332627 words, keeping 59055 word types\n",
      "2017-02-20 17:35:19,345 : INFO : PROGRESS: at sentence #160000, processed 3555315 words, keeping 60617 word types\n",
      "2017-02-20 17:35:19,407 : INFO : PROGRESS: at sentence #170000, processed 3778655 words, keeping 62077 word types\n",
      "2017-02-20 17:35:19,469 : INFO : PROGRESS: at sentence #180000, processed 3999236 words, keeping 63496 word types\n",
      "2017-02-20 17:35:19,530 : INFO : PROGRESS: at sentence #190000, processed 4224449 words, keeping 64794 word types\n",
      "2017-02-20 17:35:19,595 : INFO : PROGRESS: at sentence #200000, processed 4448603 words, keeping 66087 word types\n",
      "2017-02-20 17:35:19,657 : INFO : PROGRESS: at sentence #210000, processed 4669967 words, keeping 67390 word types\n",
      "2017-02-20 17:35:19,720 : INFO : PROGRESS: at sentence #220000, processed 4894968 words, keeping 68697 word types\n",
      "2017-02-20 17:35:19,780 : INFO : PROGRESS: at sentence #230000, processed 5117545 words, keeping 69958 word types\n",
      "2017-02-20 17:35:19,845 : INFO : PROGRESS: at sentence #240000, processed 5345050 words, keeping 71167 word types\n",
      "2017-02-20 17:35:19,905 : INFO : PROGRESS: at sentence #250000, processed 5559165 words, keeping 72351 word types\n",
      "2017-02-20 17:35:19,987 : INFO : PROGRESS: at sentence #260000, processed 5779146 words, keeping 73478 word types\n",
      "2017-02-20 17:35:20,073 : INFO : PROGRESS: at sentence #270000, processed 6000435 words, keeping 74767 word types\n",
      "2017-02-20 17:35:20,155 : INFO : PROGRESS: at sentence #280000, processed 6226314 words, keeping 76369 word types\n",
      "2017-02-20 17:35:20,220 : INFO : PROGRESS: at sentence #290000, processed 6449474 words, keeping 77839 word types\n",
      "2017-02-20 17:35:20,283 : INFO : PROGRESS: at sentence #300000, processed 6674077 words, keeping 79171 word types\n",
      "2017-02-20 17:35:20,346 : INFO : PROGRESS: at sentence #310000, processed 6899391 words, keeping 80480 word types\n",
      "2017-02-20 17:35:20,411 : INFO : PROGRESS: at sentence #320000, processed 7124278 words, keeping 81808 word types\n",
      "2017-02-20 17:35:20,471 : INFO : PROGRESS: at sentence #330000, processed 7346021 words, keeping 83030 word types\n",
      "2017-02-20 17:35:20,536 : INFO : PROGRESS: at sentence #340000, processed 7575533 words, keeping 84280 word types\n",
      "2017-02-20 17:35:20,601 : INFO : PROGRESS: at sentence #350000, processed 7798803 words, keeping 85425 word types\n",
      "2017-02-20 17:35:20,667 : INFO : PROGRESS: at sentence #360000, processed 8019427 words, keeping 86596 word types\n",
      "2017-02-20 17:35:20,739 : INFO : PROGRESS: at sentence #370000, processed 8246619 words, keeping 87708 word types\n",
      "2017-02-20 17:35:20,808 : INFO : PROGRESS: at sentence #380000, processed 8471766 words, keeping 88878 word types\n",
      "2017-02-20 17:35:20,898 : INFO : PROGRESS: at sentence #390000, processed 8701497 words, keeping 89907 word types\n",
      "2017-02-20 17:35:20,980 : INFO : PROGRESS: at sentence #400000, processed 8924446 words, keeping 90916 word types\n",
      "2017-02-20 17:35:21,043 : INFO : PROGRESS: at sentence #410000, processed 9145796 words, keeping 91880 word types\n",
      "2017-02-20 17:35:21,111 : INFO : PROGRESS: at sentence #420000, processed 9366876 words, keeping 92912 word types\n",
      "2017-02-20 17:35:21,214 : INFO : PROGRESS: at sentence #430000, processed 9594413 words, keeping 93932 word types\n",
      "2017-02-20 17:35:21,335 : INFO : PROGRESS: at sentence #440000, processed 9821166 words, keeping 94906 word types\n",
      "2017-02-20 17:35:21,433 : INFO : PROGRESS: at sentence #450000, processed 10044928 words, keeping 96036 word types\n",
      "2017-02-20 17:35:21,503 : INFO : PROGRESS: at sentence #460000, processed 10277688 words, keeping 97088 word types\n",
      "2017-02-20 17:35:21,569 : INFO : PROGRESS: at sentence #470000, processed 10505613 words, keeping 97933 word types\n",
      "2017-02-20 17:35:21,634 : INFO : PROGRESS: at sentence #480000, processed 10725997 words, keeping 98862 word types\n",
      "2017-02-20 17:35:21,700 : INFO : PROGRESS: at sentence #490000, processed 10952741 words, keeping 99871 word types\n",
      "2017-02-20 17:35:21,766 : INFO : PROGRESS: at sentence #500000, processed 11174397 words, keeping 100765 word types\n",
      "2017-02-20 17:35:21,832 : INFO : PROGRESS: at sentence #510000, processed 11399672 words, keeping 101699 word types\n",
      "2017-02-20 17:35:21,898 : INFO : PROGRESS: at sentence #520000, processed 11623020 words, keeping 102598 word types\n",
      "2017-02-20 17:35:21,964 : INFO : PROGRESS: at sentence #530000, processed 11847418 words, keeping 103400 word types\n",
      "2017-02-20 17:35:22,048 : INFO : PROGRESS: at sentence #540000, processed 12072033 words, keeping 104265 word types\n",
      "2017-02-20 17:35:22,157 : INFO : PROGRESS: at sentence #550000, processed 12297571 words, keeping 105133 word types\n",
      "2017-02-20 17:35:22,243 : INFO : PROGRESS: at sentence #560000, processed 12518861 words, keeping 105997 word types\n",
      "2017-02-20 17:35:22,305 : INFO : PROGRESS: at sentence #570000, processed 12747916 words, keeping 106787 word types\n",
      "2017-02-20 17:35:22,364 : INFO : PROGRESS: at sentence #580000, processed 12969412 words, keeping 107665 word types\n",
      "2017-02-20 17:35:22,423 : INFO : PROGRESS: at sentence #590000, processed 13194937 words, keeping 108501 word types\n",
      "2017-02-20 17:35:22,499 : INFO : PROGRESS: at sentence #600000, processed 13417135 words, keeping 109218 word types\n",
      "2017-02-20 17:35:22,565 : INFO : PROGRESS: at sentence #610000, processed 13638158 words, keeping 110092 word types\n",
      "2017-02-20 17:35:22,631 : INFO : PROGRESS: at sentence #620000, processed 13864483 words, keeping 110837 word types\n",
      "2017-02-20 17:35:22,697 : INFO : PROGRESS: at sentence #630000, processed 14088769 words, keeping 111610 word types\n",
      "2017-02-20 17:35:22,763 : INFO : PROGRESS: at sentence #640000, processed 14309552 words, keeping 112416 word types\n",
      "2017-02-20 17:35:22,849 : INFO : PROGRESS: at sentence #650000, processed 14535308 words, keeping 113196 word types\n",
      "2017-02-20 17:35:22,957 : INFO : PROGRESS: at sentence #660000, processed 14758098 words, keeping 113945 word types\n",
      "2017-02-20 17:35:23,059 : INFO : PROGRESS: at sentence #670000, processed 14981482 words, keeping 114643 word types\n",
      "2017-02-20 17:35:23,127 : INFO : PROGRESS: at sentence #680000, processed 15206314 words, keeping 115354 word types\n",
      "2017-02-20 17:35:23,194 : INFO : PROGRESS: at sentence #690000, processed 15428507 words, keeping 116131 word types\n",
      "2017-02-20 17:35:23,265 : INFO : PROGRESS: at sentence #700000, processed 15657213 words, keeping 116943 word types\n",
      "2017-02-20 17:35:23,332 : INFO : PROGRESS: at sentence #710000, processed 15880202 words, keeping 117596 word types\n",
      "2017-02-20 17:35:23,398 : INFO : PROGRESS: at sentence #720000, processed 16105489 words, keeping 118221 word types\n",
      "2017-02-20 17:35:23,464 : INFO : PROGRESS: at sentence #730000, processed 16331870 words, keeping 118954 word types\n",
      "2017-02-20 17:35:23,528 : INFO : PROGRESS: at sentence #740000, processed 16552903 words, keeping 119668 word types\n",
      "2017-02-20 17:35:23,594 : INFO : PROGRESS: at sentence #750000, processed 16771230 words, keeping 120295 word types\n",
      "2017-02-20 17:35:23,660 : INFO : PROGRESS: at sentence #760000, processed 16990622 words, keeping 120930 word types\n",
      "2017-02-20 17:35:23,720 : INFO : PROGRESS: at sentence #770000, processed 17217759 words, keeping 121703 word types\n",
      "2017-02-20 17:35:23,779 : INFO : PROGRESS: at sentence #780000, processed 17447905 words, keeping 122402 word types\n",
      "2017-02-20 17:35:23,839 : INFO : PROGRESS: at sentence #790000, processed 17674981 words, keeping 123066 word types\n",
      "2017-02-20 17:35:23,875 : INFO : collected 123504 word types from a corpus of 17798082 raw words and 795538 sentences\n",
      "2017-02-20 17:35:23,875 : INFO : Loading a fresh vocabulary\n",
      "2017-02-20 17:35:24,009 : INFO : min_count=40 retains 16490 unique words (13% of original 123504, drops 107014)\n",
      "2017-02-20 17:35:24,010 : INFO : min_count=40 leaves 17238940 word corpus (96% of original 17798082, drops 559142)\n",
      "2017-02-20 17:35:25,566 : INFO : deleting the raw counts dictionary of 123504 items\n",
      "2017-02-20 17:35:25,573 : INFO : sample=0.001 downsamples 48 most-common words\n",
      "2017-02-20 17:35:25,575 : INFO : downsampling leaves estimated 12749658 word corpus (74.0% of prior 17238940)\n",
      "2017-02-20 17:35:25,576 : INFO : estimated required memory for 16490 words and 300 dimensions: 47821000 bytes\n",
      "2017-02-20 17:35:26,282 : INFO : resetting layer weights\n",
      "2017-02-20 17:35:27,917 : INFO : training model with 4 workers on 16490 vocabulary and 300 features, using sg=0 hs=0 sample=0.001 negative=5 window=10\n",
      "2017-02-20 17:35:27,918 : INFO : expecting 795538 sentences, matching count from corpus used for vocabulary survey\n",
      "2017-02-20 17:35:33,349 : INFO : PROGRESS: at 0.01% examples, 3997 words/s, in_qsize 8, out_qsize 0\n",
      "2017-02-20 17:35:34,365 : INFO : PROGRESS: at 1.07% examples, 244628 words/s, in_qsize 7, out_qsize 0\n",
      "2017-02-20 17:35:35,372 : INFO : PROGRESS: at 2.14% examples, 356079 words/s, in_qsize 7, out_qsize 0\n",
      "2017-02-20 17:35:36,378 : INFO : PROGRESS: at 3.23% examples, 426048 words/s, in_qsize 7, out_qsize 0\n",
      "2017-02-20 17:35:37,391 : INFO : PROGRESS: at 4.32% examples, 468344 words/s, in_qsize 8, out_qsize 0\n",
      "2017-02-20 17:35:38,395 : INFO : PROGRESS: at 5.03% examples, 466707 words/s, in_qsize 8, out_qsize 0\n",
      "2017-02-20 17:35:39,397 : INFO : PROGRESS: at 5.90% examples, 477604 words/s, in_qsize 6, out_qsize 1\n",
      "2017-02-20 17:35:40,404 : INFO : PROGRESS: at 6.85% examples, 490553 words/s, in_qsize 6, out_qsize 0\n",
      "2017-02-20 17:35:41,414 : INFO : PROGRESS: at 7.92% examples, 509173 words/s, in_qsize 7, out_qsize 0\n",
      "2017-02-20 17:35:42,430 : INFO : PROGRESS: at 8.75% examples, 510750 words/s, in_qsize 8, out_qsize 0\n",
      "2017-02-20 17:35:43,430 : INFO : PROGRESS: at 9.37% examples, 500721 words/s, in_qsize 7, out_qsize 0\n",
      "2017-02-20 17:35:44,434 : INFO : PROGRESS: at 10.00% examples, 493404 words/s, in_qsize 8, out_qsize 0\n",
      "2017-02-20 17:35:45,444 : INFO : PROGRESS: at 10.85% examples, 496833 words/s, in_qsize 6, out_qsize 0\n",
      "2017-02-20 17:35:46,450 : INFO : PROGRESS: at 11.66% examples, 498301 words/s, in_qsize 8, out_qsize 0\n",
      "2017-02-20 17:35:47,457 : INFO : PROGRESS: at 12.51% examples, 500891 words/s, in_qsize 8, out_qsize 0\n",
      "2017-02-20 17:35:48,461 : INFO : PROGRESS: at 13.35% examples, 502886 words/s, in_qsize 5, out_qsize 0\n",
      "2017-02-20 17:35:49,460 : INFO : PROGRESS: at 14.21% examples, 505486 words/s, in_qsize 7, out_qsize 0\n",
      "2017-02-20 17:35:50,470 : INFO : PROGRESS: at 15.07% examples, 507811 words/s, in_qsize 8, out_qsize 0\n",
      "2017-02-20 17:35:51,473 : INFO : PROGRESS: at 15.91% examples, 509164 words/s, in_qsize 7, out_qsize 0\n",
      "2017-02-20 17:35:52,486 : INFO : PROGRESS: at 16.68% examples, 507718 words/s, in_qsize 7, out_qsize 0\n",
      "2017-02-20 17:35:53,490 : INFO : PROGRESS: at 17.43% examples, 506159 words/s, in_qsize 7, out_qsize 0\n",
      "2017-02-20 17:35:54,497 : INFO : PROGRESS: at 18.28% examples, 507774 words/s, in_qsize 7, out_qsize 0\n",
      "2017-02-20 17:35:55,499 : INFO : PROGRESS: at 19.15% examples, 509540 words/s, in_qsize 7, out_qsize 0\n",
      "2017-02-20 17:35:56,515 : INFO : PROGRESS: at 19.75% examples, 504685 words/s, in_qsize 7, out_qsize 0\n",
      "2017-02-20 17:35:57,503 : INFO : PROGRESS: at 20.51% examples, 503940 words/s, in_qsize 5, out_qsize 0\n",
      "2017-02-20 17:35:58,523 : INFO : PROGRESS: at 21.21% examples, 501566 words/s, in_qsize 7, out_qsize 0\n",
      "2017-02-20 17:35:59,536 : INFO : PROGRESS: at 21.84% examples, 497525 words/s, in_qsize 6, out_qsize 0\n",
      "2017-02-20 17:36:00,545 : INFO : PROGRESS: at 22.64% examples, 497585 words/s, in_qsize 7, out_qsize 0\n",
      "2017-02-20 17:36:01,549 : INFO : PROGRESS: at 23.52% examples, 499297 words/s, in_qsize 6, out_qsize 0\n",
      "2017-02-20 17:36:02,569 : INFO : PROGRESS: at 24.36% examples, 500121 words/s, in_qsize 8, out_qsize 0\n",
      "2017-02-20 17:36:03,576 : INFO : PROGRESS: at 25.21% examples, 501279 words/s, in_qsize 7, out_qsize 0\n",
      "2017-02-20 17:36:04,592 : INFO : PROGRESS: at 26.04% examples, 501985 words/s, in_qsize 8, out_qsize 0\n",
      "2017-02-20 17:36:05,598 : INFO : PROGRESS: at 26.91% examples, 503074 words/s, in_qsize 7, out_qsize 0\n",
      "2017-02-20 17:36:06,602 : INFO : PROGRESS: at 27.70% examples, 503173 words/s, in_qsize 7, out_qsize 0\n",
      "2017-02-20 17:36:07,607 : INFO : PROGRESS: at 28.49% examples, 503269 words/s, in_qsize 6, out_qsize 0\n",
      "2017-02-20 17:36:08,621 : INFO : PROGRESS: at 29.33% examples, 503922 words/s, in_qsize 8, out_qsize 0\n",
      "2017-02-20 17:36:09,624 : INFO : PROGRESS: at 30.16% examples, 504489 words/s, in_qsize 7, out_qsize 0\n",
      "2017-02-20 17:36:10,634 : INFO : PROGRESS: at 30.94% examples, 504323 words/s, in_qsize 7, out_qsize 0\n",
      "2017-02-20 17:36:11,638 : INFO : PROGRESS: at 31.69% examples, 503839 words/s, in_qsize 7, out_qsize 0\n",
      "2017-02-20 17:36:12,654 : INFO : PROGRESS: at 32.46% examples, 503366 words/s, in_qsize 7, out_qsize 0\n",
      "2017-02-20 17:36:13,661 : INFO : PROGRESS: at 33.29% examples, 503930 words/s, in_qsize 7, out_qsize 0\n",
      "2017-02-20 17:36:14,664 : INFO : PROGRESS: at 34.12% examples, 504473 words/s, in_qsize 7, out_qsize 0\n",
      "2017-02-20 17:36:15,670 : INFO : PROGRESS: at 34.95% examples, 504952 words/s, in_qsize 7, out_qsize 0\n",
      "2017-02-20 17:36:16,667 : INFO : PROGRESS: at 35.80% examples, 505774 words/s, in_qsize 7, out_qsize 0\n",
      "2017-02-20 17:36:17,676 : INFO : PROGRESS: at 36.62% examples, 506106 words/s, in_qsize 7, out_qsize 0\n",
      "2017-02-20 17:36:18,709 : INFO : PROGRESS: at 37.37% examples, 505084 words/s, in_qsize 7, out_qsize 0\n",
      "2017-02-20 17:36:19,716 : INFO : PROGRESS: at 38.08% examples, 504103 words/s, in_qsize 7, out_qsize 0\n",
      "2017-02-20 17:36:20,720 : INFO : PROGRESS: at 38.90% examples, 504274 words/s, in_qsize 8, out_qsize 0\n",
      "2017-02-20 17:36:21,721 : INFO : PROGRESS: at 39.67% examples, 504037 words/s, in_qsize 8, out_qsize 0\n",
      "2017-02-20 17:36:22,736 : INFO : PROGRESS: at 40.51% examples, 504693 words/s, in_qsize 7, out_qsize 0\n",
      "2017-02-20 17:36:23,750 : INFO : PROGRESS: at 41.37% examples, 505310 words/s, in_qsize 8, out_qsize 0\n",
      "2017-02-20 17:36:24,759 : INFO : PROGRESS: at 42.22% examples, 505774 words/s, in_qsize 8, out_qsize 0\n",
      "2017-02-20 17:36:25,753 : INFO : PROGRESS: at 43.07% examples, 506349 words/s, in_qsize 7, out_qsize 0\n",
      "2017-02-20 17:36:26,763 : INFO : PROGRESS: at 43.91% examples, 506741 words/s, in_qsize 7, out_qsize 0\n",
      "2017-02-20 17:36:27,778 : INFO : PROGRESS: at 44.78% examples, 507428 words/s, in_qsize 7, out_qsize 0\n",
      "2017-02-20 17:36:28,772 : INFO : PROGRESS: at 45.65% examples, 508260 words/s, in_qsize 7, out_qsize 0\n",
      "2017-02-20 17:36:29,786 : INFO : PROGRESS: at 46.49% examples, 508534 words/s, in_qsize 8, out_qsize 0\n",
      "2017-02-20 17:36:30,796 : INFO : PROGRESS: at 47.34% examples, 508875 words/s, in_qsize 7, out_qsize 0\n",
      "2017-02-20 17:36:31,813 : INFO : PROGRESS: at 48.21% examples, 509606 words/s, in_qsize 7, out_qsize 0\n",
      "2017-02-20 17:36:32,822 : INFO : PROGRESS: at 49.08% examples, 510297 words/s, in_qsize 7, out_qsize 0\n",
      "2017-02-20 17:36:33,836 : INFO : PROGRESS: at 49.92% examples, 510748 words/s, in_qsize 7, out_qsize 0\n",
      "2017-02-20 17:36:34,842 : INFO : PROGRESS: at 50.81% examples, 511522 words/s, in_qsize 7, out_qsize 0\n",
      "2017-02-20 17:36:35,842 : INFO : PROGRESS: at 51.65% examples, 511956 words/s, in_qsize 7, out_qsize 0\n",
      "2017-02-20 17:36:36,859 : INFO : PROGRESS: at 52.51% examples, 512460 words/s, in_qsize 8, out_qsize 0\n",
      "2017-02-20 17:36:37,861 : INFO : PROGRESS: at 53.30% examples, 512388 words/s, in_qsize 7, out_qsize 0\n",
      "2017-02-20 17:36:38,875 : INFO : PROGRESS: at 54.01% examples, 511349 words/s, in_qsize 7, out_qsize 0\n",
      "2017-02-20 17:36:39,875 : INFO : PROGRESS: at 54.80% examples, 511251 words/s, in_qsize 7, out_qsize 0\n",
      "2017-02-20 17:36:40,894 : INFO : PROGRESS: at 55.46% examples, 509825 words/s, in_qsize 7, out_qsize 0\n",
      "2017-02-20 17:36:41,900 : INFO : PROGRESS: at 56.27% examples, 509867 words/s, in_qsize 7, out_qsize 0\n",
      "2017-02-20 17:36:42,910 : INFO : PROGRESS: at 56.94% examples, 508666 words/s, in_qsize 7, out_qsize 0\n",
      "2017-02-20 17:36:43,926 : INFO : PROGRESS: at 57.68% examples, 508093 words/s, in_qsize 7, out_qsize 0\n",
      "2017-02-20 17:36:44,936 : INFO : PROGRESS: at 58.44% examples, 507685 words/s, in_qsize 7, out_qsize 0\n",
      "2017-02-20 17:36:45,947 : INFO : PROGRESS: at 59.22% examples, 507355 words/s, in_qsize 7, out_qsize 0\n",
      "2017-02-20 17:36:46,963 : INFO : PROGRESS: at 60.00% examples, 507217 words/s, in_qsize 7, out_qsize 0\n",
      "2017-02-20 17:36:47,979 : INFO : PROGRESS: at 60.74% examples, 506693 words/s, in_qsize 7, out_qsize 0\n",
      "2017-02-20 17:36:48,992 : INFO : PROGRESS: at 61.53% examples, 506474 words/s, in_qsize 7, out_qsize 0\n",
      "2017-02-20 17:36:50,009 : INFO : PROGRESS: at 62.36% examples, 506564 words/s, in_qsize 8, out_qsize 0\n",
      "2017-02-20 17:36:51,022 : INFO : PROGRESS: at 63.09% examples, 506025 words/s, in_qsize 7, out_qsize 0\n",
      "2017-02-20 17:36:52,026 : INFO : PROGRESS: at 63.82% examples, 505398 words/s, in_qsize 6, out_qsize 0\n",
      "2017-02-20 17:36:53,030 : INFO : PROGRESS: at 64.56% examples, 504903 words/s, in_qsize 8, out_qsize 0\n",
      "2017-02-20 17:36:54,033 : INFO : PROGRESS: at 65.30% examples, 504483 words/s, in_qsize 7, out_qsize 0\n",
      "2017-02-20 17:36:55,045 : INFO : PROGRESS: at 66.14% examples, 504745 words/s, in_qsize 7, out_qsize 0\n",
      "2017-02-20 17:36:56,048 : INFO : PROGRESS: at 66.98% examples, 505002 words/s, in_qsize 8, out_qsize 0\n",
      "2017-02-20 17:36:57,046 : INFO : PROGRESS: at 67.82% examples, 505349 words/s, in_qsize 7, out_qsize 0\n",
      "2017-02-20 17:36:58,065 : INFO : PROGRESS: at 68.68% examples, 505878 words/s, in_qsize 8, out_qsize 0\n",
      "2017-02-20 17:36:59,072 : INFO : PROGRESS: at 69.55% examples, 506342 words/s, in_qsize 7, out_qsize 0\n",
      "2017-02-20 17:37:00,082 : INFO : PROGRESS: at 70.43% examples, 506954 words/s, in_qsize 7, out_qsize 0\n",
      "2017-02-20 17:37:01,078 : INFO : PROGRESS: at 71.28% examples, 507353 words/s, in_qsize 7, out_qsize 0\n",
      "2017-02-20 17:37:02,086 : INFO : PROGRESS: at 72.13% examples, 507775 words/s, in_qsize 7, out_qsize 0\n",
      "2017-02-20 17:37:03,095 : INFO : PROGRESS: at 72.99% examples, 508218 words/s, in_qsize 7, out_qsize 0\n",
      "2017-02-20 17:37:04,092 : INFO : PROGRESS: at 73.82% examples, 508441 words/s, in_qsize 8, out_qsize 0\n",
      "2017-02-20 17:37:05,095 : INFO : PROGRESS: at 74.66% examples, 508720 words/s, in_qsize 8, out_qsize 0\n",
      "2017-02-20 17:37:06,101 : INFO : PROGRESS: at 75.50% examples, 509003 words/s, in_qsize 5, out_qsize 0\n",
      "2017-02-20 17:37:07,105 : INFO : PROGRESS: at 76.27% examples, 508829 words/s, in_qsize 6, out_qsize 0\n",
      "2017-02-20 17:37:08,098 : INFO : PROGRESS: at 76.97% examples, 508151 words/s, in_qsize 8, out_qsize 0\n",
      "2017-02-20 17:37:09,101 : INFO : PROGRESS: at 77.74% examples, 507979 words/s, in_qsize 7, out_qsize 0\n",
      "2017-02-20 17:37:10,132 : INFO : PROGRESS: at 78.40% examples, 506952 words/s, in_qsize 7, out_qsize 0\n",
      "2017-02-20 17:37:11,163 : INFO : PROGRESS: at 79.21% examples, 506848 words/s, in_qsize 8, out_qsize 0\n",
      "2017-02-20 17:37:12,171 : INFO : PROGRESS: at 79.92% examples, 506378 words/s, in_qsize 7, out_qsize 0\n",
      "2017-02-20 17:37:13,181 : INFO : PROGRESS: at 80.73% examples, 506409 words/s, in_qsize 8, out_qsize 0\n",
      "2017-02-20 17:37:14,190 : INFO : PROGRESS: at 81.57% examples, 506585 words/s, in_qsize 6, out_qsize 0\n",
      "2017-02-20 17:37:15,197 : INFO : PROGRESS: at 82.29% examples, 506054 words/s, in_qsize 8, out_qsize 0\n",
      "2017-02-20 17:37:16,201 : INFO : PROGRESS: at 83.12% examples, 506268 words/s, in_qsize 7, out_qsize 0\n",
      "2017-02-20 17:37:17,207 : INFO : PROGRESS: at 84.02% examples, 506788 words/s, in_qsize 8, out_qsize 0\n",
      "2017-02-20 17:37:18,214 : INFO : PROGRESS: at 84.92% examples, 507367 words/s, in_qsize 7, out_qsize 0\n",
      "2017-02-20 17:37:19,233 : INFO : PROGRESS: at 85.81% examples, 507851 words/s, in_qsize 7, out_qsize 0\n",
      "2017-02-20 17:37:20,234 : INFO : PROGRESS: at 86.71% examples, 508353 words/s, in_qsize 7, out_qsize 0\n",
      "2017-02-20 17:37:21,234 : INFO : PROGRESS: at 87.56% examples, 508671 words/s, in_qsize 6, out_qsize 0\n",
      "2017-02-20 17:37:22,239 : INFO : PROGRESS: at 88.26% examples, 508098 words/s, in_qsize 7, out_qsize 0\n",
      "2017-02-20 17:37:23,249 : INFO : PROGRESS: at 88.96% examples, 507475 words/s, in_qsize 8, out_qsize 0\n",
      "2017-02-20 17:37:24,257 : INFO : PROGRESS: at 89.76% examples, 507560 words/s, in_qsize 8, out_qsize 0\n",
      "2017-02-20 17:37:25,269 : INFO : PROGRESS: at 90.61% examples, 507789 words/s, in_qsize 7, out_qsize 0\n",
      "2017-02-20 17:37:26,269 : INFO : PROGRESS: at 91.46% examples, 508154 words/s, in_qsize 7, out_qsize 0\n",
      "2017-02-20 17:37:27,272 : INFO : PROGRESS: at 92.31% examples, 508448 words/s, in_qsize 7, out_qsize 0\n",
      "2017-02-20 17:37:28,273 : INFO : PROGRESS: at 93.16% examples, 508740 words/s, in_qsize 7, out_qsize 0\n",
      "2017-02-20 17:37:29,278 : INFO : PROGRESS: at 94.03% examples, 509136 words/s, in_qsize 6, out_qsize 0\n",
      "2017-02-20 17:37:30,279 : INFO : PROGRESS: at 94.88% examples, 509425 words/s, in_qsize 8, out_qsize 0\n",
      "2017-02-20 17:37:31,288 : INFO : PROGRESS: at 95.76% examples, 509789 words/s, in_qsize 7, out_qsize 0\n",
      "2017-02-20 17:37:32,305 : INFO : PROGRESS: at 96.62% examples, 510053 words/s, in_qsize 7, out_qsize 0\n",
      "2017-02-20 17:37:33,312 : INFO : PROGRESS: at 97.45% examples, 510175 words/s, in_qsize 6, out_qsize 1\n",
      "2017-02-20 17:37:34,334 : INFO : PROGRESS: at 98.32% examples, 510486 words/s, in_qsize 8, out_qsize 0\n",
      "2017-02-20 17:37:35,341 : INFO : PROGRESS: at 99.17% examples, 510637 words/s, in_qsize 8, out_qsize 0\n",
      "2017-02-20 17:37:36,355 : INFO : PROGRESS: at 99.87% examples, 510138 words/s, in_qsize 7, out_qsize 0\n",
      "2017-02-20 17:37:36,487 : INFO : worker thread finished; awaiting finish of 3 more threads\n",
      "2017-02-20 17:37:36,489 : INFO : worker thread finished; awaiting finish of 2 more threads\n",
      "2017-02-20 17:37:36,517 : INFO : worker thread finished; awaiting finish of 1 more threads\n",
      "2017-02-20 17:37:36,523 : INFO : worker thread finished; awaiting finish of 0 more threads\n",
      "2017-02-20 17:37:36,523 : INFO : training on 88990410 raw words (63746075 effective words) took 125.0s, 510092 effective words/s\n",
      "2017-02-20 17:37:36,525 : INFO : precomputing L2-norms of word weight vectors\n",
      "2017-02-20 17:37:36,769 : INFO : saving Word2Vec object under 300features_40minwords_10context, separately None\n",
      "2017-02-20 17:37:36,769 : INFO : not storing attribute syn0norm\n",
      "2017-02-20 17:37:36,770 : INFO : not storing attribute cum_table\n",
      "2017-02-20 17:37:37,743 : INFO : saved 300features_40minwords_10context\n"
     ]
    }
   ],
   "source": [
    "# Import the built-in logging module and configure it so that Word2Vec \n",
    "# creates nice output messages\n",
    "import logging\n",
    "logging.basicConfig(format='%(asctime)s : %(levelname)s : %(message)s', level=logging.INFO)\n",
    "\n",
    "# Set values for various parameters\n",
    "num_features = 300    # Word vector dimensionality                      \n",
    "min_word_count = 40   # Minimum word count                        \n",
    "num_workers = 4       # Number of threads to run in parallel\n",
    "context = 10          # Context window size                                                                                    \n",
    "downsampling = 1e-3   # Downsample setting for frequent words\n",
    "\n",
    "# Initialize and train the model (this will take some time)\n",
    "from gensim.models import word2vec\n",
    "print \"Training model...\"\n",
    "model = word2vec.Word2Vec(sentences, workers=num_workers, size=num_features, min_count = min_word_count, \n",
    "                          window = context, sample = downsampling)\n",
    "\n",
    "# If you don't plan to train the model any further, calling \n",
    "# init_sims will make the model much more memory-efficient.\n",
    "model.init_sims(replace=True)\n",
    "\n",
    "# It can be helpful to create a meaningful model name and \n",
    "# save the model for later use. You can load it later using Word2Vec.load()\n",
    "model_name = \"300features_40minwords_10context\"\n",
    "model.save(model_name)"
   ]
  },
  {
   "cell_type": "code",
   "execution_count": 37,
   "metadata": {
    "collapsed": false
   },
   "outputs": [
    {
     "name": "stderr",
     "output_type": "stream",
     "text": [
      "2017-02-20 18:30:45,022 : WARNING : direct access to syn0 will not be supported in future gensim releases, please use model.wv.syn0\n"
     ]
    },
    {
     "data": {
      "text/plain": [
       "(16490L, 300L)"
      ]
     },
     "execution_count": 37,
     "metadata": {},
     "output_type": "execute_result"
    }
   ],
   "source": [
    "model.syn0.shape"
   ]
  },
  {
   "cell_type": "markdown",
   "metadata": {},
   "source": [
    "We need to find a way to take individual word vectors and transform them into a feature set that is the same length for every review."
   ]
  },
  {
   "cell_type": "markdown",
   "metadata": {},
   "source": [
    "Method we try was to simply average the word vectors in a given review"
   ]
  },
  {
   "cell_type": "code",
   "execution_count": 59,
   "metadata": {
    "collapsed": true
   },
   "outputs": [],
   "source": [
    "import numpy as np\n",
    "\n",
    "def makeFeatureVec(words, model, num_features):\n",
    "    # Function to average all of the word vectors in a given paragraph\n",
    "    \n",
    "    featureVec = np.zeros((num_features,),dtype=\"float32\")\n",
    "    nwords = 0.\n",
    "\n",
    "    # Index2word is a list that contains the names of the words in \n",
    "    # the model's vocabulary. Convert it to a set, for speed \n",
    "    index2word_set = set(model.wv.index2word)\n",
    "\n",
    "    # Loop over each word in the review and, if it is in the model's\n",
    "    # vocaublary, add its feature vector to the total\n",
    "    for word in words:\n",
    "        if word in index2word_set: \n",
    "            nwords = nwords + 1.\n",
    "            featureVec = np.add(featureVec,model[word])\n",
    "\n",
    "    # Divide the result by the number of words to get the average\n",
    "    featureVec = np.divide(featureVec,nwords)\n",
    "    return featureVec\n",
    "\n",
    "\n",
    "def getAvgFeatureVecs(reviews, model, num_features):\n",
    "    # Given a set of reviews (each one a list of words), calculate \n",
    "    # the average feature vector for each one and return a 2D numpy array \n",
    "\n",
    "    counter = 0.\n",
    "\n",
    "    reviewFeatureVecs = np.zeros((len(reviews),num_features),dtype=\"float32\")\n",
    "\n",
    "    for review in reviews:\n",
    "        if counter%1000. == 0.:\n",
    "            print \"Review %d of %d\" % (counter, len(reviews))\n",
    "        reviewFeatureVecs[counter] = makeFeatureVec(review, model, num_features)\n",
    "        counter = counter + 1\n",
    "    return reviewFeatureVecs"
   ]
  },
  {
   "cell_type": "code",
   "execution_count": 60,
   "metadata": {
    "collapsed": false
   },
   "outputs": [
    {
     "name": "stdout",
     "output_type": "stream",
     "text": [
      "Review 0 of 25000\n",
      "Review 1000 of 25000\n",
      "Review 2000 of 25000\n",
      "Review 3000 of 25000\n",
      "Review 4000 of 25000\n",
      "Review 5000 of 25000\n",
      "Review 6000 of 25000\n",
      "Review 7000 of 25000\n",
      "Review 8000 of 25000\n",
      "Review 9000 of 25000\n",
      "Review 10000 of 25000\n",
      "Review 11000 of 25000\n",
      "Review 12000 of 25000\n",
      "Review 13000 of 25000\n",
      "Review 14000 of 25000\n",
      "Review 15000 of 25000\n",
      "Review 16000 of 25000\n",
      "Review 17000 of 25000\n",
      "Review 18000 of 25000\n",
      "Review 19000 of 25000\n",
      "Review 20000 of 25000\n",
      "Review 21000 of 25000\n",
      "Review 22000 of 25000\n",
      "Review 23000 of 25000\n",
      "Review 24000 of 25000\n",
      "Review 0 of 25000\n",
      "Review 1000 of 25000\n",
      "Review 2000 of 25000\n",
      "Review 3000 of 25000\n",
      "Review 4000 of 25000\n",
      "Review 5000 of 25000\n",
      "Review 6000 of 25000\n",
      "Review 7000 of 25000\n",
      "Review 8000 of 25000\n",
      "Review 9000 of 25000\n",
      "Review 10000 of 25000\n",
      "Review 11000 of 25000\n",
      "Review 12000 of 25000\n",
      "Review 13000 of 25000\n",
      "Review 14000 of 25000\n",
      "Review 15000 of 25000\n",
      "Review 16000 of 25000\n",
      "Review 17000 of 25000\n",
      "Review 18000 of 25000\n",
      "Review 19000 of 25000\n",
      "Review 20000 of 25000\n",
      "Review 21000 of 25000\n",
      "Review 22000 of 25000\n",
      "Review 23000 of 25000\n",
      "Review 24000 of 25000\n"
     ]
    }
   ],
   "source": [
    "clean_train_reviews = []\n",
    "for review in train[\"review\"]: \n",
    "    clean_train_reviews.append( review_to_wordlist( review, remove_stopwords=True ))\n",
    "\n",
    "trainDataVecs = getAvgFeatureVecs( clean_train_reviews, model, num_features )\n",
    "\n",
    "clean_test_reviews = []\n",
    "for review in test[\"review\"]:\n",
    "    clean_test_reviews.append( review_to_wordlist( review, remove_stopwords=True ))\n",
    "\n",
    "testDataVecs = getAvgFeatureVecs( clean_test_reviews, model, num_features )"
   ]
  },
  {
   "cell_type": "code",
   "execution_count": 62,
   "metadata": {
    "collapsed": false
   },
   "outputs": [
    {
     "name": "stdout",
     "output_type": "stream",
     "text": [
      "Fitting a random forest to labeled training data...\n"
     ]
    }
   ],
   "source": [
    "from sklearn.ensemble import RandomForestClassifier\n",
    "forest = RandomForestClassifier( n_estimators = 100 )\n",
    "\n",
    "print \"Fitting a random forest to labeled training data...\"\n",
    "forest = forest.fit( trainDataVecs, train[\"sentiment\"] )\n",
    "result = forest.predict( testDataVecs )\n",
    "\n",
    "# Write the test results \n",
    "output = pd.DataFrame( data={\"id\":test[\"id\"], \"sentiment\":result} )\n",
    "output.to_csv( \"Word2Vec_AverageVectors.csv\", index=False, quoting=3 )"
   ]
  },
  {
   "cell_type": "markdown",
   "metadata": {},
   "source": [
    "I get 0.82952 with this submission"
   ]
  }
 ],
 "metadata": {
  "anaconda-cloud": {},
  "kernelspec": {
   "display_name": "Python [default]",
   "language": "python",
   "name": "python2"
  },
  "language_info": {
   "codemirror_mode": {
    "name": "ipython",
    "version": 2
   },
   "file_extension": ".py",
   "mimetype": "text/x-python",
   "name": "python",
   "nbconvert_exporter": "python",
   "pygments_lexer": "ipython2",
   "version": "2.7.12"
  }
 },
 "nbformat": 4,
 "nbformat_minor": 1
}
