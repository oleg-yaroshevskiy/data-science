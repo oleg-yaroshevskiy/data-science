{
 "cells": [
  {
   "cell_type": "markdown",
   "metadata": {},
   "source": [
    "### SMS Spam collection\n",
    "description http://www.dt.fee.unicamp.br/~tiago/smsspamcollection/"
   ]
  },
  {
   "cell_type": "markdown",
   "metadata": {},
   "source": [
    "Reading the data:"
   ]
  },
  {
   "cell_type": "code",
   "execution_count": 25,
   "metadata": {
    "collapsed": false
   },
   "outputs": [],
   "source": [
    "with open(\"SMSSpamCollection.txt\") as f:\n",
    "    content = f.readlines()\n",
    "\n",
    "data = [x.strip().split(\"\\t\")[1] for x in content]\n",
    "labels = [x.strip().split(\"\\t\")[0] for x in content]"
   ]
  },
  {
   "cell_type": "markdown",
   "metadata": {},
   "source": [
    "Let's see:"
   ]
  },
  {
   "cell_type": "code",
   "execution_count": 26,
   "metadata": {
    "collapsed": false
   },
   "outputs": [
    {
     "name": "stdout",
     "output_type": "stream",
     "text": [
      "ham Go until jurong point, crazy.. Available only in bugis n great world la e buffet... Cine there got amore wat...\n",
      "ham Ok lar... Joking wif u oni...\n",
      "spam Free entry in 2 a wkly comp to win FA Cup final tkts 21st May 2005. Text FA to 87121 to receive entry question(std txt rate)T&C's apply 08452810075over18's\n",
      "ham U dun say so early hor... U c already then say...\n",
      "ham Nah I don't think he goes to usf, he lives around here though\n"
     ]
    }
   ],
   "source": [
    "for i in range(0,5):\n",
    "    print labels[i], data[i]"
   ]
  },
  {
   "cell_type": "code",
   "execution_count": 27,
   "metadata": {
    "collapsed": false
   },
   "outputs": [],
   "source": [
    "labels = [1 if l == 'spam' else 0 for l in labels]"
   ]
  },
  {
   "cell_type": "markdown",
   "metadata": {},
   "source": [
    "Let's extract features from our data using frequency based transformer"
   ]
  },
  {
   "cell_type": "code",
   "execution_count": 28,
   "metadata": {
    "collapsed": true
   },
   "outputs": [],
   "source": [
    "from sklearn.feature_extraction.text import TfidfTransformer, CountVectorizer, TfidfVectorizer\n",
    "\n",
    "cv = CountVectorizer()\n",
    "cv.fit(data)\n",
    "X = cv.transform(data)"
   ]
  },
  {
   "cell_type": "markdown",
   "metadata": {},
   "source": [
    "Now we evaluate a logistic regression score using f1-metric with 10 cv folds"
   ]
  },
  {
   "cell_type": "code",
   "execution_count": 29,
   "metadata": {
    "collapsed": false
   },
   "outputs": [
    {
     "data": {
      "text/plain": [
       "0.93334852685794145"
      ]
     },
     "execution_count": 29,
     "metadata": {},
     "output_type": "execute_result"
    }
   ],
   "source": [
    "from sklearn.linear_model import LogisticRegression\n",
    "from sklearn.cross_validation import cross_val_score\n",
    "\n",
    "lr = LogisticRegression(random_state=2)\n",
    "cross_val_score(lr, X, labels, cv=10, scoring='f1').mean()"
   ]
  },
  {
   "cell_type": "markdown",
   "metadata": {},
   "source": [
    "Good enough! Finally we train our classifier on whole data set and make some predictions:"
   ]
  },
  {
   "cell_type": "code",
   "execution_count": 20,
   "metadata": {
    "collapsed": false
   },
   "outputs": [
    {
     "data": {
      "text/plain": [
       "array([1, 1, 0, 0, 0])"
      ]
     },
     "execution_count": 20,
     "metadata": {},
     "output_type": "execute_result"
    }
   ],
   "source": [
    "test_data = [\"FreeMsg: Txt: CALL to No: 86888 & claim your reward of 3 hours talk time to use from your phone now! Subscribe6GB\",\n",
    "             \"FreeMsg: Txt: claim your reward of 3 hours talk time\",\n",
    "             \"Have you visited the last lecture on physics?\",\n",
    "             \"Have you visited the last lecture on physics? Just buy this book and you will have all materials! Only 99$\",\n",
    "             \"Only 99$\"]\n",
    "\n",
    "lr.fit(X, labels)\n",
    "lr.predict(cv.transform(raw_documents=test_data))"
   ]
  },
  {
   "cell_type": "markdown",
   "metadata": {},
   "source": [
    "Good. At least it works. Let's try n-gram approach"
   ]
  },
  {
   "cell_type": "code",
   "execution_count": 32,
   "metadata": {
    "collapsed": false
   },
   "outputs": [
    {
     "name": "stdout",
     "output_type": "stream",
     "text": [
      "0.822422066419\n",
      "0.725016155547\n",
      "0.925138255865\n"
     ]
    }
   ],
   "source": [
    "for ng in [(2,2), (3,3), (1,3)]:\n",
    "    print cross_val_score(LogisticRegression(random_state=2), \n",
    "                    CountVectorizer(ngram_range=ng).fit_transform(data), \n",
    "                    labels, \n",
    "                    cv=10, \n",
    "                    scoring='f1').mean()"
   ]
  },
  {
   "cell_type": "markdown",
   "metadata": {},
   "source": [
    "As expected bigram and trigrams don't score well on small sets "
   ]
  },
  {
   "cell_type": "code",
   "execution_count": 36,
   "metadata": {
    "collapsed": false
   },
   "outputs": [
    {
     "name": "stdout",
     "output_type": "stream",
     "text": [
      "0.645455401356\n",
      "0.378623430876\n",
      "0.887905460889\n"
     ]
    }
   ],
   "source": [
    "from sklearn.naive_bayes import MultinomialNB\n",
    "\n",
    "for ng in [(2,2), (3,3), (1,3)]:\n",
    "    print cross_val_score(MultinomialNB(), \n",
    "                    CountVectorizer(ngram_range=ng).fit_transform(data), \n",
    "                    labels, \n",
    "                    cv=10, \n",
    "                    scoring='f1').mean()"
   ]
  },
  {
   "cell_type": "markdown",
   "metadata": {},
   "source": [
    "We see how badly Naive Bayes works on lack of bigram/trigrams statistics"
   ]
  },
  {
   "cell_type": "markdown",
   "metadata": {},
   "source": [
    "Finally let's try Tf-idf approach"
   ]
  },
  {
   "cell_type": "code",
   "execution_count": 42,
   "metadata": {
    "collapsed": false
   },
   "outputs": [
    {
     "name": "stdout",
     "output_type": "stream",
     "text": [
      "0.840253457542\n"
     ]
    }
   ],
   "source": [
    "print cross_val_score(MultinomialNB(), \n",
    "                    TfidfVectorizer().fit_transform(data), \n",
    "                    labels, \n",
    "                    cv=10, \n",
    "                    scoring='f1').mean()"
   ]
  }
 ],
 "metadata": {
  "anaconda-cloud": {},
  "kernelspec": {
   "display_name": "Python [default]",
   "language": "python",
   "name": "python2"
  },
  "language_info": {
   "codemirror_mode": {
    "name": "ipython",
    "version": 2
   },
   "file_extension": ".py",
   "mimetype": "text/x-python",
   "name": "python",
   "nbconvert_exporter": "python",
   "pygments_lexer": "ipython2",
   "version": "2.7.12"
  }
 },
 "nbformat": 4,
 "nbformat_minor": 1
}
