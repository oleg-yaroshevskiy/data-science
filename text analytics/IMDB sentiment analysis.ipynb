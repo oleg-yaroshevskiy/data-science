{
 "cells": [
  {
   "cell_type": "markdown",
   "metadata": {},
   "source": [
    "# IMDB sentiment analysis"
   ]
  },
  {
   "cell_type": "markdown",
   "metadata": {},
   "source": [
    "(Based on Coursera MIPT & Yandex Machine Learning course)"
   ]
  },
  {
   "cell_type": "code",
   "execution_count": 2,
   "metadata": {
    "collapsed": true
   },
   "outputs": [],
   "source": [
    "import numpy as np\n",
    "import pandas as pd\n",
    "import matplotlib.pyplot as plt\n",
    "%matplotlib inline"
   ]
  },
  {
   "cell_type": "markdown",
   "metadata": {},
   "source": [
    "There are 25000 IMDB movie reviews, specially selected for sentiment analysis. The sentiment of reviews is binary, meaning the IMDB rating < 5 results in a sentiment score of 0, and rating >=7 have a sentiment score of 1.\n",
    "\n",
    "Kaggle competition: https://www.kaggle.com/c/word2vec-nlp-tutorial/data\n",
    "\n",
    "Let's load the sample:"
   ]
  },
  {
   "cell_type": "code",
   "execution_count": 3,
   "metadata": {
    "collapsed": false
   },
   "outputs": [
    {
     "data": {
      "text/plain": [
       "(25000, 3)"
      ]
     },
     "execution_count": 3,
     "metadata": {},
     "output_type": "execute_result"
    }
   ],
   "source": [
    "imdb = pd.read_csv('labeledTrainData.tsv', delimiter='\\t')\n",
    "imdb.shape"
   ]
  },
  {
   "cell_type": "code",
   "execution_count": 4,
   "metadata": {
    "collapsed": false
   },
   "outputs": [
    {
     "data": {
      "text/html": [
       "<div>\n",
       "<table border=\"1\" class=\"dataframe\">\n",
       "  <thead>\n",
       "    <tr style=\"text-align: right;\">\n",
       "      <th></th>\n",
       "      <th>id</th>\n",
       "      <th>sentiment</th>\n",
       "      <th>review</th>\n",
       "    </tr>\n",
       "  </thead>\n",
       "  <tbody>\n",
       "    <tr>\n",
       "      <th>0</th>\n",
       "      <td>5814_8</td>\n",
       "      <td>1</td>\n",
       "      <td>With all this stuff going down at the moment w...</td>\n",
       "    </tr>\n",
       "    <tr>\n",
       "      <th>1</th>\n",
       "      <td>2381_9</td>\n",
       "      <td>1</td>\n",
       "      <td>\\The Classic War of the Worlds\\\" by Timothy Hi...</td>\n",
       "    </tr>\n",
       "    <tr>\n",
       "      <th>2</th>\n",
       "      <td>7759_3</td>\n",
       "      <td>0</td>\n",
       "      <td>The film starts with a manager (Nicholas Bell)...</td>\n",
       "    </tr>\n",
       "    <tr>\n",
       "      <th>3</th>\n",
       "      <td>3630_4</td>\n",
       "      <td>0</td>\n",
       "      <td>It must be assumed that those who praised this...</td>\n",
       "    </tr>\n",
       "    <tr>\n",
       "      <th>4</th>\n",
       "      <td>9495_8</td>\n",
       "      <td>1</td>\n",
       "      <td>Superbly trashy and wondrously unpretentious 8...</td>\n",
       "    </tr>\n",
       "  </tbody>\n",
       "</table>\n",
       "</div>"
      ],
      "text/plain": [
       "       id  sentiment                                             review\n",
       "0  5814_8          1  With all this stuff going down at the moment w...\n",
       "1  2381_9          1  \\The Classic War of the Worlds\\\" by Timothy Hi...\n",
       "2  7759_3          0  The film starts with a manager (Nicholas Bell)...\n",
       "3  3630_4          0  It must be assumed that those who praised this...\n",
       "4  9495_8          1  Superbly trashy and wondrously unpretentious 8..."
      ]
     },
     "execution_count": 4,
     "metadata": {},
     "output_type": "execute_result"
    }
   ],
   "source": [
    "imdb.head()"
   ]
  },
  {
   "cell_type": "markdown",
   "metadata": {},
   "source": [
    "Classes are balanced:"
   ]
  },
  {
   "cell_type": "code",
   "execution_count": 5,
   "metadata": {
    "collapsed": false
   },
   "outputs": [
    {
     "data": {
      "text/plain": [
       "1    12500\n",
       "0    12500\n",
       "Name: sentiment, dtype: int64"
      ]
     },
     "execution_count": 5,
     "metadata": {},
     "output_type": "execute_result"
    }
   ],
   "source": [
    "imdb.sentiment.value_counts()"
   ]
  },
  {
   "cell_type": "markdown",
   "metadata": {},
   "source": [
    "Splitting the training and test sets:"
   ]
  },
  {
   "cell_type": "code",
   "execution_count": 6,
   "metadata": {
    "collapsed": false
   },
   "outputs": [],
   "source": [
    "from sklearn.cross_validation import train_test_split\n",
    "texts_train, texts_test, y_train, y_test = train_test_split(imdb.review.values, imdb.sentiment.values)"
   ]
  },
  {
   "cell_type": "markdown",
   "metadata": {},
   "source": [
    "Vectorizing reviews:"
   ]
  },
  {
   "cell_type": "code",
   "execution_count": 7,
   "metadata": {
    "collapsed": false
   },
   "outputs": [],
   "source": [
    "from sklearn.feature_extraction.text import TfidfVectorizer\n",
    "\n",
    "vect = TfidfVectorizer(sublinear_tf=True, use_idf=True)\n",
    "X_train = vect.fit_transform(texts_train)\n",
    "X_test = vect.transform(texts_test)"
   ]
  },
  {
   "cell_type": "markdown",
   "metadata": {},
   "source": [
    "## Logistic regression"
   ]
  },
  {
   "cell_type": "markdown",
   "metadata": {},
   "source": [
    "Let's fit Logistic Regression and evaluate AUC score:"
   ]
  },
  {
   "cell_type": "code",
   "execution_count": 8,
   "metadata": {
    "collapsed": false
   },
   "outputs": [
    {
     "name": "stdout",
     "output_type": "stream",
     "text": [
      "0.88768\n",
      "0.956957106423\n"
     ]
    }
   ],
   "source": [
    "from sklearn.linear_model import LogisticRegression\n",
    "from sklearn import metrics\n",
    "\n",
    "clf = LogisticRegression()\n",
    "clf.fit(X_train, y_train)\n",
    "\n",
    "print metrics.accuracy_score(y_test, clf.predict(X_test))\n",
    "print metrics.roc_auc_score(y_test, clf.predict_proba(X_test)[:, 1])"
   ]
  },
  {
   "cell_type": "markdown",
   "metadata": {
    "collapsed": true
   },
   "source": [
    "But we've got too many features:"
   ]
  },
  {
   "cell_type": "code",
   "execution_count": 9,
   "metadata": {
    "collapsed": false
   },
   "outputs": [
    {
     "data": {
      "text/plain": [
       "(18750, 66597)"
      ]
     },
     "execution_count": 9,
     "metadata": {},
     "output_type": "execute_result"
    }
   ],
   "source": [
    "X_train.shape"
   ]
  },
  {
   "cell_type": "markdown",
   "metadata": {},
   "source": [
    "Let's perform selection using Lasso regularization:"
   ]
  },
  {
   "cell_type": "code",
   "execution_count": 10,
   "metadata": {
    "collapsed": false
   },
   "outputs": [
    {
     "name": "stdout",
     "output_type": "stream",
     "text": [
      "104\n",
      "0.80944\n",
      "0.891544332825\n"
     ]
    }
   ],
   "source": [
    "clf = LogisticRegression(C=0.15, penalty='l1')\n",
    "clf.fit(X_train, y_train)\n",
    "\n",
    "print np.sum(np.abs(clf.coef_) > 1e-4)\n",
    "print metrics.accuracy_score(y_test, clf.predict(X_test))\n",
    "print metrics.roc_auc_score(y_test, clf.predict_proba(X_test)[:, 1])"
   ]
  },
  {
   "cell_type": "markdown",
   "metadata": {},
   "source": [
    "Another approach for a feature selection - randomized logistic regression (subsampling + l1):"
   ]
  },
  {
   "cell_type": "code",
   "execution_count": 11,
   "metadata": {
    "collapsed": false,
    "scrolled": true
   },
   "outputs": [
    {
     "name": "stderr",
     "output_type": "stream",
     "text": [
      "C:\\Program Files\\Anaconda2\\lib\\site-packages\\sklearn\\linear_model\\randomized_l1.py:53: DeprecationWarning: This function is deprecated. Please call randint(0, 1 + 1) instead\n",
      "  for _ in range(n_resampling)):\n",
      "C:\\Program Files\\Anaconda2\\lib\\site-packages\\sklearn\\linear_model\\randomized_l1.py:53: DeprecationWarning: This function is deprecated. Please call randint(0, 1 + 1) instead\n",
      "  for _ in range(n_resampling)):\n",
      "C:\\Program Files\\Anaconda2\\lib\\site-packages\\sklearn\\linear_model\\randomized_l1.py:53: DeprecationWarning: This function is deprecated. Please call randint(0, 1 + 1) instead\n",
      "  for _ in range(n_resampling)):\n",
      "C:\\Program Files\\Anaconda2\\lib\\site-packages\\sklearn\\linear_model\\randomized_l1.py:53: DeprecationWarning: This function is deprecated. Please call randint(0, 1 + 1) instead\n",
      "  for _ in range(n_resampling)):\n",
      "C:\\Program Files\\Anaconda2\\lib\\site-packages\\sklearn\\linear_model\\randomized_l1.py:53: DeprecationWarning: This function is deprecated. Please call randint(0, 1 + 1) instead\n",
      "  for _ in range(n_resampling)):\n",
      "C:\\Program Files\\Anaconda2\\lib\\site-packages\\sklearn\\linear_model\\randomized_l1.py:53: DeprecationWarning: This function is deprecated. Please call randint(0, 1 + 1) instead\n",
      "  for _ in range(n_resampling)):\n",
      "C:\\Program Files\\Anaconda2\\lib\\site-packages\\sklearn\\linear_model\\randomized_l1.py:53: DeprecationWarning: This function is deprecated. Please call randint(0, 1 + 1) instead\n",
      "  for _ in range(n_resampling)):\n",
      "C:\\Program Files\\Anaconda2\\lib\\site-packages\\sklearn\\linear_model\\randomized_l1.py:53: DeprecationWarning: This function is deprecated. Please call randint(0, 1 + 1) instead\n",
      "  for _ in range(n_resampling)):\n",
      "C:\\Program Files\\Anaconda2\\lib\\site-packages\\sklearn\\linear_model\\randomized_l1.py:53: DeprecationWarning: This function is deprecated. Please call randint(0, 1 + 1) instead\n",
      "  for _ in range(n_resampling)):\n",
      "C:\\Program Files\\Anaconda2\\lib\\site-packages\\sklearn\\linear_model\\randomized_l1.py:53: DeprecationWarning: This function is deprecated. Please call randint(0, 1 + 1) instead\n",
      "  for _ in range(n_resampling)):\n",
      "C:\\Program Files\\Anaconda2\\lib\\site-packages\\sklearn\\linear_model\\randomized_l1.py:53: DeprecationWarning: This function is deprecated. Please call randint(0, 1 + 1) instead\n",
      "  for _ in range(n_resampling)):\n",
      "C:\\Program Files\\Anaconda2\\lib\\site-packages\\sklearn\\linear_model\\randomized_l1.py:53: DeprecationWarning: This function is deprecated. Please call randint(0, 1 + 1) instead\n",
      "  for _ in range(n_resampling)):\n",
      "C:\\Program Files\\Anaconda2\\lib\\site-packages\\sklearn\\linear_model\\randomized_l1.py:53: DeprecationWarning: This function is deprecated. Please call randint(0, 1 + 1) instead\n",
      "  for _ in range(n_resampling)):\n",
      "C:\\Program Files\\Anaconda2\\lib\\site-packages\\sklearn\\linear_model\\randomized_l1.py:53: DeprecationWarning: This function is deprecated. Please call randint(0, 1 + 1) instead\n",
      "  for _ in range(n_resampling)):\n",
      "C:\\Program Files\\Anaconda2\\lib\\site-packages\\sklearn\\linear_model\\randomized_l1.py:53: DeprecationWarning: This function is deprecated. Please call randint(0, 1 + 1) instead\n",
      "  for _ in range(n_resampling)):\n",
      "C:\\Program Files\\Anaconda2\\lib\\site-packages\\sklearn\\linear_model\\randomized_l1.py:53: DeprecationWarning: This function is deprecated. Please call randint(0, 1 + 1) instead\n",
      "  for _ in range(n_resampling)):\n",
      "C:\\Program Files\\Anaconda2\\lib\\site-packages\\sklearn\\linear_model\\randomized_l1.py:53: DeprecationWarning: This function is deprecated. Please call randint(0, 1 + 1) instead\n",
      "  for _ in range(n_resampling)):\n",
      "C:\\Program Files\\Anaconda2\\lib\\site-packages\\sklearn\\linear_model\\randomized_l1.py:53: DeprecationWarning: This function is deprecated. Please call randint(0, 1 + 1) instead\n",
      "  for _ in range(n_resampling)):\n",
      "C:\\Program Files\\Anaconda2\\lib\\site-packages\\sklearn\\linear_model\\randomized_l1.py:53: DeprecationWarning: This function is deprecated. Please call randint(0, 1 + 1) instead\n",
      "  for _ in range(n_resampling)):\n",
      "C:\\Program Files\\Anaconda2\\lib\\site-packages\\sklearn\\linear_model\\randomized_l1.py:53: DeprecationWarning: This function is deprecated. Please call randint(0, 1 + 1) instead\n",
      "  for _ in range(n_resampling)):\n",
      "C:\\Program Files\\Anaconda2\\lib\\site-packages\\sklearn\\linear_model\\randomized_l1.py:53: DeprecationWarning: This function is deprecated. Please call randint(0, 1 + 1) instead\n",
      "  for _ in range(n_resampling)):\n",
      "C:\\Program Files\\Anaconda2\\lib\\site-packages\\sklearn\\linear_model\\randomized_l1.py:53: DeprecationWarning: This function is deprecated. Please call randint(0, 1 + 1) instead\n",
      "  for _ in range(n_resampling)):\n",
      "C:\\Program Files\\Anaconda2\\lib\\site-packages\\sklearn\\linear_model\\randomized_l1.py:53: DeprecationWarning: This function is deprecated. Please call randint(0, 1 + 1) instead\n",
      "  for _ in range(n_resampling)):\n",
      "C:\\Program Files\\Anaconda2\\lib\\site-packages\\sklearn\\linear_model\\randomized_l1.py:53: DeprecationWarning: This function is deprecated. Please call randint(0, 1 + 1) instead\n",
      "  for _ in range(n_resampling)):\n",
      "C:\\Program Files\\Anaconda2\\lib\\site-packages\\sklearn\\linear_model\\randomized_l1.py:53: DeprecationWarning: This function is deprecated. Please call randint(0, 1 + 1) instead\n",
      "  for _ in range(n_resampling)):\n",
      "C:\\Program Files\\Anaconda2\\lib\\site-packages\\sklearn\\linear_model\\randomized_l1.py:53: DeprecationWarning: This function is deprecated. Please call randint(0, 1 + 1) instead\n",
      "  for _ in range(n_resampling)):\n",
      "C:\\Program Files\\Anaconda2\\lib\\site-packages\\sklearn\\linear_model\\randomized_l1.py:53: DeprecationWarning: This function is deprecated. Please call randint(0, 1 + 1) instead\n",
      "  for _ in range(n_resampling)):\n",
      "C:\\Program Files\\Anaconda2\\lib\\site-packages\\sklearn\\linear_model\\randomized_l1.py:53: DeprecationWarning: This function is deprecated. Please call randint(0, 1 + 1) instead\n",
      "  for _ in range(n_resampling)):\n",
      "C:\\Program Files\\Anaconda2\\lib\\site-packages\\sklearn\\linear_model\\randomized_l1.py:53: DeprecationWarning: This function is deprecated. Please call randint(0, 1 + 1) instead\n",
      "  for _ in range(n_resampling)):\n",
      "C:\\Program Files\\Anaconda2\\lib\\site-packages\\sklearn\\linear_model\\randomized_l1.py:53: DeprecationWarning: This function is deprecated. Please call randint(0, 1 + 1) instead\n",
      "  for _ in range(n_resampling)):\n",
      "C:\\Program Files\\Anaconda2\\lib\\site-packages\\sklearn\\linear_model\\randomized_l1.py:53: DeprecationWarning: This function is deprecated. Please call randint(0, 1 + 1) instead\n",
      "  for _ in range(n_resampling)):\n",
      "C:\\Program Files\\Anaconda2\\lib\\site-packages\\sklearn\\linear_model\\randomized_l1.py:53: DeprecationWarning: This function is deprecated. Please call randint(0, 1 + 1) instead\n",
      "  for _ in range(n_resampling)):\n",
      "C:\\Program Files\\Anaconda2\\lib\\site-packages\\sklearn\\linear_model\\randomized_l1.py:53: DeprecationWarning: This function is deprecated. Please call randint(0, 1 + 1) instead\n",
      "  for _ in range(n_resampling)):\n",
      "C:\\Program Files\\Anaconda2\\lib\\site-packages\\sklearn\\linear_model\\randomized_l1.py:53: DeprecationWarning: This function is deprecated. Please call randint(0, 1 + 1) instead\n",
      "  for _ in range(n_resampling)):\n",
      "C:\\Program Files\\Anaconda2\\lib\\site-packages\\sklearn\\linear_model\\randomized_l1.py:53: DeprecationWarning: This function is deprecated. Please call randint(0, 1 + 1) instead\n",
      "  for _ in range(n_resampling)):\n",
      "C:\\Program Files\\Anaconda2\\lib\\site-packages\\sklearn\\linear_model\\randomized_l1.py:53: DeprecationWarning: This function is deprecated. Please call randint(0, 1 + 1) instead\n",
      "  for _ in range(n_resampling)):\n",
      "C:\\Program Files\\Anaconda2\\lib\\site-packages\\sklearn\\linear_model\\randomized_l1.py:53: DeprecationWarning: This function is deprecated. Please call randint(0, 1 + 1) instead\n",
      "  for _ in range(n_resampling)):\n",
      "C:\\Program Files\\Anaconda2\\lib\\site-packages\\sklearn\\linear_model\\randomized_l1.py:53: DeprecationWarning: This function is deprecated. Please call randint(0, 1 + 1) instead\n",
      "  for _ in range(n_resampling)):\n",
      "C:\\Program Files\\Anaconda2\\lib\\site-packages\\sklearn\\linear_model\\randomized_l1.py:53: DeprecationWarning: This function is deprecated. Please call randint(0, 1 + 1) instead\n",
      "  for _ in range(n_resampling)):\n",
      "C:\\Program Files\\Anaconda2\\lib\\site-packages\\sklearn\\linear_model\\randomized_l1.py:53: DeprecationWarning: This function is deprecated. Please call randint(0, 1 + 1) instead\n",
      "  for _ in range(n_resampling)):\n",
      "C:\\Program Files\\Anaconda2\\lib\\site-packages\\sklearn\\linear_model\\randomized_l1.py:53: DeprecationWarning: This function is deprecated. Please call randint(0, 1 + 1) instead\n",
      "  for _ in range(n_resampling)):\n",
      "C:\\Program Files\\Anaconda2\\lib\\site-packages\\sklearn\\linear_model\\randomized_l1.py:53: DeprecationWarning: This function is deprecated. Please call randint(0, 1 + 1) instead\n",
      "  for _ in range(n_resampling)):\n",
      "C:\\Program Files\\Anaconda2\\lib\\site-packages\\sklearn\\linear_model\\randomized_l1.py:53: DeprecationWarning: This function is deprecated. Please call randint(0, 1 + 1) instead\n",
      "  for _ in range(n_resampling)):\n",
      "C:\\Program Files\\Anaconda2\\lib\\site-packages\\sklearn\\linear_model\\randomized_l1.py:53: DeprecationWarning: This function is deprecated. Please call randint(0, 1 + 1) instead\n",
      "  for _ in range(n_resampling)):\n",
      "C:\\Program Files\\Anaconda2\\lib\\site-packages\\sklearn\\linear_model\\randomized_l1.py:53: DeprecationWarning: This function is deprecated. Please call randint(0, 1 + 1) instead\n",
      "  for _ in range(n_resampling)):\n",
      "C:\\Program Files\\Anaconda2\\lib\\site-packages\\sklearn\\linear_model\\randomized_l1.py:53: DeprecationWarning: This function is deprecated. Please call randint(0, 1 + 1) instead\n",
      "  for _ in range(n_resampling)):\n",
      "C:\\Program Files\\Anaconda2\\lib\\site-packages\\sklearn\\linear_model\\randomized_l1.py:53: DeprecationWarning: This function is deprecated. Please call randint(0, 1 + 1) instead\n",
      "  for _ in range(n_resampling)):\n",
      "C:\\Program Files\\Anaconda2\\lib\\site-packages\\sklearn\\linear_model\\randomized_l1.py:53: DeprecationWarning: This function is deprecated. Please call randint(0, 1 + 1) instead\n",
      "  for _ in range(n_resampling)):\n",
      "C:\\Program Files\\Anaconda2\\lib\\site-packages\\sklearn\\linear_model\\randomized_l1.py:53: DeprecationWarning: This function is deprecated. Please call randint(0, 1 + 1) instead\n",
      "  for _ in range(n_resampling)):\n",
      "C:\\Program Files\\Anaconda2\\lib\\site-packages\\sklearn\\linear_model\\randomized_l1.py:53: DeprecationWarning: This function is deprecated. Please call randint(0, 1 + 1) instead\n",
      "  for _ in range(n_resampling)):\n",
      "C:\\Program Files\\Anaconda2\\lib\\site-packages\\sklearn\\linear_model\\randomized_l1.py:53: DeprecationWarning: This function is deprecated. Please call randint(0, 1 + 1) instead\n",
      "  for _ in range(n_resampling)):\n",
      "C:\\Program Files\\Anaconda2\\lib\\site-packages\\sklearn\\linear_model\\randomized_l1.py:53: DeprecationWarning: This function is deprecated. Please call randint(0, 1 + 1) instead\n",
      "  for _ in range(n_resampling)):\n",
      "C:\\Program Files\\Anaconda2\\lib\\site-packages\\sklearn\\linear_model\\randomized_l1.py:53: DeprecationWarning: This function is deprecated. Please call randint(0, 1 + 1) instead\n",
      "  for _ in range(n_resampling)):\n",
      "C:\\Program Files\\Anaconda2\\lib\\site-packages\\sklearn\\linear_model\\randomized_l1.py:53: DeprecationWarning: This function is deprecated. Please call randint(0, 1 + 1) instead\n",
      "  for _ in range(n_resampling)):\n",
      "C:\\Program Files\\Anaconda2\\lib\\site-packages\\sklearn\\linear_model\\randomized_l1.py:53: DeprecationWarning: This function is deprecated. Please call randint(0, 1 + 1) instead\n",
      "  for _ in range(n_resampling)):\n",
      "C:\\Program Files\\Anaconda2\\lib\\site-packages\\sklearn\\linear_model\\randomized_l1.py:53: DeprecationWarning: This function is deprecated. Please call randint(0, 1 + 1) instead\n",
      "  for _ in range(n_resampling)):\n",
      "C:\\Program Files\\Anaconda2\\lib\\site-packages\\sklearn\\linear_model\\randomized_l1.py:53: DeprecationWarning: This function is deprecated. Please call randint(0, 1 + 1) instead\n",
      "  for _ in range(n_resampling)):\n",
      "C:\\Program Files\\Anaconda2\\lib\\site-packages\\sklearn\\linear_model\\randomized_l1.py:53: DeprecationWarning: This function is deprecated. Please call randint(0, 1 + 1) instead\n",
      "  for _ in range(n_resampling)):\n",
      "C:\\Program Files\\Anaconda2\\lib\\site-packages\\sklearn\\linear_model\\randomized_l1.py:53: DeprecationWarning: This function is deprecated. Please call randint(0, 1 + 1) instead\n",
      "  for _ in range(n_resampling)):\n",
      "C:\\Program Files\\Anaconda2\\lib\\site-packages\\sklearn\\linear_model\\randomized_l1.py:53: DeprecationWarning: This function is deprecated. Please call randint(0, 1 + 1) instead\n",
      "  for _ in range(n_resampling)):\n",
      "C:\\Program Files\\Anaconda2\\lib\\site-packages\\sklearn\\linear_model\\randomized_l1.py:53: DeprecationWarning: This function is deprecated. Please call randint(0, 1 + 1) instead\n",
      "  for _ in range(n_resampling)):\n",
      "C:\\Program Files\\Anaconda2\\lib\\site-packages\\sklearn\\linear_model\\randomized_l1.py:53: DeprecationWarning: This function is deprecated. Please call randint(0, 1 + 1) instead\n",
      "  for _ in range(n_resampling)):\n",
      "C:\\Program Files\\Anaconda2\\lib\\site-packages\\sklearn\\linear_model\\randomized_l1.py:53: DeprecationWarning: This function is deprecated. Please call randint(0, 1 + 1) instead\n",
      "  for _ in range(n_resampling)):\n",
      "C:\\Program Files\\Anaconda2\\lib\\site-packages\\sklearn\\linear_model\\randomized_l1.py:53: DeprecationWarning: This function is deprecated. Please call randint(0, 1 + 1) instead\n",
      "  for _ in range(n_resampling)):\n",
      "C:\\Program Files\\Anaconda2\\lib\\site-packages\\sklearn\\linear_model\\randomized_l1.py:53: DeprecationWarning: This function is deprecated. Please call randint(0, 1 + 1) instead\n",
      "  for _ in range(n_resampling)):\n",
      "C:\\Program Files\\Anaconda2\\lib\\site-packages\\sklearn\\linear_model\\randomized_l1.py:53: DeprecationWarning: This function is deprecated. Please call randint(0, 1 + 1) instead\n",
      "  for _ in range(n_resampling)):\n",
      "C:\\Program Files\\Anaconda2\\lib\\site-packages\\sklearn\\linear_model\\randomized_l1.py:53: DeprecationWarning: This function is deprecated. Please call randint(0, 1 + 1) instead\n",
      "  for _ in range(n_resampling)):\n",
      "C:\\Program Files\\Anaconda2\\lib\\site-packages\\sklearn\\linear_model\\randomized_l1.py:53: DeprecationWarning: This function is deprecated. Please call randint(0, 1 + 1) instead\n",
      "  for _ in range(n_resampling)):\n",
      "C:\\Program Files\\Anaconda2\\lib\\site-packages\\sklearn\\linear_model\\randomized_l1.py:53: DeprecationWarning: This function is deprecated. Please call randint(0, 1 + 1) instead\n",
      "  for _ in range(n_resampling)):\n",
      "C:\\Program Files\\Anaconda2\\lib\\site-packages\\sklearn\\linear_model\\randomized_l1.py:53: DeprecationWarning: This function is deprecated. Please call randint(0, 1 + 1) instead\n",
      "  for _ in range(n_resampling)):\n",
      "C:\\Program Files\\Anaconda2\\lib\\site-packages\\sklearn\\linear_model\\randomized_l1.py:53: DeprecationWarning: This function is deprecated. Please call randint(0, 1 + 1) instead\n",
      "  for _ in range(n_resampling)):\n",
      "C:\\Program Files\\Anaconda2\\lib\\site-packages\\sklearn\\linear_model\\randomized_l1.py:53: DeprecationWarning: This function is deprecated. Please call randint(0, 1 + 1) instead\n",
      "  for _ in range(n_resampling)):\n",
      "C:\\Program Files\\Anaconda2\\lib\\site-packages\\sklearn\\linear_model\\randomized_l1.py:53: DeprecationWarning: This function is deprecated. Please call randint(0, 1 + 1) instead\n",
      "  for _ in range(n_resampling)):\n",
      "C:\\Program Files\\Anaconda2\\lib\\site-packages\\sklearn\\linear_model\\randomized_l1.py:53: DeprecationWarning: This function is deprecated. Please call randint(0, 1 + 1) instead\n",
      "  for _ in range(n_resampling)):\n",
      "C:\\Program Files\\Anaconda2\\lib\\site-packages\\sklearn\\linear_model\\randomized_l1.py:53: DeprecationWarning: This function is deprecated. Please call randint(0, 1 + 1) instead\n",
      "  for _ in range(n_resampling)):\n",
      "C:\\Program Files\\Anaconda2\\lib\\site-packages\\sklearn\\linear_model\\randomized_l1.py:53: DeprecationWarning: This function is deprecated. Please call randint(0, 1 + 1) instead\n",
      "  for _ in range(n_resampling)):\n",
      "C:\\Program Files\\Anaconda2\\lib\\site-packages\\sklearn\\linear_model\\randomized_l1.py:53: DeprecationWarning: This function is deprecated. Please call randint(0, 1 + 1) instead\n",
      "  for _ in range(n_resampling)):\n",
      "C:\\Program Files\\Anaconda2\\lib\\site-packages\\sklearn\\linear_model\\randomized_l1.py:53: DeprecationWarning: This function is deprecated. Please call randint(0, 1 + 1) instead\n",
      "  for _ in range(n_resampling)):\n",
      "C:\\Program Files\\Anaconda2\\lib\\site-packages\\sklearn\\linear_model\\randomized_l1.py:53: DeprecationWarning: This function is deprecated. Please call randint(0, 1 + 1) instead\n",
      "  for _ in range(n_resampling)):\n",
      "C:\\Program Files\\Anaconda2\\lib\\site-packages\\sklearn\\linear_model\\randomized_l1.py:53: DeprecationWarning: This function is deprecated. Please call randint(0, 1 + 1) instead\n",
      "  for _ in range(n_resampling)):\n",
      "C:\\Program Files\\Anaconda2\\lib\\site-packages\\sklearn\\linear_model\\randomized_l1.py:53: DeprecationWarning: This function is deprecated. Please call randint(0, 1 + 1) instead\n",
      "  for _ in range(n_resampling)):\n",
      "C:\\Program Files\\Anaconda2\\lib\\site-packages\\sklearn\\linear_model\\randomized_l1.py:53: DeprecationWarning: This function is deprecated. Please call randint(0, 1 + 1) instead\n",
      "  for _ in range(n_resampling)):\n",
      "C:\\Program Files\\Anaconda2\\lib\\site-packages\\sklearn\\linear_model\\randomized_l1.py:53: DeprecationWarning: This function is deprecated. Please call randint(0, 1 + 1) instead\n",
      "  for _ in range(n_resampling)):\n",
      "C:\\Program Files\\Anaconda2\\lib\\site-packages\\sklearn\\linear_model\\randomized_l1.py:53: DeprecationWarning: This function is deprecated. Please call randint(0, 1 + 1) instead\n",
      "  for _ in range(n_resampling)):\n",
      "C:\\Program Files\\Anaconda2\\lib\\site-packages\\sklearn\\linear_model\\randomized_l1.py:53: DeprecationWarning: This function is deprecated. Please call randint(0, 1 + 1) instead\n",
      "  for _ in range(n_resampling)):\n",
      "C:\\Program Files\\Anaconda2\\lib\\site-packages\\sklearn\\linear_model\\randomized_l1.py:53: DeprecationWarning: This function is deprecated. Please call randint(0, 1 + 1) instead\n",
      "  for _ in range(n_resampling)):\n",
      "C:\\Program Files\\Anaconda2\\lib\\site-packages\\sklearn\\linear_model\\randomized_l1.py:53: DeprecationWarning: This function is deprecated. Please call randint(0, 1 + 1) instead\n",
      "  for _ in range(n_resampling)):\n",
      "C:\\Program Files\\Anaconda2\\lib\\site-packages\\sklearn\\linear_model\\randomized_l1.py:53: DeprecationWarning: This function is deprecated. Please call randint(0, 1 + 1) instead\n",
      "  for _ in range(n_resampling)):\n",
      "C:\\Program Files\\Anaconda2\\lib\\site-packages\\sklearn\\linear_model\\randomized_l1.py:53: DeprecationWarning: This function is deprecated. Please call randint(0, 1 + 1) instead\n",
      "  for _ in range(n_resampling)):\n",
      "C:\\Program Files\\Anaconda2\\lib\\site-packages\\sklearn\\linear_model\\randomized_l1.py:53: DeprecationWarning: This function is deprecated. Please call randint(0, 1 + 1) instead\n",
      "  for _ in range(n_resampling)):\n",
      "C:\\Program Files\\Anaconda2\\lib\\site-packages\\sklearn\\linear_model\\randomized_l1.py:53: DeprecationWarning: This function is deprecated. Please call randint(0, 1 + 1) instead\n",
      "  for _ in range(n_resampling)):\n",
      "C:\\Program Files\\Anaconda2\\lib\\site-packages\\sklearn\\linear_model\\randomized_l1.py:53: DeprecationWarning: This function is deprecated. Please call randint(0, 1 + 1) instead\n",
      "  for _ in range(n_resampling)):\n",
      "C:\\Program Files\\Anaconda2\\lib\\site-packages\\sklearn\\linear_model\\randomized_l1.py:53: DeprecationWarning: This function is deprecated. Please call randint(0, 1 + 1) instead\n",
      "  for _ in range(n_resampling)):\n",
      "C:\\Program Files\\Anaconda2\\lib\\site-packages\\sklearn\\linear_model\\randomized_l1.py:53: DeprecationWarning: This function is deprecated. Please call randint(0, 1 + 1) instead\n",
      "  for _ in range(n_resampling)):\n",
      "C:\\Program Files\\Anaconda2\\lib\\site-packages\\sklearn\\linear_model\\randomized_l1.py:53: DeprecationWarning: This function is deprecated. Please call randint(0, 1 + 1) instead\n",
      "  for _ in range(n_resampling)):\n",
      "C:\\Program Files\\Anaconda2\\lib\\site-packages\\sklearn\\linear_model\\randomized_l1.py:53: DeprecationWarning: This function is deprecated. Please call randint(0, 1 + 1) instead\n",
      "  for _ in range(n_resampling)):\n",
      "C:\\Program Files\\Anaconda2\\lib\\site-packages\\sklearn\\linear_model\\randomized_l1.py:53: DeprecationWarning: This function is deprecated. Please call randint(0, 1 + 1) instead\n",
      "  for _ in range(n_resampling)):\n",
      "C:\\Program Files\\Anaconda2\\lib\\site-packages\\sklearn\\linear_model\\randomized_l1.py:53: DeprecationWarning: This function is deprecated. Please call randint(0, 1 + 1) instead\n",
      "  for _ in range(n_resampling)):\n",
      "C:\\Program Files\\Anaconda2\\lib\\site-packages\\sklearn\\linear_model\\randomized_l1.py:53: DeprecationWarning: This function is deprecated. Please call randint(0, 1 + 1) instead\n",
      "  for _ in range(n_resampling)):\n",
      "C:\\Program Files\\Anaconda2\\lib\\site-packages\\sklearn\\linear_model\\randomized_l1.py:53: DeprecationWarning: This function is deprecated. Please call randint(0, 1 + 1) instead\n",
      "  for _ in range(n_resampling)):\n",
      "C:\\Program Files\\Anaconda2\\lib\\site-packages\\sklearn\\linear_model\\randomized_l1.py:53: DeprecationWarning: This function is deprecated. Please call randint(0, 1 + 1) instead\n",
      "  for _ in range(n_resampling)):\n",
      "C:\\Program Files\\Anaconda2\\lib\\site-packages\\sklearn\\linear_model\\randomized_l1.py:53: DeprecationWarning: This function is deprecated. Please call randint(0, 1 + 1) instead\n",
      "  for _ in range(n_resampling)):\n",
      "C:\\Program Files\\Anaconda2\\lib\\site-packages\\sklearn\\linear_model\\randomized_l1.py:53: DeprecationWarning: This function is deprecated. Please call randint(0, 1 + 1) instead\n",
      "  for _ in range(n_resampling)):\n",
      "C:\\Program Files\\Anaconda2\\lib\\site-packages\\sklearn\\linear_model\\randomized_l1.py:53: DeprecationWarning: This function is deprecated. Please call randint(0, 1 + 1) instead\n",
      "  for _ in range(n_resampling)):\n",
      "C:\\Program Files\\Anaconda2\\lib\\site-packages\\sklearn\\linear_model\\randomized_l1.py:53: DeprecationWarning: This function is deprecated. Please call randint(0, 1 + 1) instead\n",
      "  for _ in range(n_resampling)):\n",
      "C:\\Program Files\\Anaconda2\\lib\\site-packages\\sklearn\\linear_model\\randomized_l1.py:53: DeprecationWarning: This function is deprecated. Please call randint(0, 1 + 1) instead\n",
      "  for _ in range(n_resampling)):\n",
      "C:\\Program Files\\Anaconda2\\lib\\site-packages\\sklearn\\linear_model\\randomized_l1.py:53: DeprecationWarning: This function is deprecated. Please call randint(0, 1 + 1) instead\n",
      "  for _ in range(n_resampling)):\n",
      "C:\\Program Files\\Anaconda2\\lib\\site-packages\\sklearn\\linear_model\\randomized_l1.py:53: DeprecationWarning: This function is deprecated. Please call randint(0, 1 + 1) instead\n",
      "  for _ in range(n_resampling)):\n",
      "C:\\Program Files\\Anaconda2\\lib\\site-packages\\sklearn\\linear_model\\randomized_l1.py:53: DeprecationWarning: This function is deprecated. Please call randint(0, 1 + 1) instead\n",
      "  for _ in range(n_resampling)):\n",
      "C:\\Program Files\\Anaconda2\\lib\\site-packages\\sklearn\\linear_model\\randomized_l1.py:53: DeprecationWarning: This function is deprecated. Please call randint(0, 1 + 1) instead\n",
      "  for _ in range(n_resampling)):\n",
      "C:\\Program Files\\Anaconda2\\lib\\site-packages\\sklearn\\linear_model\\randomized_l1.py:53: DeprecationWarning: This function is deprecated. Please call randint(0, 1 + 1) instead\n",
      "  for _ in range(n_resampling)):\n",
      "C:\\Program Files\\Anaconda2\\lib\\site-packages\\sklearn\\linear_model\\randomized_l1.py:53: DeprecationWarning: This function is deprecated. Please call randint(0, 1 + 1) instead\n",
      "  for _ in range(n_resampling)):\n",
      "C:\\Program Files\\Anaconda2\\lib\\site-packages\\sklearn\\linear_model\\randomized_l1.py:53: DeprecationWarning: This function is deprecated. Please call randint(0, 1 + 1) instead\n",
      "  for _ in range(n_resampling)):\n",
      "C:\\Program Files\\Anaconda2\\lib\\site-packages\\sklearn\\linear_model\\randomized_l1.py:53: DeprecationWarning: This function is deprecated. Please call randint(0, 1 + 1) instead\n",
      "  for _ in range(n_resampling)):\n",
      "C:\\Program Files\\Anaconda2\\lib\\site-packages\\sklearn\\linear_model\\randomized_l1.py:53: DeprecationWarning: This function is deprecated. Please call randint(0, 1 + 1) instead\n",
      "  for _ in range(n_resampling)):\n",
      "C:\\Program Files\\Anaconda2\\lib\\site-packages\\sklearn\\linear_model\\randomized_l1.py:53: DeprecationWarning: This function is deprecated. Please call randint(0, 1 + 1) instead\n",
      "  for _ in range(n_resampling)):\n",
      "C:\\Program Files\\Anaconda2\\lib\\site-packages\\sklearn\\linear_model\\randomized_l1.py:53: DeprecationWarning: This function is deprecated. Please call randint(0, 1 + 1) instead\n",
      "  for _ in range(n_resampling)):\n",
      "C:\\Program Files\\Anaconda2\\lib\\site-packages\\sklearn\\linear_model\\randomized_l1.py:53: DeprecationWarning: This function is deprecated. Please call randint(0, 1 + 1) instead\n",
      "  for _ in range(n_resampling)):\n",
      "C:\\Program Files\\Anaconda2\\lib\\site-packages\\sklearn\\linear_model\\randomized_l1.py:53: DeprecationWarning: This function is deprecated. Please call randint(0, 1 + 1) instead\n",
      "  for _ in range(n_resampling)):\n",
      "C:\\Program Files\\Anaconda2\\lib\\site-packages\\sklearn\\linear_model\\randomized_l1.py:53: DeprecationWarning: This function is deprecated. Please call randint(0, 1 + 1) instead\n",
      "  for _ in range(n_resampling)):\n",
      "C:\\Program Files\\Anaconda2\\lib\\site-packages\\sklearn\\linear_model\\randomized_l1.py:53: DeprecationWarning: This function is deprecated. Please call randint(0, 1 + 1) instead\n",
      "  for _ in range(n_resampling)):\n",
      "C:\\Program Files\\Anaconda2\\lib\\site-packages\\sklearn\\linear_model\\randomized_l1.py:53: DeprecationWarning: This function is deprecated. Please call randint(0, 1 + 1) instead\n",
      "  for _ in range(n_resampling)):\n",
      "C:\\Program Files\\Anaconda2\\lib\\site-packages\\sklearn\\linear_model\\randomized_l1.py:53: DeprecationWarning: This function is deprecated. Please call randint(0, 1 + 1) instead\n",
      "  for _ in range(n_resampling)):\n",
      "C:\\Program Files\\Anaconda2\\lib\\site-packages\\sklearn\\linear_model\\randomized_l1.py:53: DeprecationWarning: This function is deprecated. Please call randint(0, 1 + 1) instead\n",
      "  for _ in range(n_resampling)):\n",
      "C:\\Program Files\\Anaconda2\\lib\\site-packages\\sklearn\\linear_model\\randomized_l1.py:53: DeprecationWarning: This function is deprecated. Please call randint(0, 1 + 1) instead\n",
      "  for _ in range(n_resampling)):\n",
      "C:\\Program Files\\Anaconda2\\lib\\site-packages\\sklearn\\linear_model\\randomized_l1.py:53: DeprecationWarning: This function is deprecated. Please call randint(0, 1 + 1) instead\n",
      "  for _ in range(n_resampling)):\n",
      "C:\\Program Files\\Anaconda2\\lib\\site-packages\\sklearn\\linear_model\\randomized_l1.py:53: DeprecationWarning: This function is deprecated. Please call randint(0, 1 + 1) instead\n",
      "  for _ in range(n_resampling)):\n",
      "C:\\Program Files\\Anaconda2\\lib\\site-packages\\sklearn\\linear_model\\randomized_l1.py:53: DeprecationWarning: This function is deprecated. Please call randint(0, 1 + 1) instead\n",
      "  for _ in range(n_resampling)):\n",
      "C:\\Program Files\\Anaconda2\\lib\\site-packages\\sklearn\\linear_model\\randomized_l1.py:53: DeprecationWarning: This function is deprecated. Please call randint(0, 1 + 1) instead\n",
      "  for _ in range(n_resampling)):\n",
      "C:\\Program Files\\Anaconda2\\lib\\site-packages\\sklearn\\linear_model\\randomized_l1.py:53: DeprecationWarning: This function is deprecated. Please call randint(0, 1 + 1) instead\n",
      "  for _ in range(n_resampling)):\n",
      "C:\\Program Files\\Anaconda2\\lib\\site-packages\\sklearn\\linear_model\\randomized_l1.py:53: DeprecationWarning: This function is deprecated. Please call randint(0, 1 + 1) instead\n",
      "  for _ in range(n_resampling)):\n",
      "C:\\Program Files\\Anaconda2\\lib\\site-packages\\sklearn\\linear_model\\randomized_l1.py:53: DeprecationWarning: This function is deprecated. Please call randint(0, 1 + 1) instead\n",
      "  for _ in range(n_resampling)):\n",
      "C:\\Program Files\\Anaconda2\\lib\\site-packages\\sklearn\\linear_model\\randomized_l1.py:53: DeprecationWarning: This function is deprecated. Please call randint(0, 1 + 1) instead\n",
      "  for _ in range(n_resampling)):\n",
      "C:\\Program Files\\Anaconda2\\lib\\site-packages\\sklearn\\linear_model\\randomized_l1.py:53: DeprecationWarning: This function is deprecated. Please call randint(0, 1 + 1) instead\n",
      "  for _ in range(n_resampling)):\n",
      "C:\\Program Files\\Anaconda2\\lib\\site-packages\\sklearn\\linear_model\\randomized_l1.py:53: DeprecationWarning: This function is deprecated. Please call randint(0, 1 + 1) instead\n",
      "  for _ in range(n_resampling)):\n",
      "C:\\Program Files\\Anaconda2\\lib\\site-packages\\sklearn\\linear_model\\randomized_l1.py:53: DeprecationWarning: This function is deprecated. Please call randint(0, 1 + 1) instead\n",
      "  for _ in range(n_resampling)):\n",
      "C:\\Program Files\\Anaconda2\\lib\\site-packages\\sklearn\\linear_model\\randomized_l1.py:53: DeprecationWarning: This function is deprecated. Please call randint(0, 1 + 1) instead\n",
      "  for _ in range(n_resampling)):\n",
      "C:\\Program Files\\Anaconda2\\lib\\site-packages\\sklearn\\linear_model\\randomized_l1.py:53: DeprecationWarning: This function is deprecated. Please call randint(0, 1 + 1) instead\n",
      "  for _ in range(n_resampling)):\n",
      "C:\\Program Files\\Anaconda2\\lib\\site-packages\\sklearn\\linear_model\\randomized_l1.py:53: DeprecationWarning: This function is deprecated. Please call randint(0, 1 + 1) instead\n",
      "  for _ in range(n_resampling)):\n",
      "C:\\Program Files\\Anaconda2\\lib\\site-packages\\sklearn\\linear_model\\randomized_l1.py:53: DeprecationWarning: This function is deprecated. Please call randint(0, 1 + 1) instead\n",
      "  for _ in range(n_resampling)):\n",
      "C:\\Program Files\\Anaconda2\\lib\\site-packages\\sklearn\\linear_model\\randomized_l1.py:53: DeprecationWarning: This function is deprecated. Please call randint(0, 1 + 1) instead\n",
      "  for _ in range(n_resampling)):\n",
      "C:\\Program Files\\Anaconda2\\lib\\site-packages\\sklearn\\linear_model\\randomized_l1.py:53: DeprecationWarning: This function is deprecated. Please call randint(0, 1 + 1) instead\n",
      "  for _ in range(n_resampling)):\n",
      "C:\\Program Files\\Anaconda2\\lib\\site-packages\\sklearn\\linear_model\\randomized_l1.py:53: DeprecationWarning: This function is deprecated. Please call randint(0, 1 + 1) instead\n",
      "  for _ in range(n_resampling)):\n",
      "C:\\Program Files\\Anaconda2\\lib\\site-packages\\sklearn\\linear_model\\randomized_l1.py:53: DeprecationWarning: This function is deprecated. Please call randint(0, 1 + 1) instead\n",
      "  for _ in range(n_resampling)):\n",
      "C:\\Program Files\\Anaconda2\\lib\\site-packages\\sklearn\\linear_model\\randomized_l1.py:53: DeprecationWarning: This function is deprecated. Please call randint(0, 1 + 1) instead\n",
      "  for _ in range(n_resampling)):\n",
      "C:\\Program Files\\Anaconda2\\lib\\site-packages\\sklearn\\linear_model\\randomized_l1.py:53: DeprecationWarning: This function is deprecated. Please call randint(0, 1 + 1) instead\n",
      "  for _ in range(n_resampling)):\n",
      "C:\\Program Files\\Anaconda2\\lib\\site-packages\\sklearn\\linear_model\\randomized_l1.py:53: DeprecationWarning: This function is deprecated. Please call randint(0, 1 + 1) instead\n",
      "  for _ in range(n_resampling)):\n",
      "C:\\Program Files\\Anaconda2\\lib\\site-packages\\sklearn\\linear_model\\randomized_l1.py:53: DeprecationWarning: This function is deprecated. Please call randint(0, 1 + 1) instead\n",
      "  for _ in range(n_resampling)):\n",
      "C:\\Program Files\\Anaconda2\\lib\\site-packages\\sklearn\\linear_model\\randomized_l1.py:53: DeprecationWarning: This function is deprecated. Please call randint(0, 1 + 1) instead\n",
      "  for _ in range(n_resampling)):\n",
      "C:\\Program Files\\Anaconda2\\lib\\site-packages\\sklearn\\linear_model\\randomized_l1.py:53: DeprecationWarning: This function is deprecated. Please call randint(0, 1 + 1) instead\n",
      "  for _ in range(n_resampling)):\n",
      "C:\\Program Files\\Anaconda2\\lib\\site-packages\\sklearn\\linear_model\\randomized_l1.py:53: DeprecationWarning: This function is deprecated. Please call randint(0, 1 + 1) instead\n",
      "  for _ in range(n_resampling)):\n",
      "C:\\Program Files\\Anaconda2\\lib\\site-packages\\sklearn\\linear_model\\randomized_l1.py:53: DeprecationWarning: This function is deprecated. Please call randint(0, 1 + 1) instead\n",
      "  for _ in range(n_resampling)):\n",
      "C:\\Program Files\\Anaconda2\\lib\\site-packages\\sklearn\\linear_model\\randomized_l1.py:53: DeprecationWarning: This function is deprecated. Please call randint(0, 1 + 1) instead\n",
      "  for _ in range(n_resampling)):\n",
      "C:\\Program Files\\Anaconda2\\lib\\site-packages\\sklearn\\linear_model\\randomized_l1.py:53: DeprecationWarning: This function is deprecated. Please call randint(0, 1 + 1) instead\n",
      "  for _ in range(n_resampling)):\n",
      "C:\\Program Files\\Anaconda2\\lib\\site-packages\\sklearn\\linear_model\\randomized_l1.py:53: DeprecationWarning: This function is deprecated. Please call randint(0, 1 + 1) instead\n",
      "  for _ in range(n_resampling)):\n",
      "C:\\Program Files\\Anaconda2\\lib\\site-packages\\sklearn\\linear_model\\randomized_l1.py:53: DeprecationWarning: This function is deprecated. Please call randint(0, 1 + 1) instead\n",
      "  for _ in range(n_resampling)):\n",
      "C:\\Program Files\\Anaconda2\\lib\\site-packages\\sklearn\\linear_model\\randomized_l1.py:53: DeprecationWarning: This function is deprecated. Please call randint(0, 1 + 1) instead\n",
      "  for _ in range(n_resampling)):\n",
      "C:\\Program Files\\Anaconda2\\lib\\site-packages\\sklearn\\linear_model\\randomized_l1.py:53: DeprecationWarning: This function is deprecated. Please call randint(0, 1 + 1) instead\n",
      "  for _ in range(n_resampling)):\n",
      "C:\\Program Files\\Anaconda2\\lib\\site-packages\\sklearn\\linear_model\\randomized_l1.py:53: DeprecationWarning: This function is deprecated. Please call randint(0, 1 + 1) instead\n",
      "  for _ in range(n_resampling)):\n",
      "C:\\Program Files\\Anaconda2\\lib\\site-packages\\sklearn\\linear_model\\randomized_l1.py:53: DeprecationWarning: This function is deprecated. Please call randint(0, 1 + 1) instead\n",
      "  for _ in range(n_resampling)):\n",
      "C:\\Program Files\\Anaconda2\\lib\\site-packages\\sklearn\\linear_model\\randomized_l1.py:53: DeprecationWarning: This function is deprecated. Please call randint(0, 1 + 1) instead\n",
      "  for _ in range(n_resampling)):\n",
      "C:\\Program Files\\Anaconda2\\lib\\site-packages\\sklearn\\linear_model\\randomized_l1.py:53: DeprecationWarning: This function is deprecated. Please call randint(0, 1 + 1) instead\n",
      "  for _ in range(n_resampling)):\n",
      "C:\\Program Files\\Anaconda2\\lib\\site-packages\\sklearn\\linear_model\\randomized_l1.py:53: DeprecationWarning: This function is deprecated. Please call randint(0, 1 + 1) instead\n",
      "  for _ in range(n_resampling)):\n",
      "C:\\Program Files\\Anaconda2\\lib\\site-packages\\sklearn\\linear_model\\randomized_l1.py:53: DeprecationWarning: This function is deprecated. Please call randint(0, 1 + 1) instead\n",
      "  for _ in range(n_resampling)):\n",
      "C:\\Program Files\\Anaconda2\\lib\\site-packages\\sklearn\\linear_model\\randomized_l1.py:53: DeprecationWarning: This function is deprecated. Please call randint(0, 1 + 1) instead\n",
      "  for _ in range(n_resampling)):\n",
      "C:\\Program Files\\Anaconda2\\lib\\site-packages\\sklearn\\linear_model\\randomized_l1.py:53: DeprecationWarning: This function is deprecated. Please call randint(0, 1 + 1) instead\n",
      "  for _ in range(n_resampling)):\n",
      "C:\\Program Files\\Anaconda2\\lib\\site-packages\\sklearn\\linear_model\\randomized_l1.py:53: DeprecationWarning: This function is deprecated. Please call randint(0, 1 + 1) instead\n",
      "  for _ in range(n_resampling)):\n",
      "C:\\Program Files\\Anaconda2\\lib\\site-packages\\sklearn\\linear_model\\randomized_l1.py:53: DeprecationWarning: This function is deprecated. Please call randint(0, 1 + 1) instead\n",
      "  for _ in range(n_resampling)):\n",
      "C:\\Program Files\\Anaconda2\\lib\\site-packages\\sklearn\\linear_model\\randomized_l1.py:53: DeprecationWarning: This function is deprecated. Please call randint(0, 1 + 1) instead\n",
      "  for _ in range(n_resampling)):\n",
      "C:\\Program Files\\Anaconda2\\lib\\site-packages\\sklearn\\linear_model\\randomized_l1.py:53: DeprecationWarning: This function is deprecated. Please call randint(0, 1 + 1) instead\n",
      "  for _ in range(n_resampling)):\n",
      "C:\\Program Files\\Anaconda2\\lib\\site-packages\\sklearn\\linear_model\\randomized_l1.py:53: DeprecationWarning: This function is deprecated. Please call randint(0, 1 + 1) instead\n",
      "  for _ in range(n_resampling)):\n",
      "C:\\Program Files\\Anaconda2\\lib\\site-packages\\sklearn\\linear_model\\randomized_l1.py:53: DeprecationWarning: This function is deprecated. Please call randint(0, 1 + 1) instead\n",
      "  for _ in range(n_resampling)):\n",
      "C:\\Program Files\\Anaconda2\\lib\\site-packages\\sklearn\\linear_model\\randomized_l1.py:53: DeprecationWarning: This function is deprecated. Please call randint(0, 1 + 1) instead\n",
      "  for _ in range(n_resampling)):\n",
      "C:\\Program Files\\Anaconda2\\lib\\site-packages\\sklearn\\linear_model\\randomized_l1.py:53: DeprecationWarning: This function is deprecated. Please call randint(0, 1 + 1) instead\n",
      "  for _ in range(n_resampling)):\n",
      "C:\\Program Files\\Anaconda2\\lib\\site-packages\\sklearn\\linear_model\\randomized_l1.py:53: DeprecationWarning: This function is deprecated. Please call randint(0, 1 + 1) instead\n",
      "  for _ in range(n_resampling)):\n",
      "C:\\Program Files\\Anaconda2\\lib\\site-packages\\sklearn\\linear_model\\randomized_l1.py:53: DeprecationWarning: This function is deprecated. Please call randint(0, 1 + 1) instead\n",
      "  for _ in range(n_resampling)):\n",
      "C:\\Program Files\\Anaconda2\\lib\\site-packages\\sklearn\\linear_model\\randomized_l1.py:53: DeprecationWarning: This function is deprecated. Please call randint(0, 1 + 1) instead\n",
      "  for _ in range(n_resampling)):\n",
      "C:\\Program Files\\Anaconda2\\lib\\site-packages\\sklearn\\linear_model\\randomized_l1.py:53: DeprecationWarning: This function is deprecated. Please call randint(0, 1 + 1) instead\n",
      "  for _ in range(n_resampling)):\n",
      "C:\\Program Files\\Anaconda2\\lib\\site-packages\\sklearn\\linear_model\\randomized_l1.py:53: DeprecationWarning: This function is deprecated. Please call randint(0, 1 + 1) instead\n",
      "  for _ in range(n_resampling)):\n",
      "C:\\Program Files\\Anaconda2\\lib\\site-packages\\sklearn\\linear_model\\randomized_l1.py:53: DeprecationWarning: This function is deprecated. Please call randint(0, 1 + 1) instead\n",
      "  for _ in range(n_resampling)):\n",
      "C:\\Program Files\\Anaconda2\\lib\\site-packages\\sklearn\\linear_model\\randomized_l1.py:53: DeprecationWarning: This function is deprecated. Please call randint(0, 1 + 1) instead\n",
      "  for _ in range(n_resampling)):\n",
      "C:\\Program Files\\Anaconda2\\lib\\site-packages\\sklearn\\linear_model\\randomized_l1.py:53: DeprecationWarning: This function is deprecated. Please call randint(0, 1 + 1) instead\n",
      "  for _ in range(n_resampling)):\n",
      "C:\\Program Files\\Anaconda2\\lib\\site-packages\\sklearn\\linear_model\\randomized_l1.py:53: DeprecationWarning: This function is deprecated. Please call randint(0, 1 + 1) instead\n",
      "  for _ in range(n_resampling)):\n",
      "C:\\Program Files\\Anaconda2\\lib\\site-packages\\sklearn\\linear_model\\randomized_l1.py:53: DeprecationWarning: This function is deprecated. Please call randint(0, 1 + 1) instead\n",
      "  for _ in range(n_resampling)):\n",
      "C:\\Program Files\\Anaconda2\\lib\\site-packages\\sklearn\\linear_model\\randomized_l1.py:53: DeprecationWarning: This function is deprecated. Please call randint(0, 1 + 1) instead\n",
      "  for _ in range(n_resampling)):\n",
      "C:\\Program Files\\Anaconda2\\lib\\site-packages\\sklearn\\linear_model\\randomized_l1.py:53: DeprecationWarning: This function is deprecated. Please call randint(0, 1 + 1) instead\n",
      "  for _ in range(n_resampling)):\n",
      "C:\\Program Files\\Anaconda2\\lib\\site-packages\\sklearn\\linear_model\\randomized_l1.py:53: DeprecationWarning: This function is deprecated. Please call randint(0, 1 + 1) instead\n",
      "  for _ in range(n_resampling)):\n",
      "C:\\Program Files\\Anaconda2\\lib\\site-packages\\sklearn\\linear_model\\randomized_l1.py:53: DeprecationWarning: This function is deprecated. Please call randint(0, 1 + 1) instead\n",
      "  for _ in range(n_resampling)):\n",
      "C:\\Program Files\\Anaconda2\\lib\\site-packages\\sklearn\\linear_model\\randomized_l1.py:53: DeprecationWarning: This function is deprecated. Please call randint(0, 1 + 1) instead\n",
      "  for _ in range(n_resampling)):\n",
      "C:\\Program Files\\Anaconda2\\lib\\site-packages\\sklearn\\linear_model\\randomized_l1.py:53: DeprecationWarning: This function is deprecated. Please call randint(0, 1 + 1) instead\n",
      "  for _ in range(n_resampling)):\n",
      "C:\\Program Files\\Anaconda2\\lib\\site-packages\\sklearn\\linear_model\\randomized_l1.py:53: DeprecationWarning: This function is deprecated. Please call randint(0, 1 + 1) instead\n",
      "  for _ in range(n_resampling)):\n",
      "C:\\Program Files\\Anaconda2\\lib\\site-packages\\sklearn\\linear_model\\randomized_l1.py:53: DeprecationWarning: This function is deprecated. Please call randint(0, 1 + 1) instead\n",
      "  for _ in range(n_resampling)):\n",
      "C:\\Program Files\\Anaconda2\\lib\\site-packages\\sklearn\\linear_model\\randomized_l1.py:53: DeprecationWarning: This function is deprecated. Please call randint(0, 1 + 1) instead\n",
      "  for _ in range(n_resampling)):\n",
      "C:\\Program Files\\Anaconda2\\lib\\site-packages\\sklearn\\linear_model\\randomized_l1.py:53: DeprecationWarning: This function is deprecated. Please call randint(0, 1 + 1) instead\n",
      "  for _ in range(n_resampling)):\n",
      "C:\\Program Files\\Anaconda2\\lib\\site-packages\\sklearn\\linear_model\\randomized_l1.py:53: DeprecationWarning: This function is deprecated. Please call randint(0, 1 + 1) instead\n",
      "  for _ in range(n_resampling)):\n",
      "C:\\Program Files\\Anaconda2\\lib\\site-packages\\sklearn\\linear_model\\randomized_l1.py:53: DeprecationWarning: This function is deprecated. Please call randint(0, 1 + 1) instead\n",
      "  for _ in range(n_resampling)):\n",
      "C:\\Program Files\\Anaconda2\\lib\\site-packages\\sklearn\\linear_model\\randomized_l1.py:53: DeprecationWarning: This function is deprecated. Please call randint(0, 1 + 1) instead\n",
      "  for _ in range(n_resampling)):\n",
      "C:\\Program Files\\Anaconda2\\lib\\site-packages\\sklearn\\linear_model\\randomized_l1.py:53: DeprecationWarning: This function is deprecated. Please call randint(0, 1 + 1) instead\n",
      "  for _ in range(n_resampling)):\n",
      "C:\\Program Files\\Anaconda2\\lib\\site-packages\\sklearn\\linear_model\\randomized_l1.py:53: DeprecationWarning: This function is deprecated. Please call randint(0, 1 + 1) instead\n",
      "  for _ in range(n_resampling)):\n",
      "C:\\Program Files\\Anaconda2\\lib\\site-packages\\sklearn\\linear_model\\randomized_l1.py:53: DeprecationWarning: This function is deprecated. Please call randint(0, 1 + 1) instead\n",
      "  for _ in range(n_resampling)):\n"
     ]
    },
    {
     "data": {
      "text/plain": [
       "RandomizedLogisticRegression(C=0.15, fit_intercept=True,\n",
       "               memory=Memory(cachedir=None), n_jobs=1, n_resampling=200,\n",
       "               normalize=True, pre_dispatch='3*n_jobs', random_state=None,\n",
       "               sample_fraction=0.75, scaling=0.5, selection_threshold=0.25,\n",
       "               tol=0.001, verbose=False)"
      ]
     },
     "execution_count": 11,
     "metadata": {},
     "output_type": "execute_result"
    }
   ],
   "source": [
    "from sklearn.linear_model import RandomizedLogisticRegression\n",
    "\n",
    "rlg = RandomizedLogisticRegression(C=0.15)\n",
    "rlg.fit(X_train, y_train)\n",
    "#careful! throws warnings"
   ]
  },
  {
   "cell_type": "markdown",
   "metadata": {
    "collapsed": true
   },
   "source": [
    "Let's see how many features selected:"
   ]
  },
  {
   "cell_type": "code",
   "execution_count": 12,
   "metadata": {
    "collapsed": false
   },
   "outputs": [
    {
     "data": {
      "text/plain": [
       "142"
      ]
     },
     "execution_count": 12,
     "metadata": {},
     "output_type": "execute_result"
    }
   ],
   "source": [
    "np.sum(rlg.scores_ > 0)"
   ]
  },
  {
   "cell_type": "markdown",
   "metadata": {},
   "source": [
    "Fitting Logistic Regression on preselected 140 features:"
   ]
  },
  {
   "cell_type": "code",
   "execution_count": 13,
   "metadata": {
    "collapsed": true
   },
   "outputs": [],
   "source": [
    "X_train_lasso = X_train[:, rlg.scores_ > 0]\n",
    "X_test_lasso = X_test[:, rlg.scores_ > 0]"
   ]
  },
  {
   "cell_type": "code",
   "execution_count": 14,
   "metadata": {
    "collapsed": false
   },
   "outputs": [
    {
     "name": "stdout",
     "output_type": "stream",
     "text": [
      "0.83456\n",
      "0.912297535073\n"
     ]
    }
   ],
   "source": [
    "clf = LogisticRegression(C=1)\n",
    "clf.fit(X_train_lasso, y_train)\n",
    "print metrics.accuracy_score(y_test, clf.predict(X_test_lasso))\n",
    "print metrics.roc_auc_score(y_test, clf.predict_proba(X_test_lasso)[:, 1])"
   ]
  },
  {
   "cell_type": "markdown",
   "metadata": {},
   "source": [
    "## Principal component analysis approach"
   ]
  },
  {
   "cell_type": "markdown",
   "metadata": {},
   "source": [
    "Let's create 100 synthetic features using PCA method:"
   ]
  },
  {
   "cell_type": "code",
   "execution_count": 15,
   "metadata": {
    "collapsed": true
   },
   "outputs": [],
   "source": [
    "from sklearn.decomposition import TruncatedSVD\n",
    "\n",
    "tsvd = TruncatedSVD(n_components=100)\n",
    "X_train_pca = tsvd.fit_transform(X_train)\n",
    "X_test_pca = tsvd.transform(X_test)"
   ]
  },
  {
   "cell_type": "markdown",
   "metadata": {},
   "source": [
    "Fitting logistic regression on them:"
   ]
  },
  {
   "cell_type": "code",
   "execution_count": 16,
   "metadata": {
    "collapsed": false
   },
   "outputs": [
    {
     "name": "stdout",
     "output_type": "stream",
     "text": [
      "0.86016\n",
      "0.934814478903\n"
     ]
    }
   ],
   "source": [
    "clf = LogisticRegression()\n",
    "clf.fit(X_train_pca, y_train)\n",
    "print metrics.accuracy_score(y_test, clf.predict(X_test_pca))\n",
    "print metrics.roc_auc_score(y_test, clf.predict_proba(X_test_pca)[:, 1])"
   ]
  },
  {
   "cell_type": "markdown",
   "metadata": {},
   "source": [
    "On 100 features we get almost the same score as on whole 66k set. \n",
    "\n",
    "What about Random Forest?"
   ]
  },
  {
   "cell_type": "code",
   "execution_count": 17,
   "metadata": {
    "collapsed": false
   },
   "outputs": [
    {
     "name": "stdout",
     "output_type": "stream",
     "text": [
      "0.8264\n",
      "0.905591691673\n"
     ]
    }
   ],
   "source": [
    "from sklearn.ensemble import RandomForestClassifier\n",
    "\n",
    "clf = RandomForestClassifier(n_estimators=100)\n",
    "clf.fit(X_train_pca, y_train)\n",
    "print metrics.accuracy_score(y_test, clf.predict(X_test_pca))\n",
    "print metrics.roc_auc_score(y_test, clf.predict_proba(X_test_pca)[:, 1])"
   ]
  },
  {
   "cell_type": "markdown",
   "metadata": {},
   "source": [
    "PCA features are optimal for linear methods, that's why logistic regression scores better then non-linear complex classifiers."
   ]
  },
  {
   "cell_type": "markdown",
   "metadata": {},
   "source": [
    "Let's create a submission"
   ]
  },
  {
   "cell_type": "code",
   "execution_count": 33,
   "metadata": {
    "collapsed": false
   },
   "outputs": [
    {
     "name": "stdout",
     "output_type": "stream",
     "text": [
      "(25000, 74849)\n"
     ]
    },
    {
     "data": {
      "text/plain": [
       "LogisticRegression(C=0.15, class_weight=None, dual=False, fit_intercept=True,\n",
       "          intercept_scaling=1, max_iter=100, multi_class='ovr', n_jobs=1,\n",
       "          penalty='l1', random_state=None, solver='liblinear', tol=0.0001,\n",
       "          verbose=0, warm_start=False)"
      ]
     },
     "execution_count": 33,
     "metadata": {},
     "output_type": "execute_result"
    }
   ],
   "source": [
    "vc = TfidfVectorizer(sublinear_tf=True, use_idf=True)\n",
    "train_all = vc.fit_transform(imdb.review.values)\n",
    "print train_all.shape\n",
    "\n",
    "clf = LogisticRegression(C=0.15, penalty='l1')\n",
    "clf.fit(train_all, imdb.sentiment.values)"
   ]
  },
  {
   "cell_type": "code",
   "execution_count": 37,
   "metadata": {
    "collapsed": false
   },
   "outputs": [],
   "source": [
    "test_data = pd.read_csv(\"testData.tsv\", header=0, delimiter=\"\\t\")\n",
    "test_all = vc.transform(test_data.review)"
   ]
  },
  {
   "cell_type": "code",
   "execution_count": 38,
   "metadata": {
    "collapsed": false
   },
   "outputs": [],
   "source": [
    "result = clf.predict(test_all)\n",
    "\n",
    "# Write the test results \n",
    "output = pd.DataFrame(data = {\"id\" : test_data[\"id\"], \"sentiment\" : result})\n",
    "output.to_csv(\"Tf-idf_LR.csv\", index=False, quoting=3)"
   ]
  },
  {
   "cell_type": "markdown",
   "metadata": {},
   "source": [
    "I get 0.82804 with this submission"
   ]
  },
  {
   "cell_type": "markdown",
   "metadata": {},
   "source": [
    "Let's feed use the tf-idf transformer on full data:"
   ]
  },
  {
   "cell_type": "code",
   "execution_count": 41,
   "metadata": {
    "collapsed": false
   },
   "outputs": [],
   "source": [
    "unlabeled_data = pd.read_csv(\"unlabeledTrainData.tsv\", header=0, delimiter=\"\\t\", quoting=3 )"
   ]
  },
  {
   "cell_type": "code",
   "execution_count": 49,
   "metadata": {
    "collapsed": false
   },
   "outputs": [
    {
     "data": {
      "text/plain": [
       "LogisticRegression(C=0.15, class_weight=None, dual=False, fit_intercept=True,\n",
       "          intercept_scaling=1, max_iter=100, multi_class='ovr', n_jobs=1,\n",
       "          penalty='l1', random_state=None, solver='liblinear', tol=0.0001,\n",
       "          verbose=0, warm_start=False)"
      ]
     },
     "execution_count": 49,
     "metadata": {},
     "output_type": "execute_result"
    }
   ],
   "source": [
    "vc = TfidfVectorizer(sublinear_tf=True, use_idf=True)\n",
    "\n",
    "vc.fit(imdb.review.values)\n",
    "vc.fit(unlabeled_data.review.str.strip('\"'))\n",
    "vc.fit(test_data.review)\n",
    "\n",
    "train_all = vc.transform(imdb.review.values)\n",
    "\n",
    "clf = LogisticRegression(C=0.15, penalty='l1')\n",
    "clf.fit(train_all, imdb.sentiment.values)"
   ]
  },
  {
   "cell_type": "code",
   "execution_count": 50,
   "metadata": {
    "collapsed": false
   },
   "outputs": [],
   "source": [
    "test_all = vc.transform(test_data.review)\n",
    "result = clf.predict(test_all)\n",
    "\n",
    "# Write the test results \n",
    "output = pd.DataFrame(data = {\"id\" : test_data[\"id\"], \"sentiment\" : result})\n",
    "output.to_csv(\"Tf-idf_LR2.csv\", index=False, quoting=3)"
   ]
  },
  {
   "cell_type": "markdown",
   "metadata": {},
   "source": [
    "0.82796. For some reason we don't get any additional profit from feeding tranformer with additional data"
   ]
  }
 ],
 "metadata": {
  "anaconda-cloud": {},
  "kernelspec": {
   "display_name": "Python [default]",
   "language": "python",
   "name": "python2"
  },
  "language_info": {
   "codemirror_mode": {
    "name": "ipython",
    "version": 2
   },
   "file_extension": ".py",
   "mimetype": "text/x-python",
   "name": "python",
   "nbconvert_exporter": "python",
   "pygments_lexer": "ipython2",
   "version": "2.7.12"
  }
 },
 "nbformat": 4,
 "nbformat_minor": 0
}
