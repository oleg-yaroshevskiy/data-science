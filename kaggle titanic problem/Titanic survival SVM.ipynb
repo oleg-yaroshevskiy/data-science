{
 "cells": [
  {
   "cell_type": "code",
   "execution_count": 32,
   "metadata": {
    "collapsed": true
   },
   "outputs": [],
   "source": [
    "import numpy as np\n",
    "import pandas as pd\n",
    "import matplotlib.pyplot as plt\n",
    "import seaborn as sns"
   ]
  },
  {
   "cell_type": "code",
   "execution_count": 33,
   "metadata": {
    "collapsed": false
   },
   "outputs": [],
   "source": [
    "train_data = pd.read_csv(\"train.csv\")\n",
    "test_data = pd.read_csv(\"test.csv\")"
   ]
  },
  {
   "cell_type": "code",
   "execution_count": 71,
   "metadata": {
    "collapsed": false
   },
   "outputs": [],
   "source": [
    "survivals = pd.read_csv(\"real_output.csv\")"
   ]
  },
  {
   "cell_type": "code",
   "execution_count": 35,
   "metadata": {
    "collapsed": false
   },
   "outputs": [
    {
     "data": {
      "text/html": [
       "<div>\n",
       "<table border=\"1\" class=\"dataframe\">\n",
       "  <thead>\n",
       "    <tr style=\"text-align: right;\">\n",
       "      <th></th>\n",
       "      <th>PassengerId</th>\n",
       "      <th>Survived</th>\n",
       "      <th>Pclass</th>\n",
       "      <th>Name</th>\n",
       "      <th>Sex</th>\n",
       "      <th>Age</th>\n",
       "      <th>SibSp</th>\n",
       "      <th>Parch</th>\n",
       "      <th>Ticket</th>\n",
       "      <th>Fare</th>\n",
       "      <th>Cabin</th>\n",
       "      <th>Embarked</th>\n",
       "    </tr>\n",
       "  </thead>\n",
       "  <tbody>\n",
       "    <tr>\n",
       "      <th>0</th>\n",
       "      <td>1</td>\n",
       "      <td>0</td>\n",
       "      <td>3</td>\n",
       "      <td>Braund, Mr. Owen Harris</td>\n",
       "      <td>male</td>\n",
       "      <td>22.0</td>\n",
       "      <td>1</td>\n",
       "      <td>0</td>\n",
       "      <td>A/5 21171</td>\n",
       "      <td>7.2500</td>\n",
       "      <td>NaN</td>\n",
       "      <td>S</td>\n",
       "    </tr>\n",
       "    <tr>\n",
       "      <th>1</th>\n",
       "      <td>2</td>\n",
       "      <td>1</td>\n",
       "      <td>1</td>\n",
       "      <td>Cumings, Mrs. John Bradley (Florence Briggs Th...</td>\n",
       "      <td>female</td>\n",
       "      <td>38.0</td>\n",
       "      <td>1</td>\n",
       "      <td>0</td>\n",
       "      <td>PC 17599</td>\n",
       "      <td>71.2833</td>\n",
       "      <td>C85</td>\n",
       "      <td>C</td>\n",
       "    </tr>\n",
       "    <tr>\n",
       "      <th>2</th>\n",
       "      <td>3</td>\n",
       "      <td>1</td>\n",
       "      <td>3</td>\n",
       "      <td>Heikkinen, Miss. Laina</td>\n",
       "      <td>female</td>\n",
       "      <td>26.0</td>\n",
       "      <td>0</td>\n",
       "      <td>0</td>\n",
       "      <td>STON/O2. 3101282</td>\n",
       "      <td>7.9250</td>\n",
       "      <td>NaN</td>\n",
       "      <td>S</td>\n",
       "    </tr>\n",
       "    <tr>\n",
       "      <th>3</th>\n",
       "      <td>4</td>\n",
       "      <td>1</td>\n",
       "      <td>1</td>\n",
       "      <td>Futrelle, Mrs. Jacques Heath (Lily May Peel)</td>\n",
       "      <td>female</td>\n",
       "      <td>35.0</td>\n",
       "      <td>1</td>\n",
       "      <td>0</td>\n",
       "      <td>113803</td>\n",
       "      <td>53.1000</td>\n",
       "      <td>C123</td>\n",
       "      <td>S</td>\n",
       "    </tr>\n",
       "    <tr>\n",
       "      <th>4</th>\n",
       "      <td>5</td>\n",
       "      <td>0</td>\n",
       "      <td>3</td>\n",
       "      <td>Allen, Mr. William Henry</td>\n",
       "      <td>male</td>\n",
       "      <td>35.0</td>\n",
       "      <td>0</td>\n",
       "      <td>0</td>\n",
       "      <td>373450</td>\n",
       "      <td>8.0500</td>\n",
       "      <td>NaN</td>\n",
       "      <td>S</td>\n",
       "    </tr>\n",
       "  </tbody>\n",
       "</table>\n",
       "</div>"
      ],
      "text/plain": [
       "   PassengerId  Survived  Pclass  \\\n",
       "0            1         0       3   \n",
       "1            2         1       1   \n",
       "2            3         1       3   \n",
       "3            4         1       1   \n",
       "4            5         0       3   \n",
       "\n",
       "                                                Name     Sex   Age  SibSp  \\\n",
       "0                            Braund, Mr. Owen Harris    male  22.0      1   \n",
       "1  Cumings, Mrs. John Bradley (Florence Briggs Th...  female  38.0      1   \n",
       "2                             Heikkinen, Miss. Laina  female  26.0      0   \n",
       "3       Futrelle, Mrs. Jacques Heath (Lily May Peel)  female  35.0      1   \n",
       "4                           Allen, Mr. William Henry    male  35.0      0   \n",
       "\n",
       "   Parch            Ticket     Fare Cabin Embarked  \n",
       "0      0         A/5 21171   7.2500   NaN        S  \n",
       "1      0          PC 17599  71.2833   C85        C  \n",
       "2      0  STON/O2. 3101282   7.9250   NaN        S  \n",
       "3      0            113803  53.1000  C123        S  \n",
       "4      0            373450   8.0500   NaN        S  "
      ]
     },
     "execution_count": 35,
     "metadata": {},
     "output_type": "execute_result"
    }
   ],
   "source": [
    "train_data.head()"
   ]
  },
  {
   "cell_type": "code",
   "execution_count": 36,
   "metadata": {
    "collapsed": true
   },
   "outputs": [],
   "source": [
    "train_data[\"Cabin\"] = train_data[\"Cabin\"].map(lambda x: 0 if (pd.isnull(x)) else 1)\n",
    "test_data[\"Cabin\"] = test_data[\"Cabin\"].map(lambda x: 0 if (pd.isnull(x)) else 1)"
   ]
  },
  {
   "cell_type": "code",
   "execution_count": 37,
   "metadata": {
    "collapsed": true
   },
   "outputs": [],
   "source": [
    "#cabin_dummies_titanic  = pd.get_dummies(train_data['Cabin'], prefix=\"Cab_\")\n",
    "#cabin_dummies_test  = pd.get_dummies(test_data['Cabin'], prefix=\"Cab_\")\n",
    "#train_data = train_data.join(cabin_dummies_titanic)\n",
    "#test_data = test_data.join(cabin_dummies_test)"
   ]
  },
  {
   "cell_type": "code",
   "execution_count": 38,
   "metadata": {
    "collapsed": false
   },
   "outputs": [
    {
     "data": {
      "text/plain": [
       "<matplotlib.axes._subplots.AxesSubplot at 0xea6eef0>"
      ]
     },
     "execution_count": 38,
     "metadata": {},
     "output_type": "execute_result"
    }
   ],
   "source": [
    "#TITLE\n",
    "\n",
    "train_data[\"Title\"] = train_data[\"Name\"].map(lambda x: x.split()[1].strip('.').strip(','))\n",
    "test_data[\"Title\"] = test_data[\"Name\"].map(lambda x: x.split()[1].strip('.').strip(','))\n",
    "sns.countplot(y='Title', data=train_data, orient=\"v\")"
   ]
  },
  {
   "cell_type": "code",
   "execution_count": 39,
   "metadata": {
    "collapsed": true
   },
   "outputs": [],
   "source": [
    "def rare_title(x):\n",
    "    if x not in [\"Mr\", \"Mrs\", \"Miss\", \"Master\"]: return \"Rare\"\n",
    "    else: return x\n",
    "        \n",
    "train_data[\"Title\"] = train_data[\"Title\"].apply(rare_title)\n",
    "test_data[\"Title\"] = test_data[\"Title\"].apply(rare_title)"
   ]
  },
  {
   "cell_type": "code",
   "execution_count": 40,
   "metadata": {
    "collapsed": true
   },
   "outputs": [],
   "source": [
    "title_dummies_titanic  = pd.get_dummies(train_data['Title'])\n",
    "title_dummies_test  = pd.get_dummies(test_data['Title'])\n",
    "\n",
    "train_data.drop(\"Title\", axis=1, inplace=True)\n",
    "train_data = train_data.join(title_dummies_titanic)\n",
    "\n",
    "test_data.drop(\"Title\", axis=1, inplace=True)\n",
    "test_data = test_data.join(title_dummies_test)"
   ]
  },
  {
   "cell_type": "code",
   "execution_count": 41,
   "metadata": {
    "collapsed": true
   },
   "outputs": [],
   "source": [
    "train_data['Age'] = train_data.groupby(['Pclass', 'Sex'])['Age'].transform(lambda x: x.replace(np.nan, x.median()))\n",
    "\n",
    "test_data['Age'] = test_data.groupby(['Pclass', 'Sex'])['Age'].transform(lambda x: x.replace(np.nan, x.median()))"
   ]
  },
  {
   "cell_type": "code",
   "execution_count": 42,
   "metadata": {
    "collapsed": false
   },
   "outputs": [
    {
     "data": {
      "text/plain": [
       "<matplotlib.axes._subplots.AxesSubplot at 0x105676d8>"
      ]
     },
     "execution_count": 42,
     "metadata": {},
     "output_type": "execute_result"
    }
   ],
   "source": [
    "#CLASS\n",
    "\n",
    "fig, (axis1,axis2,axis3) = plt.subplots(1,3,figsize=(9,3))\n",
    "sns.countplot(x='Pclass', data=train_data, ax=axis1)\n",
    "sns.countplot(x='Survived', hue=\"Pclass\", data=train_data, order=[1,0], ax=axis2)\n",
    "\n",
    "pclass_perc = train_data[[\"Pclass\", \"Survived\"]].groupby(['Pclass'],as_index=False).mean()\n",
    "sns.barplot(x='Pclass', y='Survived', data=pclass_perc, order=[1,2,3],ax=axis3)"
   ]
  },
  {
   "cell_type": "code",
   "execution_count": 43,
   "metadata": {
    "collapsed": true
   },
   "outputs": [],
   "source": [
    "survived_dummies_titanic  = pd.get_dummies(train_data['Pclass'])\n",
    "survived_dummies_titanic.columns = ['Class_1','Class_2','Class_3']\n",
    "\n",
    "survived_dummies_test  = pd.get_dummies(test_data['Pclass'])\n",
    "survived_dummies_test.columns = ['Class_1','Class_2','Class_3']\n",
    "\n",
    "train_data.drop(\"Pclass\", axis=1, inplace=True)\n",
    "train_data = train_data.join(survived_dummies_titanic)\n",
    "\n",
    "test_data.drop(\"Pclass\", axis=1, inplace=True)\n",
    "test_data = test_data.join(survived_dummies_test)"
   ]
  },
  {
   "cell_type": "code",
   "execution_count": 44,
   "metadata": {
    "collapsed": true
   },
   "outputs": [],
   "source": [
    "#SEX\n",
    "\n",
    "sex_dummies_titanic  = pd.get_dummies(train_data['Sex'])\n",
    "sex_dummies_titanic.columns = ['Male','Female']\n",
    "\n",
    "sex_dummies_test  = pd.get_dummies(test_data['Sex'])\n",
    "sex_dummies_test.columns = ['Male','Female']\n",
    "\n",
    "train_data.drop(\"Sex\", axis=1, inplace=True)\n",
    "train_data = train_data.join(sex_dummies_titanic)\n",
    "\n",
    "test_data.drop(\"Sex\", axis=1, inplace=True)\n",
    "test_data = test_data.join(sex_dummies_test)"
   ]
  },
  {
   "cell_type": "code",
   "execution_count": 45,
   "metadata": {
    "collapsed": false
   },
   "outputs": [
    {
     "data": {
      "text/plain": [
       "<matplotlib.axes._subplots.AxesSubplot at 0x10c81c18>"
      ]
     },
     "execution_count": 45,
     "metadata": {},
     "output_type": "execute_result"
    }
   ],
   "source": [
    "#EMBARKED\n",
    "\n",
    "fig, (axis1,axis2,axis3) = plt.subplots(1,3,figsize=(9,3))\n",
    "sns.countplot(x='Embarked', data=train_data, ax=axis1)\n",
    "sns.countplot(x='Survived', hue=\"Embarked\", data=train_data, order=[1,0], ax=axis2)\n",
    "\n",
    "pclass_perc = train_data[[\"Embarked\", \"Survived\"]].groupby(['Embarked'],as_index=False).mean()\n",
    "sns.barplot(x='Embarked', y='Survived', data=pclass_perc, order=['S', 'C', 'Q'],ax=axis3)"
   ]
  },
  {
   "cell_type": "code",
   "execution_count": 46,
   "metadata": {
    "collapsed": true
   },
   "outputs": [],
   "source": [
    "#train_data[\"Embarked\"] = train_data[\"Embarked\"].fillna(\"S\")\n",
    "#\n",
    "#embarked_dummies_titanic  = pd.get_dummies(train_data['Embarked'])\n",
    "#embarked_dummies_titanic.columns = ['S','C','Q']\n",
    "#\n",
    "#embarked_dummies_test  = pd.get_dummies(test_data['Embarked'])\n",
    "#embarked_dummies_test.columns = ['S','C','Q']\n",
    "#\n",
    "train_data.drop(\"Embarked\", axis=1, inplace=True)\n",
    "#train_data = train_data.join(embarked_dummies_titanic)\n",
    "#\n",
    "test_data.drop(\"Embarked\", axis=1, inplace=True)\n",
    "#test_data = test_data.join(embarked_dummies_test)"
   ]
  },
  {
   "cell_type": "code",
   "execution_count": 47,
   "metadata": {
    "collapsed": false
   },
   "outputs": [],
   "source": [
    "#plt.scatter(train_data['Survived'], train_data['Fare'])\n",
    "sns.boxplot(x=\"Fare\", y=\"Survived\", data=train_data, orient=\"h\");\n",
    "\n",
    "test_data[\"Fare\"].fillna(test_data[\"Fare\"].median(), inplace=True)"
   ]
  },
  {
   "cell_type": "code",
   "execution_count": 48,
   "metadata": {
    "collapsed": false
   },
   "outputs": [],
   "source": [
    "#FAMILY\n",
    "train_data[\"Family\"] = train_data[\"SibSp\"] + train_data[\"Parch\"]\n",
    "train_data[\"Family\"]\n",
    "sns.countplot(x='Family', hue=\"Survived\", data=train_data)\n",
    "\n",
    "train_data[\"Single\"] = (train_data[\"Family\"] == 0).astype(int)\n",
    "train_data[\"SmallFamily\"] = ((train_data[\"Family\"] > 0) & (train_data[\"Family\"] < 4)).astype(int)\n",
    "train_data[\"BigFamily\"] = (train_data[\"Family\"] > 3).astype(int)"
   ]
  },
  {
   "cell_type": "code",
   "execution_count": 49,
   "metadata": {
    "collapsed": true
   },
   "outputs": [],
   "source": [
    "test_data[\"Family\"] = test_data[\"SibSp\"] + test_data[\"Parch\"]\n",
    "test_data[\"Family\"]\n",
    "\n",
    "test_data[\"Single\"] = (test_data[\"Family\"] == 0).astype(int)\n",
    "test_data[\"SmallFamily\"] = ((test_data[\"Family\"] > 0) & (test_data[\"Family\"] < 4)).astype(int)\n",
    "test_data[\"BigFamily\"] = (test_data[\"Family\"] > 3).astype(int)"
   ]
  },
  {
   "cell_type": "code",
   "execution_count": 50,
   "metadata": {
    "collapsed": true
   },
   "outputs": [],
   "source": [
    "train_data = train_data.drop([\"PassengerId\", \"Name\", \"Ticket\", \"Family\", \"Parch\", \"SibSp\"], axis=1)\n",
    "test_data = test_data.drop([\"Name\", \"Ticket\", \"Family\", \"Parch\", \"SibSp\"], axis=1)"
   ]
  },
  {
   "cell_type": "code",
   "execution_count": 51,
   "metadata": {
    "collapsed": true
   },
   "outputs": [],
   "source": [
    "X_train = train_data.drop(\"Survived\", axis=1)\n",
    "Y_train = train_data[\"Survived\"]\n",
    "X_test  = test_data.drop(\"PassengerId\", axis=1)"
   ]
  },
  {
   "cell_type": "code",
   "execution_count": 52,
   "metadata": {
    "collapsed": true
   },
   "outputs": [],
   "source": [
    "X_train[\"Age\"] = (X_train[\"Age\"] - X_train[\"Age\"].mean())/X_train[\"Age\"].std()\n",
    "X_train[\"Fare\"] = (X_train[\"Fare\"] - X_train[\"Fare\"].mean())/X_train[\"Fare\"].std()\n",
    "\n",
    "X_test[\"Age\"] = (X_test[\"Age\"] - X_test[\"Age\"].mean())/X_test[\"Age\"].std()\n",
    "X_test[\"Fare\"] = (X_test[\"Fare\"] - X_test[\"Fare\"].mean())/X_test[\"Fare\"].std()"
   ]
  },
  {
   "cell_type": "code",
   "execution_count": 53,
   "metadata": {
    "collapsed": false
   },
   "outputs": [
    {
     "data": {
      "text/html": [
       "<div>\n",
       "<table border=\"1\" class=\"dataframe\">\n",
       "  <thead>\n",
       "    <tr style=\"text-align: right;\">\n",
       "      <th></th>\n",
       "      <th>Age</th>\n",
       "      <th>Fare</th>\n",
       "      <th>Cabin</th>\n",
       "      <th>Master</th>\n",
       "      <th>Miss</th>\n",
       "      <th>Mr</th>\n",
       "      <th>Mrs</th>\n",
       "      <th>Rare</th>\n",
       "      <th>Class_1</th>\n",
       "      <th>Class_2</th>\n",
       "      <th>Class_3</th>\n",
       "      <th>Male</th>\n",
       "      <th>Female</th>\n",
       "      <th>Single</th>\n",
       "      <th>SmallFamily</th>\n",
       "      <th>BigFamily</th>\n",
       "    </tr>\n",
       "  </thead>\n",
       "  <tbody>\n",
       "    <tr>\n",
       "      <th>0</th>\n",
       "      <td>-0.534591</td>\n",
       "      <td>-0.502163</td>\n",
       "      <td>0</td>\n",
       "      <td>0.0</td>\n",
       "      <td>0.0</td>\n",
       "      <td>1.0</td>\n",
       "      <td>0.0</td>\n",
       "      <td>0.0</td>\n",
       "      <td>0.0</td>\n",
       "      <td>0.0</td>\n",
       "      <td>1.0</td>\n",
       "      <td>0.0</td>\n",
       "      <td>1.0</td>\n",
       "      <td>0</td>\n",
       "      <td>1</td>\n",
       "      <td>0</td>\n",
       "    </tr>\n",
       "    <tr>\n",
       "      <th>1</th>\n",
       "      <td>0.668017</td>\n",
       "      <td>0.786404</td>\n",
       "      <td>1</td>\n",
       "      <td>0.0</td>\n",
       "      <td>0.0</td>\n",
       "      <td>0.0</td>\n",
       "      <td>1.0</td>\n",
       "      <td>0.0</td>\n",
       "      <td>1.0</td>\n",
       "      <td>0.0</td>\n",
       "      <td>0.0</td>\n",
       "      <td>1.0</td>\n",
       "      <td>0.0</td>\n",
       "      <td>0</td>\n",
       "      <td>1</td>\n",
       "      <td>0</td>\n",
       "    </tr>\n",
       "    <tr>\n",
       "      <th>2</th>\n",
       "      <td>-0.233939</td>\n",
       "      <td>-0.488580</td>\n",
       "      <td>0</td>\n",
       "      <td>0.0</td>\n",
       "      <td>1.0</td>\n",
       "      <td>0.0</td>\n",
       "      <td>0.0</td>\n",
       "      <td>0.0</td>\n",
       "      <td>0.0</td>\n",
       "      <td>0.0</td>\n",
       "      <td>1.0</td>\n",
       "      <td>1.0</td>\n",
       "      <td>0.0</td>\n",
       "      <td>1</td>\n",
       "      <td>0</td>\n",
       "      <td>0</td>\n",
       "    </tr>\n",
       "    <tr>\n",
       "      <th>3</th>\n",
       "      <td>0.442528</td>\n",
       "      <td>0.420494</td>\n",
       "      <td>1</td>\n",
       "      <td>0.0</td>\n",
       "      <td>0.0</td>\n",
       "      <td>0.0</td>\n",
       "      <td>1.0</td>\n",
       "      <td>0.0</td>\n",
       "      <td>1.0</td>\n",
       "      <td>0.0</td>\n",
       "      <td>0.0</td>\n",
       "      <td>1.0</td>\n",
       "      <td>0.0</td>\n",
       "      <td>0</td>\n",
       "      <td>1</td>\n",
       "      <td>0</td>\n",
       "    </tr>\n",
       "    <tr>\n",
       "      <th>4</th>\n",
       "      <td>0.442528</td>\n",
       "      <td>-0.486064</td>\n",
       "      <td>0</td>\n",
       "      <td>0.0</td>\n",
       "      <td>0.0</td>\n",
       "      <td>1.0</td>\n",
       "      <td>0.0</td>\n",
       "      <td>0.0</td>\n",
       "      <td>0.0</td>\n",
       "      <td>0.0</td>\n",
       "      <td>1.0</td>\n",
       "      <td>0.0</td>\n",
       "      <td>1.0</td>\n",
       "      <td>1</td>\n",
       "      <td>0</td>\n",
       "      <td>0</td>\n",
       "    </tr>\n",
       "  </tbody>\n",
       "</table>\n",
       "</div>"
      ],
      "text/plain": [
       "        Age      Fare  Cabin  Master  Miss   Mr  Mrs  Rare  Class_1  Class_2  \\\n",
       "0 -0.534591 -0.502163      0     0.0   0.0  1.0  0.0   0.0      0.0      0.0   \n",
       "1  0.668017  0.786404      1     0.0   0.0  0.0  1.0   0.0      1.0      0.0   \n",
       "2 -0.233939 -0.488580      0     0.0   1.0  0.0  0.0   0.0      0.0      0.0   \n",
       "3  0.442528  0.420494      1     0.0   0.0  0.0  1.0   0.0      1.0      0.0   \n",
       "4  0.442528 -0.486064      0     0.0   0.0  1.0  0.0   0.0      0.0      0.0   \n",
       "\n",
       "   Class_3  Male  Female  Single  SmallFamily  BigFamily  \n",
       "0      1.0   0.0     1.0       0            1          0  \n",
       "1      0.0   1.0     0.0       0            1          0  \n",
       "2      1.0   1.0     0.0       1            0          0  \n",
       "3      0.0   1.0     0.0       0            1          0  \n",
       "4      1.0   0.0     1.0       1            0          0  "
      ]
     },
     "execution_count": 53,
     "metadata": {},
     "output_type": "execute_result"
    }
   ],
   "source": [
    "X_train.head()"
   ]
  },
  {
   "cell_type": "code",
   "execution_count": 54,
   "metadata": {
    "collapsed": false
   },
   "outputs": [
    {
     "data": {
      "image/png": "[encoded data removed]",
      "text/plain": [
       "<matplotlib.figure.Figure at 0x10538198>"
      ]
     },
     "metadata": {},
     "output_type": "display_data"
    },
    {
     "data": {
      "image/png": "[encoded data removed]",
      "text/plain": [
       "<matplotlib.figure.Figure at 0x1055d2e8>"
      ]
     },
     "metadata": {},
     "output_type": "display_data"
    },
    {
     "data": {
      "image/png": "[encoded data removed]",
      "text/plain": [
       "<matplotlib.figure.Figure at 0x10a8db00>"
      ]
     },
     "metadata": {},
     "output_type": "display_data"
    }
   ],
   "source": [
    "from sklearn.feature_selection import SelectKBest, f_classif\n",
    "selector = SelectKBest(f_classif, k=5)\n",
    "selector.fit(X_train, Y_train)\n",
    "\n",
    "scores = -np.log10(selector.pvalues_)\n",
    "\n",
    "plt.bar(range(len(X_train.columns)), scores)\n",
    "plt.xticks(range(len(X_train.columns)), X_train.columns, rotation='vertical')\n",
    "plt.show()"
   ]
  },
  {
   "cell_type": "code",
   "execution_count": 129,
   "metadata": {
    "collapsed": false
   },
   "outputs": [
    {
     "data": {
      "text/plain": [
       "0.78229665071770338"
      ]
     },
     "execution_count": 129,
     "metadata": {},
     "output_type": "execute_result"
    }
   ],
   "source": [
    "import math\n",
    "from sklearn.ensemble import RandomForestClassifier, GradientBoostingClassifier\n",
    "from sklearn.svm import SVC\n",
    "from sklearn.linear_model import Lasso, Ridge\n",
    "from sklearn.linear_model import LogisticRegression\n",
    "from sklearn.grid_search import GridSearchCV\n",
    "from sklearn.metrics import roc_auc_score, accuracy_score\n",
    "\n",
    "#estimator = LogisticRegression(C=1.0)\n",
    "estimator = RandomForestClassifier(n_estimators=140, max_features=2, max_depth=4)\n",
    "\n",
    "#gscv =  GridSearchCV(estimator, param_grid = params, cv = 10)\n",
    "estimator.fit(X_train, Y_train)\n",
    "\n",
    "predictions = estimator.predict(X_test)\n",
    "\n",
    "accuracy_score(survivals[\"survived\"], predictions)\n",
    "\n",
    "#estimator = LogisticRegression(C=1.0)\n",
    "#optimizer = GridSearchCV(estimator, param_grid = {'C': [0.01, 0.05, 0.1, 0.5, 1, 5, 10, 20, 30]}, cv = 3)\n",
    "#estimator.fit(X_train, Y_train)\n",
    "\n",
    "#Y_pred = estimator.predict(X_test)\n",
    "#estimator.score(X_train, Y_train)"
   ]
  },
  {
   "cell_type": "code",
   "execution_count": 57,
   "metadata": {
    "collapsed": true
   },
   "outputs": [],
   "source": [
    "submission = pd.DataFrame({\n",
    "        \"PassengerId\": test_data[\"PassengerId\"],\n",
    "        \"Survived\": predictions\n",
    "    })\n",
    "submission.to_csv('output.csv', index=False)"
   ]
  },
  {
   "cell_type": "code",
   "execution_count": null,
   "metadata": {
    "collapsed": true
   },
   "outputs": [],
   "source": []
  }
 ],
 "metadata": {
  "anaconda-cloud": {},
  "kernelspec": {
   "display_name": "Python [default]",
   "language": "python",
   "name": "python2"
  },
  "language_info": {
   "codemirror_mode": {
    "name": "ipython",
    "version": 2
   },
   "file_extension": ".py",
   "mimetype": "text/x-python",
   "name": "python",
   "nbconvert_exporter": "python",
   "pygments_lexer": "ipython2",
   "version": "2.7.12"
  }
 },
 "nbformat": 4,
 "nbformat_minor": 0
}
