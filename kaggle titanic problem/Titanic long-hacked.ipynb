{
 "cells": [
  {
   "cell_type": "code",
   "execution_count": 1,
   "metadata": {
    "collapsed": true
   },
   "outputs": [],
   "source": [
    "import numpy as np\n",
    "import pandas as pd\n",
    "import matplotlib.pyplot as plt\n",
    "import seaborn as sns\n",
    "import re\n",
    "from sklearn import cross_validation, linear_model, metrics, pipeline, preprocessing\n",
    "import math\n",
    "from sklearn.ensemble import RandomForestClassifier, GradientBoostingClassifier\n",
    "from sklearn.svm import SVC\n",
    "from sklearn.grid_search import GridSearchCV"
   ]
  },
  {
   "cell_type": "code",
   "execution_count": 2,
   "metadata": {
    "collapsed": true
   },
   "outputs": [],
   "source": [
    "train_data = pd.read_csv(\"train.csv\")\n",
    "test_data = pd.read_csv(\"test.csv\")\n",
    "survivals = pd.read_csv(\"real_output.csv\")"
   ]
  },
  {
   "cell_type": "markdown",
   "metadata": {},
   "source": [
    "**Data analysis**"
   ]
  },
  {
   "cell_type": "code",
   "execution_count": 3,
   "metadata": {
    "collapsed": false
   },
   "outputs": [
    {
     "data": {
      "text/html": [
       "<div>\n",
       "<table border=\"1\" class=\"dataframe\">\n",
       "  <thead>\n",
       "    <tr style=\"text-align: right;\">\n",
       "      <th></th>\n",
       "      <th>PassengerId</th>\n",
       "      <th>Survived</th>\n",
       "      <th>Pclass</th>\n",
       "      <th>Name</th>\n",
       "      <th>Sex</th>\n",
       "      <th>Age</th>\n",
       "      <th>SibSp</th>\n",
       "      <th>Parch</th>\n",
       "      <th>Ticket</th>\n",
       "      <th>Fare</th>\n",
       "      <th>Cabin</th>\n",
       "      <th>Embarked</th>\n",
       "    </tr>\n",
       "  </thead>\n",
       "  <tbody>\n",
       "    <tr>\n",
       "      <th>0</th>\n",
       "      <td>1</td>\n",
       "      <td>0</td>\n",
       "      <td>3</td>\n",
       "      <td>Braund, Mr. Owen Harris</td>\n",
       "      <td>male</td>\n",
       "      <td>22.0</td>\n",
       "      <td>1</td>\n",
       "      <td>0</td>\n",
       "      <td>A/5 21171</td>\n",
       "      <td>7.2500</td>\n",
       "      <td>NaN</td>\n",
       "      <td>S</td>\n",
       "    </tr>\n",
       "    <tr>\n",
       "      <th>1</th>\n",
       "      <td>2</td>\n",
       "      <td>1</td>\n",
       "      <td>1</td>\n",
       "      <td>Cumings, Mrs. John Bradley (Florence Briggs Th...</td>\n",
       "      <td>female</td>\n",
       "      <td>38.0</td>\n",
       "      <td>1</td>\n",
       "      <td>0</td>\n",
       "      <td>PC 17599</td>\n",
       "      <td>71.2833</td>\n",
       "      <td>C85</td>\n",
       "      <td>C</td>\n",
       "    </tr>\n",
       "  </tbody>\n",
       "</table>\n",
       "</div>"
      ],
      "text/plain": [
       "   PassengerId  Survived  Pclass  \\\n",
       "0            1         0       3   \n",
       "1            2         1       1   \n",
       "\n",
       "                                                Name     Sex   Age  SibSp  \\\n",
       "0                            Braund, Mr. Owen Harris    male  22.0      1   \n",
       "1  Cumings, Mrs. John Bradley (Florence Briggs Th...  female  38.0      1   \n",
       "\n",
       "   Parch     Ticket     Fare Cabin Embarked  \n",
       "0      0  A/5 21171   7.2500   NaN        S  \n",
       "1      0   PC 17599  71.2833   C85        C  "
      ]
     },
     "execution_count": 3,
     "metadata": {},
     "output_type": "execute_result"
    }
   ],
   "source": [
    "train_data.head(2)"
   ]
  },
  {
   "cell_type": "code",
   "execution_count": 4,
   "metadata": {
    "collapsed": false
   },
   "outputs": [
    {
     "name": "stdout",
     "output_type": "stream",
     "text": [
      "<class 'pandas.core.frame.DataFrame'>\n",
      "RangeIndex: 891 entries, 0 to 890\n",
      "Data columns (total 12 columns):\n",
      "PassengerId    891 non-null int64\n",
      "Survived       891 non-null int64\n",
      "Pclass         891 non-null int64\n",
      "Name           891 non-null object\n",
      "Sex            891 non-null object\n",
      "Age            714 non-null float64\n",
      "SibSp          891 non-null int64\n",
      "Parch          891 non-null int64\n",
      "Ticket         891 non-null object\n",
      "Fare           891 non-null float64\n",
      "Cabin          204 non-null object\n",
      "Embarked       889 non-null object\n",
      "dtypes: float64(2), int64(5), object(5)\n",
      "memory usage: 83.6+ KB\n"
     ]
    }
   ],
   "source": [
    "#let's check if we have missing data\n",
    "train_data.info()"
   ]
  },
  {
   "cell_type": "code",
   "execution_count": 5,
   "metadata": {
    "collapsed": false
   },
   "outputs": [
    {
     "data": {
      "text/plain": [
       "<matplotlib.axes._subplots.AxesSubplot at 0xd092b00>"
      ]
     },
     "execution_count": 5,
     "metadata": {},
     "output_type": "execute_result"
    }
   ],
   "source": [
    "#let's take a look at data distributions\n",
    "fig, axes = plt.subplots(3, 3, figsize=(9, 10))\n",
    "\n",
    "sns.countplot(x='Survived', data=train_data, ax=axes[0,0])\n",
    "sns.countplot(x='Pclass', data=train_data, ax=axes[0,1])\n",
    "sns.countplot(x='Sex', data=train_data, ax=axes[0,2])\n",
    "train_data[[\"Age\", \"SibSp\", \"Parch\"]].hist(ax=axes[1,:])\n",
    "train_data[[\"Fare\"]].hist(ax=axes[2,0])\n",
    "sns.countplot(x='Embarked', data=train_data, ax=axes[2,1])"
   ]
  },
  {
   "cell_type": "code",
   "execution_count": 6,
   "metadata": {
    "collapsed": false
   },
   "outputs": [
    {
     "data": {
      "text/plain": [
       "<matplotlib.axes._subplots.AxesSubplot at 0xe0edb70>"
      ]
     },
     "execution_count": 6,
     "metadata": {},
     "output_type": "execute_result"
    }
   ],
   "source": [
    "#from first chart we can see that females had higher chances to survive\n",
    "#also we see that higher cabin class seems to give higher chance to survive too\n",
    "fig, (axis1,axis2) = plt.subplots(1,2,figsize=(9,4))\n",
    "sns.countplot(x='Survived', hue=\"Sex\", data=train_data, ax=axis1)\n",
    "sns.countplot(x='Survived', hue=\"Pclass\", data=train_data, ax=axis2)"
   ]
  },
  {
   "cell_type": "code",
   "execution_count": 7,
   "metadata": {
    "collapsed": true
   },
   "outputs": [],
   "source": [
    "select = train_data[[\"Survived\", \"Pclass\", \"Age\", \"SibSp\", \"Parch\", \"Fare\"]]\n",
    "\n",
    "sex_mapping = {'female' : 0, 'male' : 1}\n",
    "embarked_mapping = {'S' : 0, 'Q' : 1, 'C' : 2}\n",
    "\n",
    "select = select.assign(Sex=[sex_mapping[item] for item in train_data[\"Sex\"]])\n",
    "select = select.assign(Embarked=[embarked_mapping[item] for item in train_data[\"Embarked\"].fillna('S')])"
   ]
  },
  {
   "cell_type": "code",
   "execution_count": 8,
   "metadata": {
    "collapsed": false
   },
   "outputs": [
    {
     "data": {
      "text/plain": [
       "<matplotlib.axes._subplots.AxesSubplot at 0xe0edb70>"
      ]
     },
     "execution_count": 8,
     "metadata": {},
     "output_type": "execute_result"
    }
   ],
   "source": [
    "#what we see here are 1) already mentioned correlation between Sex/Survived and Class/Survived \n",
    "#2) Fare/Class as expected 3) Age/Class (probably more aged people can afford to buy more expensive ones)\n",
    "sns.heatmap(select.corr().abs(), square=True, annot=True, cmap=\"OrRd\")"
   ]
  },
  {
   "cell_type": "markdown",
   "metadata": {},
   "source": [
    "**Missing data**"
   ]
  },
  {
   "cell_type": "code",
   "execution_count": 9,
   "metadata": {
    "collapsed": true
   },
   "outputs": [],
   "source": [
    "#There are only 2 missing point in Embarked column which could be filled with S \n",
    "train_data[\"Embarked\"] = train_data[\"Embarked\"].fillna('S')"
   ]
  },
  {
   "cell_type": "code",
   "execution_count": 10,
   "metadata": {
    "collapsed": false
   },
   "outputs": [
    {
     "name": "stderr",
     "output_type": "stream",
     "text": [
      "C:\\Program Files\\Anaconda2\\lib\\site-packages\\numpy\\lib\\function_base.py:3834: RuntimeWarning: Invalid value encountered in percentile\n",
      "  RuntimeWarning)\n"
     ]
    },
    {
     "data": {
      "text/plain": [
       "count    714.000000\n",
       "mean      29.699118\n",
       "std       14.526497\n",
       "min        0.420000\n",
       "25%             NaN\n",
       "50%             NaN\n",
       "75%             NaN\n",
       "max       80.000000\n",
       "Name: Age, dtype: float64"
      ]
     },
     "execution_count": 10,
     "metadata": {},
     "output_type": "execute_result"
    }
   ],
   "source": [
    "#There are almost 20% NA data points in Age so things might be little more complicated\n",
    "train_data[\"Age\"].describe()\n",
    "#We can fill them with mean according to Sex but let's try out another approach"
   ]
  },
  {
   "cell_type": "code",
   "execution_count": 11,
   "metadata": {
    "collapsed": true
   },
   "outputs": [],
   "source": [
    "sns.boxplot(x=\"Pclass\", y=\"Age\", data=train_data);\n",
    "# According to this chart we might fill NA ages with means according to passenger cabin class\n",
    "# what would be better then previous  "
   ]
  },
  {
   "cell_type": "code",
   "execution_count": 12,
   "metadata": {
    "collapsed": false
   },
   "outputs": [
    {
     "data": {
      "text/plain": [
       "<matplotlib.axes._subplots.AxesSubplot at 0xe0edb70>"
      ]
     },
     "execution_count": 12,
     "metadata": {},
     "output_type": "execute_result"
    }
   ],
   "source": [
    "# But let's try another approach and look at Name column. We can get passenger's Title from it:\n",
    "train_data[\"Title\"] = train_data[\"Name\"].map(lambda x: re.search(' ([A-Za-z]+)\\.', x).group(1))\n",
    "sns.countplot(y='Title', data=train_data, orient=\"v\")"
   ]
  },
  {
   "cell_type": "code",
   "execution_count": 13,
   "metadata": {
    "collapsed": false
   },
   "outputs": [
    {
     "data": {
      "text/plain": [
       "Mr        119\n",
       "Miss       36\n",
       "Mrs        17\n",
       "Master      4\n",
       "Dr          1\n",
       "Name: Title, dtype: int64"
      ]
     },
     "execution_count": 13,
     "metadata": {},
     "output_type": "execute_result"
    }
   ],
   "source": [
    "#now let's take a look who have a missing age by Title value\n",
    "train_data[\"Title\"][pd.isnull(train_data[\"Age\"])].value_counts()"
   ]
  },
  {
   "cell_type": "code",
   "execution_count": 14,
   "metadata": {
    "collapsed": true
   },
   "outputs": [],
   "source": [
    "# we fill them by mean value according to Title and Class\n",
    "train_data[\"Age\"] = train_data.groupby(['Title', 'Pclass'])['Age'].transform(lambda x: x.replace(np.nan, x.mean()))"
   ]
  },
  {
   "cell_type": "code",
   "execution_count": 15,
   "metadata": {
    "collapsed": false
   },
   "outputs": [
    {
     "data": {
      "text/html": [
       "<div>\n",
       "<table border=\"1\" class=\"dataframe\">\n",
       "  <thead>\n",
       "    <tr style=\"text-align: right;\">\n",
       "      <th></th>\n",
       "      <th>PassengerId</th>\n",
       "      <th>Survived</th>\n",
       "      <th>Pclass</th>\n",
       "      <th>Name</th>\n",
       "      <th>Sex</th>\n",
       "      <th>Age</th>\n",
       "      <th>SibSp</th>\n",
       "      <th>Parch</th>\n",
       "      <th>Ticket</th>\n",
       "      <th>Fare</th>\n",
       "      <th>Cabin</th>\n",
       "      <th>Embarked</th>\n",
       "      <th>Title</th>\n",
       "    </tr>\n",
       "  </thead>\n",
       "  <tbody>\n",
       "    <tr>\n",
       "      <th>179</th>\n",
       "      <td>180</td>\n",
       "      <td>0</td>\n",
       "      <td>3</td>\n",
       "      <td>Leonard, Mr. Lionel</td>\n",
       "      <td>male</td>\n",
       "      <td>36.0</td>\n",
       "      <td>0</td>\n",
       "      <td>0</td>\n",
       "      <td>LINE</td>\n",
       "      <td>0.0</td>\n",
       "      <td>NaN</td>\n",
       "      <td>S</td>\n",
       "      <td>Mr</td>\n",
       "    </tr>\n",
       "    <tr>\n",
       "      <th>263</th>\n",
       "      <td>264</td>\n",
       "      <td>0</td>\n",
       "      <td>1</td>\n",
       "      <td>Harrison, Mr. William</td>\n",
       "      <td>male</td>\n",
       "      <td>40.0</td>\n",
       "      <td>0</td>\n",
       "      <td>0</td>\n",
       "      <td>112059</td>\n",
       "      <td>0.0</td>\n",
       "      <td>B94</td>\n",
       "      <td>S</td>\n",
       "      <td>Mr</td>\n",
       "    </tr>\n",
       "    <tr>\n",
       "      <th>271</th>\n",
       "      <td>272</td>\n",
       "      <td>1</td>\n",
       "      <td>3</td>\n",
       "      <td>Tornquist, Mr. William Henry</td>\n",
       "      <td>male</td>\n",
       "      <td>25.0</td>\n",
       "      <td>0</td>\n",
       "      <td>0</td>\n",
       "      <td>LINE</td>\n",
       "      <td>0.0</td>\n",
       "      <td>NaN</td>\n",
       "      <td>S</td>\n",
       "      <td>Mr</td>\n",
       "    </tr>\n",
       "  </tbody>\n",
       "</table>\n",
       "</div>"
      ],
      "text/plain": [
       "     PassengerId  Survived  Pclass                          Name   Sex   Age  \\\n",
       "179          180         0       3           Leonard, Mr. Lionel  male  36.0   \n",
       "263          264         0       1         Harrison, Mr. William  male  40.0   \n",
       "271          272         1       3  Tornquist, Mr. William Henry  male  25.0   \n",
       "\n",
       "     SibSp  Parch  Ticket  Fare Cabin Embarked Title  \n",
       "179      0      0    LINE   0.0   NaN        S    Mr  \n",
       "263      0      0  112059   0.0   B94        S    Mr  \n",
       "271      0      0    LINE   0.0   NaN        S    Mr  "
      ]
     },
     "execution_count": 15,
     "metadata": {},
     "output_type": "execute_result"
    }
   ],
   "source": [
    "# also there are few rows with zero ticket price\n",
    "train_data[train_data[\"Fare\"] == 0].head(3)"
   ]
  },
  {
   "cell_type": "code",
   "execution_count": 16,
   "metadata": {
    "collapsed": true
   },
   "outputs": [],
   "source": [
    "#let's replace them with mean by class\n",
    "train_data[\"Fare\"] = train_data.groupby(['Pclass'])['Fare'].transform(lambda x: x.replace(0.0, x.mean()))"
   ]
  },
  {
   "cell_type": "code",
   "execution_count": 17,
   "metadata": {
    "collapsed": true
   },
   "outputs": [],
   "source": [
    "sns.boxplot(x=\"Title\", \n",
    "            y=\"Age\", \n",
    "            order=[\"Capt\",\"Col\",\"Major\",\"Sir\",\"Lady\",\"Rev\",\n",
    "                   \"Dr\",\"Don\",\"Jonkheer\",\"Countess\",\"Mrs\", \n",
    "                    \"Ms\",\"Mr\",\"Mme\",\"Mlle\",\"Miss\",\"Master\"], \n",
    "            data=train_data);"
   ]
  },
  {
   "cell_type": "code",
   "execution_count": 18,
   "metadata": {
    "collapsed": true
   },
   "outputs": [],
   "source": [
    "#Let's keep only 5 groups: Aristocratic, Mr, Mrs, Miss и Master\n",
    "def change_title(title, fltr, new_title):\n",
    "    if title in fltr: return new_title\n",
    "    else: return title\n",
    "\n",
    "train_data[\"Title\"] = train_data[\"Title\"].map(lambda x: change_title(x, [\"Capt\", \"Col\", \"Don\", \n",
    "                                                                         \"Dr\", \"Jonkheer\", \"Lady\", \n",
    "                                                                         \"Major\", \"Rev\", \"Sir\", \"Countess\"], \"Aristocratic\"))\n",
    "train_data[\"Title\"] = train_data[\"Title\"].map(lambda x: change_title(x, [\"Ms\"], \"Mrs\"))\n",
    "train_data[\"Title\"] = train_data[\"Title\"].map(lambda x: change_title(x, [\"Mlle\", \"Mme\"], \"Miss\"))"
   ]
  },
  {
   "cell_type": "code",
   "execution_count": 19,
   "metadata": {
    "collapsed": true
   },
   "outputs": [],
   "source": [
    "#looks nice!\n",
    "sns.boxplot(x=\"Title\", \n",
    "            y=\"Age\",\n",
    "            order=[\"Aristocratic\", \"Mrs\", \"Mr\", \"Miss\", \"Master\"],\n",
    "            data=train_data);"
   ]
  },
  {
   "cell_type": "code",
   "execution_count": 20,
   "metadata": {
    "collapsed": false
   },
   "outputs": [
    {
     "data": {
      "text/plain": [
       "<matplotlib.axes._subplots.AxesSubplot at 0xe0edb70>"
      ]
     },
     "execution_count": 20,
     "metadata": {},
     "output_type": "execute_result"
    }
   ],
   "source": [
    "#here we can see percentage survived according to Title\n",
    "title_perc = train_data[[\"Title\", \"Survived\"]].groupby(['Title'],as_index=False).mean()\n",
    "sns.barplot(x='Title', y='Survived', data=title_perc, palette=sns.color_palette(\"hls\", 8))"
   ]
  },
  {
   "cell_type": "code",
   "execution_count": 21,
   "metadata": {
    "collapsed": false
   },
   "outputs": [
    {
     "data": {
      "text/plain": [
       "<matplotlib.axes._subplots.AxesSubplot at 0x10495630>"
      ]
     },
     "execution_count": 21,
     "metadata": {},
     "output_type": "execute_result"
    }
   ],
   "source": [
    "#So we can prove again that it was more likely to survive for a women of 1 and 2 classes\n",
    "#or for men of 1 class mostly\n",
    "fig, (axis1,axis2) = plt.subplots(1,2,figsize=(9,6))\n",
    "sns.stripplot(x=\"Pclass\", y=\"Age\", hue=\"Survived\", \n",
    "              data=train_data[train_data[\"Sex\"] == \"female\"], jitter=True, ax=axis1)\n",
    "sns.stripplot(x=\"Pclass\", y=\"Age\", hue=\"Survived\", \n",
    "              data=train_data[train_data[\"Sex\"] == \"male\"], jitter=True, ax=axis2)"
   ]
  },
  {
   "cell_type": "code",
   "execution_count": 22,
   "metadata": {
    "collapsed": false
   },
   "outputs": [
    {
     "data": {
      "text/plain": [
       "<matplotlib.axes._subplots.AxesSubplot at 0x10495630>"
      ]
     },
     "execution_count": 22,
     "metadata": {},
     "output_type": "execute_result"
    }
   ],
   "source": [
    "#what about relatives onboard? Let's see how survival depends on Family size\n",
    "train_data[\"Family\"] = train_data[\"SibSp\"] + train_data[\"Parch\"]\n",
    "sns.countplot(x='Family', hue=\"Survived\", data=train_data[train_data[\"Sex\"] == \"male\"])"
   ]
  },
  {
   "cell_type": "code",
   "execution_count": 23,
   "metadata": {
    "collapsed": true
   },
   "outputs": [],
   "source": [
    "#let's also add new binary column Single if psngr doesn't have family onboard\n",
    "train_data[\"Single\"] = (train_data[\"Family\"] == 0).astype(int)"
   ]
  },
  {
   "cell_type": "code",
   "execution_count": 24,
   "metadata": {
    "collapsed": true
   },
   "outputs": [],
   "source": [
    "#CABIN. We don't have many cabin numbers available (20%) so there are no point in analysing it \n",
    "# but what can we get from availability of these numbers?\n",
    "train_data[\"Cabin\"] = train_data[\"Cabin\"].map(lambda x: 0 if (pd.isnull(x)) else 1)"
   ]
  },
  {
   "cell_type": "code",
   "execution_count": 25,
   "metadata": {
    "collapsed": false
   },
   "outputs": [
    {
     "data": {
      "text/plain": [
       "<matplotlib.axes._subplots.AxesSubplot at 0x10821828>"
      ]
     },
     "execution_count": 25,
     "metadata": {},
     "output_type": "execute_result"
    }
   ],
   "source": [
    "fig, (axis1,axis2) = plt.subplots(1,2,figsize=(9,6))\n",
    "sns.countplot(x='Cabin', hue=\"Survived\", data=train_data, ax=axis1)\n",
    "sns.countplot(x='Cabin', hue=\"Survived\", \n",
    "              data=train_data[train_data[\"Sex\"] == \"male\"], ax=axis2)\n",
    "\n",
    "#so we see it may be important one specially for men"
   ]
  },
  {
   "cell_type": "code",
   "execution_count": 28,
   "metadata": {
    "collapsed": false
   },
   "outputs": [
    {
     "name": "stderr",
     "output_type": "stream",
     "text": [
      "C:\\Program Files\\Anaconda2\\lib\\site-packages\\ipykernel\\__main__.py:4: SettingWithCopyWarning: \n",
      "A value is trying to be set on a copy of a slice from a DataFrame.\n",
      "Try using .loc[row_indexer,col_indexer] = value instead\n",
      "\n",
      "See the caveats in the documentation: http://pandas.pydata.org/pandas-docs/stable/indexing.html#indexing-view-versus-copy\n",
      "C:\\Program Files\\Anaconda2\\lib\\site-packages\\ipykernel\\__main__.py:5: SettingWithCopyWarning: \n",
      "A value is trying to be set on a copy of a slice from a DataFrame.\n",
      "Try using .loc[row_indexer,col_indexer] = value instead\n",
      "\n",
      "See the caveats in the documentation: http://pandas.pydata.org/pandas-docs/stable/indexing.html#indexing-view-versus-copy\n"
     ]
    },
    {
     "data": {
      "text/plain": [
       "<matplotlib.axes._subplots.AxesSubplot at 0x10821828>"
      ]
     },
     "execution_count": 28,
     "metadata": {},
     "output_type": "execute_result"
    }
   ],
   "source": [
    "#so we grab all features and let's look at a correlation between them:\n",
    "X = train_data[[\"Survived\", \"Age\", \"Family\", \"Fare\", \"Single\", \"Cabin\"]]\n",
    "\n",
    "X[\"BigFamily\"] = (train_data[\"Family\"] > 3).astype(int)\n",
    "X[\"SmallFamily\"] = (train_data[\"Family\"] < 4).astype(int)\n",
    "\n",
    "#Sex as Male\n",
    "X = X.assign(Male=[{'female' : 0, 'male' : 1}[item] for item in train_data[\"Sex\"]])\n",
    "\n",
    "#Titles\n",
    "title_dummies_titanic  = pd.get_dummies(train_data['Title'])\n",
    "title_dummies_titanic.columns = ['Aristocratic','Mr','Master','Miss','Mrs']\n",
    "X = X.join(title_dummies_titanic)\n",
    "\n",
    "#Pclass\n",
    "class_dummies_titanic  = pd.get_dummies(train_data['Pclass'])\n",
    "class_dummies_titanic.columns = ['Class1','Class2','Class3']\n",
    "X = X.join(class_dummies_titanic)\n",
    "\n",
    "#Embarked\n",
    "embarked_dummies_titanic  = pd.get_dummies(train_data['Embarked'])\n",
    "embarked_dummies_titanic.columns = ['EmbarkedP','EmbarkedQ','EmbarkedS']\n",
    "X = X.join(embarked_dummies_titanic)\n",
    "\n",
    "sns.heatmap(X.corr(), square=True, annot=True, annot_kws={'fontsize' :8}, cmap=\"OrRd\")"
   ]
  },
  {
   "cell_type": "code",
   "execution_count": 131,
   "metadata": {
    "collapsed": false
   },
   "outputs": [
    {
     "data": {
      "text/plain": [
       "Index([u'Survived', u'Age', u'Family', u'Fare', u'Single', u'Cabin',\n",
       "       u'BigFamily', u'SmallFamily', u'Male', u'Aristocratic', u'Mr',\n",
       "       u'Master', u'Miss', u'Mrs', u'Class1', u'Class2', u'Class3',\n",
       "       u'EmbarkedP', u'EmbarkedQ', u'EmbarkedS', u'Mr_Class3'],\n",
       "      dtype='object')"
      ]
     },
     "execution_count": 131,
     "metadata": {},
     "output_type": "execute_result"
    }
   ],
   "source": [
    "#All columns:\n",
    "X.columns"
   ]
  },
  {
   "cell_type": "code",
   "execution_count": 134,
   "metadata": {
    "collapsed": false
   },
   "outputs": [
    {
     "name": "stdout",
     "output_type": "stream",
     "text": [
      "('Accuracy mean:', 0.8273743016759777)\n",
      "('ROC AUC mean:', 0.80944334650856375)\n",
      "('Real accuracy:', 0.77751196172248804)\n"
     ]
    }
   ],
   "source": [
    "def run_model(regressor, data, X_features, y_features):    \n",
    "    X_ = data[X_features]\n",
    "    y_ = data[y_features]\n",
    "    \n",
    "    accuracy_scoring = cross_validation.cross_val_score(regressor, X_, y_, scoring = accuracy_scorer, cv = cv_strategy)\n",
    "    roc_auc_scoring = cross_validation.cross_val_score(regressor, X_, y_, scoring = roc_auc_scorer, cv = cv_strategy)\n",
    "    regressor.fit(X_, y_)\n",
    "    \n",
    "    print(\"Accuracy mean:\", accuracy_scoring.mean())\n",
    "    print(\"ROC AUC mean:\", roc_auc_scoring.mean())\n",
    "    print(\"Real accuracy:\", metrics.accuracy_score(survivals[\"survived\"], regressor.predict(T[X_features])))\n",
    "    \n",
    "#    for w in list(zip([ '%.2f' % elem for elem in regressor.coef_[0]], X_.columns)):\n",
    "#        print(w)\n",
    "    \n",
    "#lets create 2 scores to score our models\n",
    "accuracy_scorer = metrics.make_scorer(metrics.accuracy_score)\n",
    "roc_auc_scorer = metrics.make_scorer(metrics.roc_auc_score) \n",
    "\n",
    "cv_strategy = cross_validation.StratifiedShuffleSplit(X[\"Survived\"], n_iter = 20 , \n",
    "                                                      test_size = 0.2, \n",
    "                                                      random_state = 2)\n",
    "\n",
    "lr = linear_model.LogisticRegression(C=0.1)\n",
    "run_model(lr, X, ['Age', 'Family', 'Fare', 'Single', 'Cabin', 'BigFamily',\n",
    "           'Male', 'Mr', 'Master', 'Miss', 'Mrs', 'Class2', 'Class3', 'EmbarkedQ',\n",
    "           'EmbarkedS'], \"Survived\")"
   ]
  },
  {
   "cell_type": "code",
   "execution_count": 135,
   "metadata": {
    "collapsed": false
   },
   "outputs": [
    {
     "name": "stdout",
     "output_type": "stream",
     "text": [
      "('Accuracy mean:', 0.82821229050279332)\n",
      "('ROC AUC mean:', 0.81161067193675895)\n",
      "('Real accuracy:', 0.78947368421052633)\n"
     ]
    }
   ],
   "source": [
    "#let's remove Fare (not statistical reasonable) and Sex (as Title already contains it) and EmbarkedQ\n",
    "\n",
    "run_model(lr, X, ['Age', 'Family', 'Single', 'Cabin', 'BigFamily',\n",
    "           'Mr', 'Master', 'Miss', 'Mrs', 'Class2', 'Class3',\n",
    "           'EmbarkedS'], \"Survived\")"
   ]
  },
  {
   "cell_type": "code",
   "execution_count": 138,
   "metadata": {
    "collapsed": false
   },
   "outputs": [
    {
     "name": "stdout",
     "output_type": "stream",
     "text": [
      "('Accuracy mean:', 0.82709497206703908)\n",
      "('ROC AUC mean:', 0.80840579710144933)\n",
      "('Real accuracy:', 0.78708133971291872)\n"
     ]
    }
   ],
   "source": [
    "#let's remove Single (we have Family) and create separate feature for 3class men\n",
    "\n",
    "X[\"Mr_Class3\"] = (X[\"Class3\"] * X[\"Mr\"] == 1).astype(int)\n",
    "T[\"Mr_Class3\"] = (T[\"Class3\"] * T[\"Mr\"] == 1).astype(int)\n",
    "\n",
    "run_model(lr, X, ['Age', 'Family', 'Cabin', 'Mr_Class3',\n",
    "           'Master', 'Miss', 'Mrs', 'Class2', 'Class3',\n",
    "           'EmbarkedS'], \"Survived\")"
   ]
  },
  {
   "cell_type": "code",
   "execution_count": 139,
   "metadata": {
    "collapsed": false
   },
   "outputs": [
    {
     "name": "stdout",
     "output_type": "stream",
     "text": [
      "('Accuracy mean:', 0.82709497206703908)\n",
      "('ROC AUC mean:', 0.80840579710144933)\n",
      "('Real accuracy:', 0.78708133971291872)\n"
     ]
    }
   ],
   "source": [
    "#Ok last chance. Lets do feature scalling for Age\n",
    "X[\"Age\"] = (X[\"Age\"] - X[\"Age\"].mean())/X[\"Age\"].std()\n",
    "run_model(lr, X, ['Age', 'Family', 'Cabin', 'Mr_Class3',\n",
    "           'Master', 'Miss', 'Mrs', 'Class2', 'Class3',\n",
    "           'EmbarkedS'], \"Survived\")"
   ]
  },
  {
   "cell_type": "code",
   "execution_count": 301,
   "metadata": {
    "collapsed": false
   },
   "outputs": [],
   "source": [
    "#Now lets try with Random forest\n",
    "def run_model(regressor, data, X_features, y_features):    \n",
    "    X_ = data[X_features]\n",
    "    y_ = data[y_features]\n",
    "    \n",
    "    #accuracy_scoring = cross_validation.cross_val_score(regressor, X_, y_, scoring = accuracy_scorer, cv = cv_strategy)\n",
    "    #roc_auc_scoring = cross_validation.cross_val_score(regressor, X_, y_, scoring = roc_auc_scorer, cv = cv_strategy)\n",
    "    regressor.fit(X_, y_)\n",
    "    \n",
    "    #print(\"Accuracy mean:\", accuracy_scoring.mean())\n",
    "    #print(\"ROC AUC mean:\", roc_auc_scoring.mean())\n",
    "    sc = metrics.accuracy_score(survivals[\"survived\"], regressor.predict(T[X_features]))\n",
    "    if (sc > 0.79):\n",
    "        print(\"Real accuracy:\", sc)\n",
    "\n",
    "rfc = RandomForestClassifier(n_estimators=140, max_features=2, max_depth=4)\n",
    "\n",
    "run_model(rfc, X, ['Age', 'Family', 'Fare', 'Single', 'Cabin', 'BigFamily', 'Aristocratic',\n",
    "           'Male', 'Mr', 'Master', 'Miss', 'Mrs', 'Class2', 'Class3', 'EmbarkedP', 'EmbarkedQ',\n",
    "           'EmbarkedS'], \"Survived\")\n",
    "\n",
    "def rf_model(n, f, d):\n",
    "    rfc = RandomForestClassifier(n_estimators=n, max_features=f, max_depth=f,random_state=2)\n",
    "    run_model(rfc, X, ['Age', 'Family', 'Cabin', 'Mr_Class3',\n",
    "           'Master', 'Miss', 'Mrs', 'Class2', 'Class3'], \"Survived\")\n",
    "\n",
    "#run_model(rfc, X, ['Age', 'Family', 'Single', 'Cabin', 'BigFamily',\n",
    "#           'Mr', 'Master', 'Miss', 'Mrs', 'Class2', 'Class3',\n",
    "#           'EmbarkedS'], \"Survived\")\n",
    "#\n",
    "#run_model(rfc, X, ['Age', 'Family', 'Cabin', 'Mr_Class3',\n",
    "#           'Master', 'Miss', 'Mrs', 'Class2', 'Class3',\n",
    "#           'EmbarkedS'], \"Survived\")"
   ]
  },
  {
   "cell_type": "code",
   "execution_count": 302,
   "metadata": {
    "collapsed": false
   },
   "outputs": [
    {
     "name": "stdout",
     "output_type": "stream",
     "text": [
      "(120, 2, 1)\n",
      "(120, 2, 2)\n",
      "(120, 2, 3)\n",
      "(120, 2, 4)\n",
      "(120, 2, 5)\n",
      "(120, 3, 1)\n",
      "(120, 3, 2)\n",
      "(120, 3, 3)\n",
      "(120, 3, 4)\n",
      "(120, 3, 5)\n",
      "(120, 4, 1)\n",
      "(120, 4, 2)\n",
      "(120, 4, 3)\n",
      "(120, 4, 4)\n",
      "(120, 4, 5)\n",
      "(130, 2, 1)\n",
      "('Real accuracy:', 0.80143540669856461)\n",
      "(130, 2, 2)\n",
      "('Real accuracy:', 0.80143540669856461)\n",
      "(130, 2, 3)\n",
      "('Real accuracy:', 0.80143540669856461)\n",
      "(130, 2, 4)\n",
      "('Real accuracy:', 0.80143540669856461)\n",
      "(130, 2, 5)\n",
      "('Real accuracy:', 0.80143540669856461)\n",
      "(130, 3, 1)\n",
      "(130, 3, 2)\n",
      "(130, 3, 3)\n",
      "(130, 3, 4)\n",
      "(130, 3, 5)\n",
      "(130, 4, 1)\n",
      "(130, 4, 2)\n",
      "(130, 4, 3)\n",
      "(130, 4, 4)\n",
      "(130, 4, 5)\n",
      "(140, 2, 1)\n",
      "(140, 2, 2)\n",
      "(140, 2, 3)\n",
      "(140, 2, 4)\n",
      "(140, 2, 5)\n",
      "(140, 3, 1)\n",
      "(140, 3, 2)\n",
      "(140, 3, 3)\n",
      "(140, 3, 4)\n",
      "(140, 3, 5)\n",
      "(140, 4, 1)\n",
      "(140, 4, 2)\n",
      "(140, 4, 3)\n",
      "(140, 4, 4)\n",
      "(140, 4, 5)\n",
      "(150, 2, 1)\n",
      "('Real accuracy:', 0.79425837320574166)\n",
      "(150, 2, 2)\n",
      "('Real accuracy:', 0.79425837320574166)\n",
      "(150, 2, 3)\n",
      "('Real accuracy:', 0.79425837320574166)\n",
      "(150, 2, 4)\n",
      "('Real accuracy:', 0.79425837320574166)\n",
      "(150, 2, 5)\n",
      "('Real accuracy:', 0.79425837320574166)\n",
      "(150, 3, 1)\n",
      "(150, 3, 2)\n",
      "(150, 3, 3)\n",
      "(150, 3, 4)\n",
      "(150, 3, 5)\n",
      "(150, 4, 1)\n",
      "(150, 4, 2)\n",
      "(150, 4, 3)\n",
      "(150, 4, 4)\n",
      "(150, 4, 5)\n"
     ]
    }
   ],
   "source": [
    "n_estimators_= [120, 130, 140, 150]\n",
    "max_features_= [2, 3, 4]\n",
    "max_depth_= [1, 2, 3, 4, 5]\n",
    "\n",
    "for n in n_estimators_:\n",
    "    for f in max_features_:\n",
    "        for d in max_depth_:\n",
    "            print(n, f, d)\n",
    "            rf_model(n, f, d)\n",
    "\n",
    "#120, 2, 2, 08038 rs=3"
   ]
  },
  {
   "cell_type": "code",
   "execution_count": null,
   "metadata": {
    "collapsed": true
   },
   "outputs": [],
   "source": []
  },
  {
   "cell_type": "code",
   "execution_count": 209,
   "metadata": {
    "collapsed": false
   },
   "outputs": [
    {
     "name": "stdout",
     "output_type": "stream",
     "text": [
      "('Real accuracy:', 0.76555023923444976)\n",
      "('Real accuracy:', 0.75598086124401909)\n",
      "('Real accuracy:', 0.76555023923444976)\n"
     ]
    }
   ],
   "source": [
    "#we see that we don't increase random forest score anyhow. lets try GradientBoostingClassifier\n",
    "cls = GradientBoostingClassifier()\n",
    "run_model(cls, X, ['Age', 'Family', 'Fare', 'Single', 'Cabin', 'BigFamily',\n",
    "           'Male', 'Mr', 'Master', 'Miss', 'Mrs', 'Class2', 'Class3', 'EmbarkedQ',\n",
    "           'EmbarkedS'], \"Survived\")\n",
    "run_model(cls, X, ['Age', 'Family', 'Single', 'Cabin', 'BigFamily',\n",
    "           'Mr', 'Master', 'Miss', 'Mrs', 'Class2', 'Class3',\n",
    "           'EmbarkedS'], \"Survived\")\n",
    "run_model(cls, X, ['Age', 'Family', 'Cabin', 'Mr_Class3',\n",
    "           'Master', 'Miss', 'Mrs', 'Class2', 'Class3',\n",
    "           'EmbarkedS'], \"Survived\")"
   ]
  },
  {
   "cell_type": "code",
   "execution_count": 212,
   "metadata": {
    "collapsed": false
   },
   "outputs": [
    {
     "name": "stdout",
     "output_type": "stream",
     "text": [
      "('Real accuracy:', 0.77511961722488043)\n",
      "('Real accuracy:', 0.77033492822966509)\n",
      "('Real accuracy:', 0.77033492822966509)\n"
     ]
    }
   ],
   "source": [
    "#that was little better. let's try out with SVM:\n",
    "from sklearn.svm import SVC\n",
    "\n",
    "#SVC is very sensitive to unscalled data\n",
    "X[\"Fare\"] = (X[\"Fare\"] - X[\"Fare\"].mean())/X[\"Fare\"].std()\n",
    "\n",
    "lin_svm = SVC(C=0.5)\n",
    "run_model(lin_svm, X, ['Age', 'Family', 'Fare', 'Single', 'Cabin', 'BigFamily',\n",
    "           'Male', 'Mr', 'Master', 'Miss', 'Mrs', 'Class2', 'Class3', 'EmbarkedQ',\n",
    "           'EmbarkedS'], \"Survived\")\n",
    "run_model(lin_svm, X, ['Age', 'Family', 'Single', 'Cabin', 'BigFamily',\n",
    "           'Mr', 'Master', 'Miss', 'Mrs', 'Class2', 'Class3',\n",
    "           'EmbarkedS'], \"Survived\")\n",
    "run_model(lin_svm, X, ['Age', 'Family', 'Cabin', 'Mr_Class3',\n",
    "           'Master', 'Miss', 'Mrs', 'Class2', 'Class3',\n",
    "           'EmbarkedS'], \"Survived\")"
   ]
  },
  {
   "cell_type": "code",
   "execution_count": 37,
   "metadata": {
    "collapsed": false
   },
   "outputs": [
    {
     "name": "stdout",
     "output_type": "stream",
     "text": [
      "<class 'pandas.core.frame.DataFrame'>\n",
      "RangeIndex: 418 entries, 0 to 417\n",
      "Data columns (total 11 columns):\n",
      "PassengerId    418 non-null int64\n",
      "Pclass         418 non-null int64\n",
      "Name           418 non-null object\n",
      "Sex            418 non-null object\n",
      "Age            332 non-null float64\n",
      "SibSp          418 non-null int64\n",
      "Parch          418 non-null int64\n",
      "Ticket         418 non-null object\n",
      "Fare           417 non-null float64\n",
      "Cabin          91 non-null object\n",
      "Embarked       418 non-null object\n",
      "dtypes: float64(2), int64(4), object(5)\n",
      "memory usage: 36.0+ KB\n"
     ]
    }
   ],
   "source": [
    "#So as we see SVC predict better than other methods so let's try to predict survivals for our test data\n",
    "test_data.info()"
   ]
  },
  {
   "cell_type": "code",
   "execution_count": 38,
   "metadata": {
    "collapsed": true
   },
   "outputs": [],
   "source": [
    "#let's fill missing data as we did for train data AGE\n",
    "test_data[\"Title\"] = test_data[\"Name\"].map(lambda x: re.search(' ([A-Za-z]+)\\.', x).group(1))\n",
    "test_data[\"Title\"] = test_data[\"Title\"].map(lambda x: change_title(x, [\"Capt\", \"Col\", \"Don\", \"Dona\", \n",
    "                                                                         \"Dr\", \"Jonkheer\", \"Lady\", \n",
    "                                                                         \"Major\", \"Rev\", \"Sir\", \"Countess\"], \"Aristocratic\"))\n",
    "test_data[\"Title\"] = test_data[\"Title\"].map(lambda x: change_title(x, [\"Ms\"], \"Mrs\"))\n",
    "test_data[\"Title\"] = test_data[\"Title\"].map(lambda x: change_title(x, [\"Mlle\", \"Mme\"], \"Miss\"))\n",
    "\n",
    "test_data[\"Age\"] = test_data.groupby(['Title', 'Pclass'])['Age'].transform(lambda x: x.replace(np.nan, x.mean()))"
   ]
  },
  {
   "cell_type": "code",
   "execution_count": 39,
   "metadata": {
    "collapsed": true
   },
   "outputs": [],
   "source": [
    "#missing Fare\n",
    "test_data[\"Fare\"] = test_data.groupby(['Pclass'])['Fare'].transform(lambda x: x.replace(0.0, x.mean()))\n",
    "test_data[\"Fare\"] = test_data.groupby(['Pclass'])['Fare'].transform(lambda x: x.replace(np.nan, x.mean()))"
   ]
  },
  {
   "cell_type": "code",
   "execution_count": 40,
   "metadata": {
    "collapsed": true
   },
   "outputs": [],
   "source": [
    "#missing cabin\n",
    "test_data[\"Cabin\"] = test_data[\"Cabin\"].map(lambda x: 0 if (pd.isnull(x)) else 1)"
   ]
  },
  {
   "cell_type": "code",
   "execution_count": 41,
   "metadata": {
    "collapsed": true
   },
   "outputs": [],
   "source": [
    "test_data[\"Family\"] = test_data[\"SibSp\"] + test_data[\"Parch\"]\n",
    "test_data[\"Single\"] = (test_data[\"Family\"] == 0).astype(int)\n",
    "test_data.drop(\"Name\", axis=1, inplace=True)\n",
    "test_data.drop(\"Ticket\", axis=1, inplace=True)"
   ]
  },
  {
   "cell_type": "code",
   "execution_count": 129,
   "metadata": {
    "collapsed": false
   },
   "outputs": [
    {
     "name": "stderr",
     "output_type": "stream",
     "text": [
      "C:\\Program Files\\Anaconda2\\lib\\site-packages\\ipykernel\\__main__.py:3: SettingWithCopyWarning: \n",
      "A value is trying to be set on a copy of a slice from a DataFrame.\n",
      "Try using .loc[row_indexer,col_indexer] = value instead\n",
      "\n",
      "See the caveats in the documentation: http://pandas.pydata.org/pandas-docs/stable/indexing.html#indexing-view-versus-copy\n",
      "  app.launch_new_instance()\n",
      "C:\\Program Files\\Anaconda2\\lib\\site-packages\\ipykernel\\__main__.py:4: SettingWithCopyWarning: \n",
      "A value is trying to be set on a copy of a slice from a DataFrame.\n",
      "Try using .loc[row_indexer,col_indexer] = value instead\n",
      "\n",
      "See the caveats in the documentation: http://pandas.pydata.org/pandas-docs/stable/indexing.html#indexing-view-versus-copy\n"
     ]
    }
   ],
   "source": [
    "T = test_data[[\"Age\", \"Fare\", \"Single\", \"Family\", \"Cabin\"]]\n",
    "\n",
    "T[\"BigFamily\"] = (test_data[\"Family\"] > 3).astype(int)\n",
    "T[\"SmallFamily\"] = (test_data[\"Family\"] < 4).astype(int)\n",
    "\n",
    "#Sex as Male\n",
    "T = T.assign(Male=[{'female' : 0, 'male' : 1}[item] for item in test_data[\"Sex\"]])\n",
    "\n",
    "#Titles\n",
    "title_dummies_test  = pd.get_dummies(test_data['Title'])\n",
    "title_dummies_test.columns = ['Aristocratic','Mr','Master','Miss','Mrs']\n",
    "T = T.join(title_dummies_test)\n",
    "\n",
    "#Pclass\n",
    "class_dummies_test  = pd.get_dummies(test_data['Pclass'])\n",
    "class_dummies_test.columns = ['Class1','Class2','Class3']\n",
    "T = T.join(class_dummies_test)\n",
    "\n",
    "#Embarked\n",
    "embarked_dummies_test  = pd.get_dummies(test_data['Embarked'])\n",
    "embarked_dummies_test.columns = ['EmbarkedP','EmbarkedQ','EmbarkedS']\n",
    "T = T.join(embarked_dummies_test)"
   ]
  },
  {
   "cell_type": "code",
   "execution_count": 130,
   "metadata": {
    "collapsed": true
   },
   "outputs": [],
   "source": [
    "#also scalling for test data\n",
    "T[\"Fare\"] = (T[\"Fare\"] - T[\"Fare\"].mean())/T[\"Fare\"].std()\n",
    "T[\"Age\"] = (T[\"Age\"] - T[\"Age\"].mean())/T[\"Age\"].std()"
   ]
  },
  {
   "cell_type": "code",
   "execution_count": 44,
   "metadata": {
    "collapsed": false
   },
   "outputs": [
    {
     "data": {
      "text/html": [
       "<div>\n",
       "<table border=\"1\" class=\"dataframe\">\n",
       "  <thead>\n",
       "    <tr style=\"text-align: right;\">\n",
       "      <th></th>\n",
       "      <th>Survived</th>\n",
       "      <th>Age</th>\n",
       "      <th>Family</th>\n",
       "      <th>Fare</th>\n",
       "      <th>Single</th>\n",
       "      <th>Cabin</th>\n",
       "      <th>BigFamily</th>\n",
       "      <th>SmallFamily</th>\n",
       "      <th>Male</th>\n",
       "      <th>Aristocratic</th>\n",
       "      <th>...</th>\n",
       "      <th>Master</th>\n",
       "      <th>Miss</th>\n",
       "      <th>Mrs</th>\n",
       "      <th>Class1</th>\n",
       "      <th>Class2</th>\n",
       "      <th>Class3</th>\n",
       "      <th>EmbarkedP</th>\n",
       "      <th>EmbarkedQ</th>\n",
       "      <th>EmbarkedS</th>\n",
       "      <th>Mr_Class3</th>\n",
       "    </tr>\n",
       "  </thead>\n",
       "  <tbody>\n",
       "    <tr>\n",
       "      <th>0</th>\n",
       "      <td>0</td>\n",
       "      <td>-0.548191</td>\n",
       "      <td>1</td>\n",
       "      <td>-0.515736</td>\n",
       "      <td>0</td>\n",
       "      <td>0</td>\n",
       "      <td>0</td>\n",
       "      <td>1</td>\n",
       "      <td>1</td>\n",
       "      <td>0.0</td>\n",
       "      <td>...</td>\n",
       "      <td>0.0</td>\n",
       "      <td>1.0</td>\n",
       "      <td>0.0</td>\n",
       "      <td>0.0</td>\n",
       "      <td>0.0</td>\n",
       "      <td>1.0</td>\n",
       "      <td>0.0</td>\n",
       "      <td>0.0</td>\n",
       "      <td>1.0</td>\n",
       "      <td>0</td>\n",
       "    </tr>\n",
       "    <tr>\n",
       "      <th>1</th>\n",
       "      <td>1</td>\n",
       "      <td>0.633104</td>\n",
       "      <td>1</td>\n",
       "      <td>0.772917</td>\n",
       "      <td>0</td>\n",
       "      <td>1</td>\n",
       "      <td>0</td>\n",
       "      <td>1</td>\n",
       "      <td>0</td>\n",
       "      <td>0.0</td>\n",
       "      <td>...</td>\n",
       "      <td>0.0</td>\n",
       "      <td>0.0</td>\n",
       "      <td>1.0</td>\n",
       "      <td>1.0</td>\n",
       "      <td>0.0</td>\n",
       "      <td>0.0</td>\n",
       "      <td>1.0</td>\n",
       "      <td>0.0</td>\n",
       "      <td>0.0</td>\n",
       "      <td>0</td>\n",
       "    </tr>\n",
       "    <tr>\n",
       "      <th>2</th>\n",
       "      <td>1</td>\n",
       "      <td>-0.252867</td>\n",
       "      <td>0</td>\n",
       "      <td>-0.502152</td>\n",
       "      <td>1</td>\n",
       "      <td>0</td>\n",
       "      <td>0</td>\n",
       "      <td>1</td>\n",
       "      <td>0</td>\n",
       "      <td>0.0</td>\n",
       "      <td>...</td>\n",
       "      <td>1.0</td>\n",
       "      <td>0.0</td>\n",
       "      <td>0.0</td>\n",
       "      <td>0.0</td>\n",
       "      <td>0.0</td>\n",
       "      <td>1.0</td>\n",
       "      <td>0.0</td>\n",
       "      <td>0.0</td>\n",
       "      <td>1.0</td>\n",
       "      <td>0</td>\n",
       "    </tr>\n",
       "    <tr>\n",
       "      <th>3</th>\n",
       "      <td>1</td>\n",
       "      <td>0.411611</td>\n",
       "      <td>1</td>\n",
       "      <td>0.406983</td>\n",
       "      <td>0</td>\n",
       "      <td>1</td>\n",
       "      <td>0</td>\n",
       "      <td>1</td>\n",
       "      <td>0</td>\n",
       "      <td>0.0</td>\n",
       "      <td>...</td>\n",
       "      <td>0.0</td>\n",
       "      <td>0.0</td>\n",
       "      <td>1.0</td>\n",
       "      <td>1.0</td>\n",
       "      <td>0.0</td>\n",
       "      <td>0.0</td>\n",
       "      <td>0.0</td>\n",
       "      <td>0.0</td>\n",
       "      <td>1.0</td>\n",
       "      <td>0</td>\n",
       "    </tr>\n",
       "    <tr>\n",
       "      <th>4</th>\n",
       "      <td>0</td>\n",
       "      <td>0.411611</td>\n",
       "      <td>0</td>\n",
       "      <td>-0.499636</td>\n",
       "      <td>1</td>\n",
       "      <td>0</td>\n",
       "      <td>0</td>\n",
       "      <td>1</td>\n",
       "      <td>1</td>\n",
       "      <td>0.0</td>\n",
       "      <td>...</td>\n",
       "      <td>0.0</td>\n",
       "      <td>1.0</td>\n",
       "      <td>0.0</td>\n",
       "      <td>0.0</td>\n",
       "      <td>0.0</td>\n",
       "      <td>1.0</td>\n",
       "      <td>0.0</td>\n",
       "      <td>0.0</td>\n",
       "      <td>1.0</td>\n",
       "      <td>0</td>\n",
       "    </tr>\n",
       "  </tbody>\n",
       "</table>\n",
       "<p>5 rows × 21 columns</p>\n",
       "</div>"
      ],
      "text/plain": [
       "   Survived       Age  Family      Fare  Single  Cabin  BigFamily  \\\n",
       "0         0 -0.548191       1 -0.515736       0      0          0   \n",
       "1         1  0.633104       1  0.772917       0      1          0   \n",
       "2         1 -0.252867       0 -0.502152       1      0          0   \n",
       "3         1  0.411611       1  0.406983       0      1          0   \n",
       "4         0  0.411611       0 -0.499636       1      0          0   \n",
       "\n",
       "   SmallFamily  Male  Aristocratic    ...      Master  Miss  Mrs  Class1  \\\n",
       "0            1     1           0.0    ...         0.0   1.0  0.0     0.0   \n",
       "1            1     0           0.0    ...         0.0   0.0  1.0     1.0   \n",
       "2            1     0           0.0    ...         1.0   0.0  0.0     0.0   \n",
       "3            1     0           0.0    ...         0.0   0.0  1.0     1.0   \n",
       "4            1     1           0.0    ...         0.0   1.0  0.0     0.0   \n",
       "\n",
       "   Class2  Class3  EmbarkedP  EmbarkedQ  EmbarkedS  Mr_Class3  \n",
       "0     0.0     1.0        0.0        0.0        1.0          0  \n",
       "1     0.0     0.0        1.0        0.0        0.0          0  \n",
       "2     0.0     1.0        0.0        0.0        1.0          0  \n",
       "3     0.0     0.0        0.0        0.0        1.0          0  \n",
       "4     0.0     1.0        0.0        0.0        1.0          0  \n",
       "\n",
       "[5 rows x 21 columns]"
      ]
     },
     "execution_count": 44,
     "metadata": {},
     "output_type": "execute_result"
    }
   ],
   "source": [
    "X.head()"
   ]
  },
  {
   "cell_type": "code",
   "execution_count": 45,
   "metadata": {
    "collapsed": true
   },
   "outputs": [],
   "source": [
    "cols = ['Age', 'Fare', 'Single', 'Cabin', 'BigFamily', 'SmallFamily',\n",
    "           'Male', 'Mr', 'Master', 'Miss', 'Mrs', 'Aristocratic', 'Class1', 'Class2', 'Class3']"
   ]
  },
  {
   "cell_type": "code",
   "execution_count": 46,
   "metadata": {
    "collapsed": false
   },
   "outputs": [
    {
     "name": "stderr",
     "output_type": "stream",
     "text": [
      "C:\\Program Files\\Anaconda2\\lib\\site-packages\\ipykernel\\__main__.py:10: FutureWarning: sort(columns=....) is deprecated, use sort_values(by=.....)\n"
     ]
    },
    {
     "data": {
      "text/html": [
       "<div>\n",
       "<table border=\"1\" class=\"dataframe\">\n",
       "  <thead>\n",
       "    <tr style=\"text-align: right;\">\n",
       "      <th></th>\n",
       "      <th>feature</th>\n",
       "      <th>importance</th>\n",
       "    </tr>\n",
       "  </thead>\n",
       "  <tbody>\n",
       "    <tr>\n",
       "      <th>1</th>\n",
       "      <td>Fare</td>\n",
       "      <td>0.241879</td>\n",
       "    </tr>\n",
       "    <tr>\n",
       "      <th>0</th>\n",
       "      <td>Age</td>\n",
       "      <td>0.232694</td>\n",
       "    </tr>\n",
       "    <tr>\n",
       "      <th>9</th>\n",
       "      <td>Miss</td>\n",
       "      <td>0.128112</td>\n",
       "    </tr>\n",
       "    <tr>\n",
       "      <th>6</th>\n",
       "      <td>Male</td>\n",
       "      <td>0.117745</td>\n",
       "    </tr>\n",
       "    <tr>\n",
       "      <th>14</th>\n",
       "      <td>Class3</td>\n",
       "      <td>0.041673</td>\n",
       "    </tr>\n",
       "    <tr>\n",
       "      <th>3</th>\n",
       "      <td>Cabin</td>\n",
       "      <td>0.038381</td>\n",
       "    </tr>\n",
       "    <tr>\n",
       "      <th>8</th>\n",
       "      <td>Master</td>\n",
       "      <td>0.037416</td>\n",
       "    </tr>\n",
       "    <tr>\n",
       "      <th>10</th>\n",
       "      <td>Mrs</td>\n",
       "      <td>0.035072</td>\n",
       "    </tr>\n",
       "    <tr>\n",
       "      <th>5</th>\n",
       "      <td>SmallFamily</td>\n",
       "      <td>0.026213</td>\n",
       "    </tr>\n",
       "    <tr>\n",
       "      <th>12</th>\n",
       "      <td>Class1</td>\n",
       "      <td>0.024986</td>\n",
       "    </tr>\n",
       "    <tr>\n",
       "      <th>4</th>\n",
       "      <td>BigFamily</td>\n",
       "      <td>0.021970</td>\n",
       "    </tr>\n",
       "    <tr>\n",
       "      <th>7</th>\n",
       "      <td>Mr</td>\n",
       "      <td>0.017636</td>\n",
       "    </tr>\n",
       "    <tr>\n",
       "      <th>2</th>\n",
       "      <td>Single</td>\n",
       "      <td>0.015603</td>\n",
       "    </tr>\n",
       "    <tr>\n",
       "      <th>13</th>\n",
       "      <td>Class2</td>\n",
       "      <td>0.012566</td>\n",
       "    </tr>\n",
       "    <tr>\n",
       "      <th>11</th>\n",
       "      <td>Aristocratic</td>\n",
       "      <td>0.008055</td>\n",
       "    </tr>\n",
       "  </tbody>\n",
       "</table>\n",
       "</div>"
      ],
      "text/plain": [
       "         feature  importance\n",
       "1           Fare    0.241879\n",
       "0            Age    0.232694\n",
       "9           Miss    0.128112\n",
       "6           Male    0.117745\n",
       "14        Class3    0.041673\n",
       "3          Cabin    0.038381\n",
       "8         Master    0.037416\n",
       "10           Mrs    0.035072\n",
       "5    SmallFamily    0.026213\n",
       "12        Class1    0.024986\n",
       "4      BigFamily    0.021970\n",
       "7             Mr    0.017636\n",
       "2         Single    0.015603\n",
       "13        Class2    0.012566\n",
       "11  Aristocratic    0.008055"
      ]
     },
     "execution_count": 46,
     "metadata": {},
     "output_type": "execute_result"
    }
   ],
   "source": [
    "from sklearn.ensemble import ExtraTreesClassifier\n",
    "from sklearn.feature_selection import SelectFromModel\n",
    "\n",
    "clf = ExtraTreesClassifier(n_estimators=200)\n",
    "clf = clf.fit(X[cols], X[\"Survived\"])\n",
    "\n",
    "features = pd.DataFrame()\n",
    "features['feature'] = cols\n",
    "features['importance'] = clf.feature_importances_\n",
    "features.sort(['importance'],ascending=False)"
   ]
  },
  {
   "cell_type": "code",
   "execution_count": 232,
   "metadata": {
    "collapsed": false
   },
   "outputs": [],
   "source": [
    "cols = ['Age', 'Fare', 'Single', 'Cabin', 'Family',\n",
    "           'Male', 'Mr', 'Master', 'Miss', 'Mrs', 'Class3']"
   ]
  },
  {
   "cell_type": "code",
   "execution_count": 1,
   "metadata": {
    "collapsed": false
   },
   "outputs": [
    {
     "ename": "NameError",
     "evalue": "name 'RandomForestClassifier' is not defined",
     "output_type": "error",
     "traceback": [
      "\u001b[0;31m---------------------------------------------------------------------------\u001b[0m",
      "\u001b[0;31mNameError\u001b[0m                                 Traceback (most recent call last)",
      "\u001b[0;32m<ipython-input-1-b8b301de756b>\u001b[0m in \u001b[0;36m<module>\u001b[0;34m()\u001b[0m\n\u001b[1;32m      1\u001b[0m \u001b[1;31m#and finally let's predict survivals!!!\u001b[0m\u001b[1;33m\u001b[0m\u001b[1;33m\u001b[0m\u001b[0m\n\u001b[0;32m----> 2\u001b[0;31m \u001b[0mrfc\u001b[0m \u001b[1;33m=\u001b[0m \u001b[0mRandomForestClassifier\u001b[0m\u001b[1;33m(\u001b[0m\u001b[0mn_estimators\u001b[0m\u001b[1;33m=\u001b[0m\u001b[1;36m150\u001b[0m\u001b[1;33m,\u001b[0m \u001b[0mmax_depth\u001b[0m\u001b[1;33m=\u001b[0m\u001b[1;36m3\u001b[0m\u001b[1;33m,\u001b[0m \u001b[0mmax_features\u001b[0m\u001b[1;33m=\u001b[0m\u001b[1;36m4\u001b[0m\u001b[1;33m)\u001b[0m\u001b[1;33m\u001b[0m\u001b[0m\n\u001b[0m\u001b[1;32m      3\u001b[0m \u001b[1;33m\u001b[0m\u001b[0m\n\u001b[1;32m      4\u001b[0m \u001b[0mrfc\u001b[0m\u001b[1;33m.\u001b[0m\u001b[0mfit\u001b[0m\u001b[1;33m(\u001b[0m\u001b[0mX\u001b[0m\u001b[1;33m[\u001b[0m\u001b[0mcols\u001b[0m\u001b[1;33m]\u001b[0m\u001b[1;33m,\u001b[0m \u001b[0mX\u001b[0m\u001b[1;33m[\u001b[0m\u001b[1;34m\"Survived\"\u001b[0m\u001b[1;33m]\u001b[0m\u001b[1;33m)\u001b[0m\u001b[1;33m\u001b[0m\u001b[0m\n\u001b[1;32m      5\u001b[0m \u001b[1;31m#print(metrics.accuracy_score(rfc.predict(X[cols]), X[\"Survived\"]))\u001b[0m\u001b[1;33m\u001b[0m\u001b[1;33m\u001b[0m\u001b[0m\n",
      "\u001b[0;31mNameError\u001b[0m: name 'RandomForestClassifier' is not defined"
     ]
    }
   ],
   "source": [
    "#and finally let's predict survivals!!!\n",
    "rfc = RandomForestClassifier(n_estimators=150, max_depth=3, max_features=4)\n",
    "\n",
    "rfc.fit(X[cols], X[\"Survived\"])\n",
    "#print(metrics.accuracy_score(rfc.predict(X[cols]), X[\"Survived\"]))\n",
    "\n",
    "print(metrics.accuracy_score(rfc.predict(T[cols]), survivals[\"survived\"]))"
   ]
  },
  {
   "cell_type": "code",
   "execution_count": 248,
   "metadata": {
    "collapsed": false
   },
   "outputs": [
    {
     "name": "stdout",
     "output_type": "stream",
     "text": [
      "0.775119617225\n"
     ]
    }
   ],
   "source": [
    "svm = SVC(C=1.0)\n",
    "svm.fit(X[cols], X[\"Survived\"])\n",
    "print(metrics.accuracy_score(svm.predict(T[cols]), survivals[\"survived\"]))\n",
    "\n",
    "predictions = svm.predict(T[cols])"
   ]
  },
  {
   "cell_type": "code",
   "execution_count": null,
   "metadata": {
    "collapsed": true
   },
   "outputs": [],
   "source": [
    "submission = pd.DataFrame({\n",
    "        \"PassengerId\": test_data[\"PassengerId\"],\n",
    "        \"Survived\": predictions\n",
    "    })\n",
    "submission.to_csv('titanic.csv', index=False)"
   ]
  },
  {
   "cell_type": "code",
   "execution_count": null,
   "metadata": {
    "collapsed": true
   },
   "outputs": [],
   "source": []
  }
 ],
 "metadata": {
  "anaconda-cloud": {},
  "kernelspec": {
   "display_name": "Python [default]",
   "language": "python",
   "name": "python2"
  },
  "language_info": {
   "codemirror_mode": {
    "name": "ipython",
    "version": 2
   },
   "file_extension": ".py",
   "mimetype": "text/x-python",
   "name": "python",
   "nbconvert_exporter": "python",
   "pygments_lexer": "ipython2",
   "version": "2.7.12"
  }
 },
 "nbformat": 4,
 "nbformat_minor": 0
}
