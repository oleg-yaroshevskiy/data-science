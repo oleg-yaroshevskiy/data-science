{
  "metadata": {
    "kernelspec": {
      "display_name": "Python 3",
      "language": "python",
      "name": "python3"
    },
    "language_info": {
      "codemirror_mode": {
        "name": "ipython",
        "version": 3
      },
      "file_extension": ".py",
      "mimetype": "text/x-python",
      "name": "python",
      "nbconvert_exporter": "python",
      "pygments_lexer": "ipython3",
      "version": "3.6.0"
    }
  },
  "nbformat": 4,
  "nbformat_minor": 0,
  "cells": [
    {
      "cell_type": "markdown",
      "source": "",
      "metadata": {}
    },
    {
      "cell_type": "code",
      "source": "import numpy as np\nimport pandas as pd\nimport matplotlib.pyplot as plt\nimport seaborn as sns\nimport re\nfrom sklearn import cross_validation, linear_model, metrics, pipeline, preprocessing\nimport math\nfrom sklearn.ensemble import RandomForestClassifier, GradientBoostingClassifier\nfrom sklearn.svm import SVC\nfrom sklearn.grid_search import GridSearchCV",
      "execution_count": null,
      "outputs": [],
      "metadata": {}
    },
    {
      "cell_type": "code",
      "source": "train_data = pd.read_csv(\"../input/train.csv\")\ntest_data = pd.read_csv(\"../input/test.csv\")",
      "execution_count": null,
      "outputs": [],
      "metadata": {}
    },
    {
      "cell_type": "markdown",
      "source": "**Data analysis**",
      "metadata": {}
    },
    {
      "cell_type": "code",
      "source": "train_data.head(2)",
      "execution_count": null,
      "outputs": [],
      "metadata": {}
    },
    {
      "cell_type": "code",
      "source": "#let's check if we have missing data\ntrain_data.info()",
      "execution_count": null,
      "outputs": [],
      "metadata": {}
    },
    {
      "cell_type": "code",
      "source": "#let's take a look at data distributions\nfig, axes = plt.subplots(3, 3, figsize=(9, 10))\n\nsns.countplot(x='Survived', data=train_data, ax=axes[0,0])\nsns.countplot(x='Pclass', data=train_data, ax=axes[0,1])\nsns.countplot(x='Sex', data=train_data, ax=axes[0,2])\ntrain_data[[\"Age\", \"SibSp\", \"Parch\"]].hist(ax=axes[1,:])\ntrain_data[[\"Fare\"]].hist(ax=axes[2,0])\nsns.countplot(x='Embarked', data=train_data, ax=axes[2,1])",
      "execution_count": null,
      "outputs": [],
      "metadata": {}
    },
    {
      "cell_type": "code",
      "source": "#from first chart we can see that females had higher chances to survive\n#also we see that higher cabin class seems to give higher chance to survive too\nfig, (axis1,axis2) = plt.subplots(1,2,figsize=(9,4))\nsns.countplot(x='Survived', hue=\"Sex\", data=train_data, ax=axis1)\nsns.countplot(x='Survived', hue=\"Pclass\", data=train_data, ax=axis2)",
      "execution_count": null,
      "outputs": [],
      "metadata": {}
    },
    {
      "cell_type": "code",
      "source": "select = train_data[[\"Survived\", \"Pclass\", \"Age\", \"SibSp\", \"Parch\", \"Fare\"]]\n\nsex_mapping = {'female' : 0, 'male' : 1}\nembarked_mapping = {'S' : 0, 'Q' : 1, 'C' : 2}\n\nselect = select.assign(Sex=[sex_mapping[item] for item in train_data[\"Sex\"]])\nselect = select.assign(Embarked=[embarked_mapping[item] for item in train_data[\"Embarked\"].fillna('S')])",
      "execution_count": null,
      "outputs": [],
      "metadata": {}
    },
    {
      "cell_type": "code",
      "source": "#what we see here are 1) already mentioned correlation between Sex/Survived and Class/Survived \n#2) Fare/Class as expected 3) Age/Class (probably more aged people can afford to buy more expensive ones)\nsns.heatmap(select.corr().abs(), square=True, annot=True, cmap=\"OrRd\")",
      "execution_count": null,
      "outputs": [],
      "metadata": {}
    },
    {
      "cell_type": "markdown",
      "source": "**Missing data**",
      "metadata": {}
    },
    {
      "cell_type": "code",
      "source": "#There are only 2 missing point in Embarked column which could be filled with S \ntrain_data[\"Embarked\"] = train_data[\"Embarked\"].fillna('S')",
      "execution_count": null,
      "outputs": [],
      "metadata": {}
    },
    {
      "cell_type": "code",
      "source": "#There are almost 20% NA data points in Age so things might be little more complicated\ntrain_data[\"Age\"].describe()\n#We can fill them with mean according to Sex but let's try out another approach",
      "execution_count": null,
      "outputs": [],
      "metadata": {}
    },
    {
      "cell_type": "code",
      "source": "sns.boxplot(x=\"Pclass\", y=\"Age\", data=train_data);\n# According to this chart we might fill NA ages with means according to passenger cabin class\n# what would be better then previous  ",
      "execution_count": null,
      "outputs": [],
      "metadata": {}
    },
    {
      "cell_type": "code",
      "source": "# But let's try another approach and look at Name column. We can get passenger's Title from it:\ntrain_data[\"Title\"] = train_data[\"Name\"].map(lambda x: re.search(' ([A-Za-z]+)\\.', x).group(1))\nsns.countplot(y='Title', data=train_data, orient=\"v\")",
      "execution_count": null,
      "outputs": [],
      "metadata": {}
    },
    {
      "cell_type": "code",
      "source": "#now let's take a look who have a missing age by Title value\ntrain_data[\"Title\"][pd.isnull(train_data[\"Age\"])].value_counts()",
      "execution_count": null,
      "outputs": [],
      "metadata": {}
    },
    {
      "cell_type": "code",
      "source": "# we fill them by mean value according to Title and Class\ntrain_data[\"Age\"] = train_data.groupby(['Title', 'Pclass'])['Age'].transform(lambda x: x.replace(np.nan, x.mean()))",
      "execution_count": null,
      "outputs": [],
      "metadata": {}
    },
    {
      "cell_type": "code",
      "source": "# also there are few rows with zero ticket price\ntrain_data[train_data[\"Fare\"] == 0].head(3)",
      "execution_count": null,
      "outputs": [],
      "metadata": {}
    },
    {
      "cell_type": "code",
      "source": "#let's replace them with mean by class\ntrain_data[\"Fare\"] = train_data.groupby(['Pclass'])['Fare'].transform(lambda x: x.replace(0.0, x.mean()))",
      "execution_count": null,
      "outputs": [],
      "metadata": {}
    },
    {
      "cell_type": "code",
      "source": "sns.boxplot(x=\"Title\", \n            y=\"Age\", \n            order=[\"Capt\",\"Col\",\"Major\",\"Sir\",\"Lady\",\"Rev\",\n                   \"Dr\",\"Don\",\"Jonkheer\",\"Countess\",\"Mrs\", \n                    \"Ms\",\"Mr\",\"Mme\",\"Mlle\",\"Miss\",\"Master\"], \n            data=train_data);",
      "execution_count": null,
      "outputs": [],
      "metadata": {}
    },
    {
      "cell_type": "code",
      "source": "#Let's keep only 5 groups: Aristocratic, Mr, Mrs, Miss и Master\ndef change_title(title, fltr, new_title):\n    if title in fltr: return new_title\n    else: return title\n\ntrain_data[\"Title\"] = train_data[\"Title\"].map(lambda x: change_title(x, [\"Capt\", \"Col\", \"Don\", \n                                                                         \"Dr\", \"Jonkheer\", \"Lady\", \n                                                                         \"Major\", \"Rev\", \"Sir\", \"Countess\"], \"Aristocratic\"))\ntrain_data[\"Title\"] = train_data[\"Title\"].map(lambda x: change_title(x, [\"Ms\"], \"Mrs\"))\ntrain_data[\"Title\"] = train_data[\"Title\"].map(lambda x: change_title(x, [\"Mlle\", \"Mme\"], \"Miss\"))",
      "execution_count": null,
      "outputs": [],
      "metadata": {}
    },
    {
      "cell_type": "code",
      "source": "#looks nice!\nsns.boxplot(x=\"Title\", \n            y=\"Age\",\n            order=[\"Aristocratic\", \"Mrs\", \"Mr\", \"Miss\", \"Master\"],\n            data=train_data);",
      "execution_count": null,
      "outputs": [],
      "metadata": {}
    },
    {
      "cell_type": "code",
      "source": "#here we can see percentage survived according to Title\ntitle_perc = train_data[[\"Title\", \"Survived\"]].groupby(['Title'],as_index=False).mean()\nsns.barplot(x='Title', y='Survived', data=title_perc, palette=sns.color_palette(\"hls\", 8))",
      "execution_count": null,
      "outputs": [],
      "metadata": {}
    },
    {
      "cell_type": "code",
      "source": "#So we can prove again that it was more likely to survive for a women of 1 and 2 classes\n#or for men of 1 class mostly\nfig, (axis1,axis2) = plt.subplots(1,2,figsize=(9,6))\nsns.stripplot(x=\"Pclass\", y=\"Age\", hue=\"Survived\", \n              data=train_data[train_data[\"Sex\"] == \"female\"], jitter=True, ax=axis1)\nsns.stripplot(x=\"Pclass\", y=\"Age\", hue=\"Survived\", \n              data=train_data[train_data[\"Sex\"] == \"male\"], jitter=True, ax=axis2)",
      "execution_count": null,
      "outputs": [],
      "metadata": {}
    },
    {
      "cell_type": "code",
      "source": "#what about relatives onboard? Let's see how survival depends on Family size\ntrain_data[\"Family\"] = train_data[\"SibSp\"] + train_data[\"Parch\"]\nsns.countplot(x='Family', hue=\"Survived\", data=train_data[train_data[\"Sex\"] == \"male\"])",
      "execution_count": null,
      "outputs": [],
      "metadata": {}
    },
    {
      "cell_type": "code",
      "source": "#let's also add new binary column Single if psngr doesn't have family onboard\ntrain_data[\"Single\"] = (train_data[\"Family\"] == 0).astype(int)",
      "execution_count": null,
      "outputs": [],
      "metadata": {}
    },
    {
      "cell_type": "code",
      "source": "#CABIN. We don't have many cabin numbers available (20%) so there are no point in analysing it \n# but what can we get from availability of these numbers?\ntrain_data[\"Cabin\"] = train_data[\"Cabin\"].map(lambda x: 0 if (pd.isnull(x)) else 1)",
      "execution_count": null,
      "outputs": [],
      "metadata": {}
    },
    {
      "cell_type": "code",
      "source": "fig, (axis1,axis2) = plt.subplots(1,2,figsize=(9,6))\nsns.countplot(x='Cabin', hue=\"Survived\", data=train_data, ax=axis1)\nsns.countplot(x='Cabin', hue=\"Survived\", \n              data=train_data[train_data[\"Sex\"] == \"male\"], ax=axis2)\n\n#so we see it may be important one specially for men",
      "execution_count": null,
      "outputs": [],
      "metadata": {}
    },
    {
      "cell_type": "code",
      "source": "#so we grab all features and let's look at a correlation between them:\nX = train_data[[\"Survived\", \"Age\", \"Family\", \"Fare\", \"Single\", \"Cabin\"]]\n\nX[\"BigFamily\"] = (train_data[\"Family\"] > 3).astype(int)\nX[\"SmallFamily\"] = (train_data[\"Family\"] < 4).astype(int)\n\n#Sex as Male\nX = X.assign(Male=[{'female' : 0, 'male' : 1}[item] for item in train_data[\"Sex\"]])\n\n#Titles\ntitle_dummies_titanic  = pd.get_dummies(train_data['Title'])\ntitle_dummies_titanic.columns = ['Aristocratic','Mr','Master','Miss','Mrs']\nX = X.join(title_dummies_titanic)\n\n#Pclass\nclass_dummies_titanic  = pd.get_dummies(train_data['Pclass'])\nclass_dummies_titanic.columns = ['Class1','Class2','Class3']\nX = X.join(class_dummies_titanic)\n\n#Embarked\nembarked_dummies_titanic  = pd.get_dummies(train_data['Embarked'])\nembarked_dummies_titanic.columns = ['EmbarkedP','EmbarkedQ','EmbarkedS']\nX = X.join(embarked_dummies_titanic)\n\nsns.heatmap(X.corr(), square=True, annot=True, annot_kws={'fontsize' :8}, cmap=\"OrRd\")",
      "execution_count": null,
      "outputs": [],
      "metadata": {}
    },
    {
      "cell_type": "code",
      "source": "#All columns:\nX.columns",
      "execution_count": null,
      "outputs": [],
      "metadata": {}
    },
    {
      "cell_type": "code",
      "source": "def run_model(regressor, data, X_features, y_features):    \n    X_ = data[X_features]\n    y_ = data[y_features]\n    \n    accuracy_scoring = cross_validation.cross_val_score(regressor, X_, y_, scoring = accuracy_scorer, cv = cv_strategy)\n    roc_auc_scoring = cross_validation.cross_val_score(regressor, X_, y_, scoring = roc_auc_scorer, cv = cv_strategy)\n\n    print(\"Accuracy mean:\", accuracy_scoring.mean())\n    print(\"ROC AUC mean:\", roc_auc_scoring.mean())\n    \n    for w in list(zip([ '%.2f' % elem for elem in regressor.fit(X_, y_).coef_[0]], X_.columns)):\n        print(w)\n    \n#lets create 2 scores to score our models\naccuracy_scorer = metrics.make_scorer(metrics.accuracy_score)\nroc_auc_scorer = metrics.make_scorer(metrics.roc_auc_score) \n\ncv_strategy = cross_validation.StratifiedShuffleSplit(X[\"Survived\"], n_iter = 20 , \n                                                      test_size = 0.2, \n                                                      random_state = 2)\n\nlr = linear_model.LogisticRegression(C=0.1)\nrun_model(lr, X, ['Age', 'Family', 'Fare', 'Single', 'Cabin', 'BigFamily',\n           'Male', 'Mr', 'Master', 'Miss', 'Mrs', 'Class2', 'Class3', 'EmbarkedQ',\n           'EmbarkedS'], \"Survived\")",
      "execution_count": null,
      "outputs": [],
      "metadata": {}
    },
    {
      "cell_type": "code",
      "source": "#let's remove Fare (not statistical reasonable) and Sex (as Title already contains it) and EmbarkedQ\n\nrun_model(lr, X, ['Age', 'Family', 'Single', 'Cabin', 'BigFamily',\n           'Mr', 'Master', 'Miss', 'Mrs', 'Class2', 'Class3',\n           'EmbarkedS'], \"Survived\")",
      "execution_count": null,
      "outputs": [],
      "metadata": {}
    },
    {
      "cell_type": "code",
      "source": "#let's remove Single (we have Family) and create separate feature for 3class men\n\nX[\"Mr_Class3\"] = (X[\"Class3\"] * X[\"Mr\"] == 1).astype(int)\n\nrun_model(lr, X, ['Age', 'Family', 'Cabin', 'Mr_Class3',\n           'Master', 'Miss', 'Mrs', 'Class2', 'Class3',\n           'EmbarkedS'], \"Survived\")",
      "execution_count": null,
      "outputs": [],
      "metadata": {}
    },
    {
      "cell_type": "code",
      "source": "#Ok last chance. Lets do feature scalling for Age\nX[\"Age\"] = (X[\"Age\"] - X[\"Age\"].mean())/X[\"Age\"].std()\nrun_model(lr, X, ['Age', 'Family', 'Cabin', 'Mr_Class3',\n           'Master', 'Miss', 'Mrs', 'Class2', 'Class3',\n           'EmbarkedS'], \"Survived\")",
      "execution_count": null,
      "outputs": [],
      "metadata": {}
    },
    {
      "cell_type": "code",
      "source": "#Now lets try with Random forest\ndef run_model(regressor, data, X_features, y_features):    \n    X_ = data[X_features]\n    y_ = data[y_features]\n    \n    accuracy_scoring = cross_validation.cross_val_score(regressor, X_, y_, scoring = accuracy_scorer, cv = cv_strategy)\n    roc_auc_scoring = cross_validation.cross_val_score(regressor, X_, y_, scoring = roc_auc_scorer, cv = cv_strategy)\n\n    print(\"Accuracy mean:\", accuracy_scoring.mean())\n    print(\"ROC AUC mean:\", roc_auc_scoring.mean())\n\nrfc = RandomForestClassifier(n_estimators=200)\nrun_model(rfc, X, ['Age', 'Family', 'Fare', 'Single', 'Cabin', 'BigFamily',\n           'Male', 'Mr', 'Master', 'Miss', 'Mrs', 'Class2', 'Class3', 'EmbarkedQ',\n           'EmbarkedS'], \"Survived\")\n\nrun_model(rfc, X, ['Age', 'Family', 'Single', 'Cabin', 'BigFamily',\n           'Mr', 'Master', 'Miss', 'Mrs', 'Class2', 'Class3',\n           'EmbarkedS'], \"Survived\")\n\nrun_model(rfc, X, ['Age', 'Family', 'Cabin', 'Mr_Class3',\n           'Master', 'Miss', 'Mrs', 'Class2', 'Class3',\n           'EmbarkedS'], \"Survived\")",
      "execution_count": null,
      "outputs": [],
      "metadata": {}
    },
    {
      "cell_type": "code",
      "source": "#we see that we don't increase random forest score anyhow. lets try GradientBoostingClassifier\ncls = GradientBoostingClassifier()\nrun_model(cls, X, ['Age', 'Family', 'Fare', 'Single', 'Cabin', 'BigFamily',\n           'Male', 'Mr', 'Master', 'Miss', 'Mrs', 'Class2', 'Class3', 'EmbarkedQ',\n           'EmbarkedS'], \"Survived\")\nrun_model(cls, X, ['Age', 'Family', 'Single', 'Cabin', 'BigFamily',\n           'Mr', 'Master', 'Miss', 'Mrs', 'Class2', 'Class3',\n           'EmbarkedS'], \"Survived\")\nrun_model(cls, X, ['Age', 'Family', 'Cabin', 'Mr_Class3',\n           'Master', 'Miss', 'Mrs', 'Class2', 'Class3',\n           'EmbarkedS'], \"Survived\")",
      "execution_count": null,
      "outputs": [],
      "metadata": {}
    },
    {
      "cell_type": "code",
      "source": "#that was little better. let's try out with SVM:\nfrom sklearn.svm import SVC\n\n#SVC is very sensitive to unscalled data\nX[\"Fare\"] = (X[\"Fare\"] - X[\"Fare\"].mean())/X[\"Fare\"].std()\n\nlin_svm = SVC(C=0.5)\nrun_model(lin_svm, X, ['Age', 'Family', 'Fare', 'Single', 'Cabin', 'BigFamily',\n           'Male', 'Mr', 'Master', 'Miss', 'Mrs', 'Class2', 'Class3', 'EmbarkedQ',\n           'EmbarkedS'], \"Survived\")\nrun_model(lin_svm, X, ['Age', 'Family', 'Single', 'Cabin', 'BigFamily',\n           'Mr', 'Master', 'Miss', 'Mrs', 'Class2', 'Class3',\n           'EmbarkedS'], \"Survived\")\nrun_model(lin_svm, X, ['Age', 'Family', 'Cabin', 'Mr_Class3',\n           'Master', 'Miss', 'Mrs', 'Class2', 'Class3',\n           'EmbarkedS'], \"Survived\")",
      "execution_count": null,
      "outputs": [],
      "metadata": {}
    },
    {
      "cell_type": "code",
      "source": "#So as we see SVC predict better than other methods so let's try to predict survivals for our test data\ntest_data.info()",
      "execution_count": null,
      "outputs": [],
      "metadata": {}
    },
    {
      "cell_type": "code",
      "source": "#let's fill missing data as we did for train data AGE\ntest_data[\"Title\"] = test_data[\"Name\"].map(lambda x: re.search(' ([A-Za-z]+)\\.', x).group(1))\ntest_data[\"Title\"] = test_data[\"Title\"].map(lambda x: change_title(x, [\"Capt\", \"Col\", \"Don\", \"Dona\", \n                                                                         \"Dr\", \"Jonkheer\", \"Lady\", \n                                                                         \"Major\", \"Rev\", \"Sir\", \"Countess\"], \"Aristocratic\"))\ntest_data[\"Title\"] = test_data[\"Title\"].map(lambda x: change_title(x, [\"Ms\"], \"Mrs\"))\ntest_data[\"Title\"] = test_data[\"Title\"].map(lambda x: change_title(x, [\"Mlle\", \"Mme\"], \"Miss\"))\n\ntest_data[\"Age\"] = test_data.groupby(['Title', 'Pclass'])['Age'].transform(lambda x: x.replace(np.nan, x.mean()))",
      "execution_count": null,
      "outputs": [],
      "metadata": {}
    },
    {
      "cell_type": "code",
      "source": "#missing Fare\ntest_data[\"Fare\"] = test_data.groupby(['Pclass'])['Fare'].transform(lambda x: x.replace(0.0, x.mean()))\ntest_data[\"Fare\"] = test_data.groupby(['Pclass'])['Fare'].transform(lambda x: x.replace(np.nan, x.mean()))",
      "execution_count": null,
      "outputs": [],
      "metadata": {}
    },
    {
      "cell_type": "code",
      "source": "#missing cabin\ntest_data[\"Cabin\"] = test_data[\"Cabin\"].map(lambda x: 0 if (pd.isnull(x)) else 1)",
      "execution_count": null,
      "outputs": [],
      "metadata": {}
    },
    {
      "cell_type": "code",
      "source": "test_data[\"Family\"] = test_data[\"SibSp\"] + test_data[\"Parch\"]\ntest_data[\"Single\"] = (test_data[\"Family\"] == 0).astype(int)\ntest_data.drop(\"Name\", axis=1, inplace=True)\ntest_data.drop(\"Ticket\", axis=1, inplace=True)",
      "execution_count": null,
      "outputs": [],
      "metadata": {}
    },
    {
      "cell_type": "code",
      "source": "T = test_data[[\"Age\", \"Fare\", \"Single\", \"Cabin\"]]\n\nT[\"BigFamily\"] = (test_data[\"Family\"] > 3).astype(int)\nT[\"SmallFamily\"] = (test_data[\"Family\"] < 4).astype(int)\n\n#Sex as Male\nT = T.assign(Male=[{'female' : 0, 'male' : 1}[item] for item in test_data[\"Sex\"]])\n\n#Titles\ntitle_dummies_test  = pd.get_dummies(test_data['Title'])\ntitle_dummies_test.columns = ['Aristocratic','Mr','Master','Miss','Mrs']\nT = T.join(title_dummies_test)\n\n#Pclass\nclass_dummies_test  = pd.get_dummies(test_data['Pclass'])\nclass_dummies_test.columns = ['Class1','Class2','Class3']\nT = T.join(class_dummies_test)\n\n#Embarked\nembarked_dummies_test  = pd.get_dummies(test_data['Embarked'])\nembarked_dummies_test.columns = ['EmbarkedP','EmbarkedQ','EmbarkedS']\nT = T.join(embarked_dummies_test)",
      "execution_count": null,
      "outputs": [],
      "metadata": {}
    },
    {
      "cell_type": "code",
      "source": "#also scalling for test data\nT[\"Fare\"] = (T[\"Fare\"] - T[\"Fare\"].mean())/T[\"Fare\"].std()\nT[\"Age\"] = (T[\"Age\"] - T[\"Age\"].mean())/T[\"Age\"].std()",
      "execution_count": null,
      "outputs": [],
      "metadata": {}
    },
    {
      "cell_type": "code",
      "source": "X.head()",
      "execution_count": null,
      "outputs": [],
      "metadata": {}
    },
    {
      "cell_type": "code",
      "source": "cols = ['Age', 'Fare', 'Single', 'Cabin', 'BigFamily', 'SmallFamily',\n           'Male', 'Mr', 'Master', 'Miss', 'Mrs', 'Aristocratic', 'Class1', 'Class2', 'Class3']",
      "execution_count": null,
      "outputs": [],
      "metadata": {}
    },
    {
      "cell_type": "code",
      "source": "from sklearn.ensemble import ExtraTreesClassifier\nfrom sklearn.feature_selection import SelectFromModel\n\nclf = ExtraTreesClassifier(n_estimators=200)\nclf = clf.fit(X[cols], X[\"Survived\"])\n\nfeatures = pd.DataFrame()\nfeatures['feature'] = cols\nfeatures['importance'] = clf.feature_importances_\nfeatures.sort(['importance'],ascending=False)",
      "execution_count": null,
      "outputs": [],
      "metadata": {}
    },
    {
      "cell_type": "code",
      "source": "cols = ['Age', 'Fare', 'Single', 'Cabin', 'BigFamily',\n           'Male', 'Master', 'Miss', 'Mrs', 'Class2', 'Class3']",
      "execution_count": null,
      "outputs": [],
      "metadata": {}
    },
    {
      "cell_type": "code",
      "source": "#and finally let's predict survivals!!!\nrfc = RandomForestClassifier(max_features='sqrt', n_estimators=210, criterion='gini', max_depth=4)\n\nrfc.fit(X[cols], X[\"Survived\"])\nprint(metrics.accuracy_score(rfc.predict(X[cols]), X[\"Survived\"]))",
      "execution_count": null,
      "outputs": [],
      "metadata": {}
    },
    {
      "cell_type": "code",
      "source": "svm = SVC(C=0.5)\nsvm.fit(X[cols], X[\"Survived\"])\nprint(metrics.accuracy_score(svm.predict(X[cols]), X[\"Survived\"]))\n\npredictions = svm.predict(T[cols])",
      "execution_count": null,
      "outputs": [],
      "metadata": {}
    },
    {
      "cell_type": "code",
      "source": "submission = pd.DataFrame({\n        \"PassengerId\": test_data[\"PassengerId\"],\n        \"Survived\": predictions\n    })\nsubmission.to_csv('titanic.csv', index=False)",
      "execution_count": null,
      "outputs": [],
      "metadata": {}
    },
    {
      "cell_type": "code",
      "source": "",
      "execution_count": null,
      "outputs": [],
      "metadata": {}
    }
  ]
}